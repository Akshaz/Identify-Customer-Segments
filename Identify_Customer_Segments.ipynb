{
 "cells": [
  {
   "cell_type": "markdown",
   "metadata": {},
   "source": [
    "# Project: Identify Customer Segments\n",
    "\n",
    "In this project, you will apply unsupervised learning techniques to identify segments of the population that form the core customer base for a mail-order sales company in Germany. These segments can then be used to direct marketing campaigns towards audiences that will have the highest expected rate of returns. The data that you will use has been provided by our partners at Bertelsmann Arvato Analytics, and represents a real-life data science task.\n",
    "\n",
    "This notebook will help you complete this task by providing a framework within which you will perform your analysis steps. In each step of the project, you will see some text describing the subtask that you will perform, followed by one or more code cells for you to complete your work. **Feel free to add additional code and markdown cells as you go along so that you can explore everything in precise chunks.** The code cells provided in the base template will outline only the major tasks, and will usually not be enough to cover all of the minor tasks that comprise it.\n",
    "\n",
    "It should be noted that while there will be precise guidelines on how you should handle certain tasks in the project, there will also be places where an exact specification is not provided. **There will be times in the project where you will need to make and justify your own decisions on how to treat the data.** These are places where there may not be only one way to handle the data. In real-life tasks, there may be many valid ways to approach an analysis task. One of the most important things you can do is clearly document your approach so that other scientists can understand the decisions you've made.\n",
    "\n",
    "At the end of most sections, there will be a Markdown cell labeled **Discussion**. In these cells, you will report your findings for the completed section, as well as document the decisions that you made in your approach to each subtask. **Your project will be evaluated not just on the code used to complete the tasks outlined, but also your communication about your observations and conclusions at each stage.**"
   ]
  },
  {
   "cell_type": "code",
   "execution_count": 1,
   "metadata": {},
   "outputs": [
    {
     "data": {
      "text/plain": [
       "'\\nImport note: The classroom currently uses sklearn version 0.19.\\nIf you need to use an imputer, it is available in sklearn.preprocessing.Imputer,\\ninstead of sklearn.impute as in newer versions of sklearn.\\n'"
      ]
     },
     "execution_count": 1,
     "metadata": {},
     "output_type": "execute_result"
    }
   ],
   "source": [
    "# import libraries here; add more as necessary\n",
    "import numpy as np\n",
    "import pandas as pd\n",
    "import matplotlib.pyplot as plt\n",
    "import seaborn as sns\n",
    "from sklearn.preprocessing import Imputer, StandardScaler\n",
    "from sklearn.cluster import KMeans\n",
    "from sklearn.decomposition import PCA\n",
    "import operator\n",
    "\n",
    "# magic word for producing visualizations in notebook\n",
    "%matplotlib inline\n",
    "\n",
    "'''\n",
    "Import note: The classroom currently uses sklearn version 0.19.\n",
    "If you need to use an imputer, it is available in sklearn.preprocessing.Imputer,\n",
    "instead of sklearn.impute as in newer versions of sklearn.\n",
    "'''"
   ]
  },
  {
   "cell_type": "markdown",
   "metadata": {},
   "source": [
    "### Step 0: Load the Data\n",
    "\n",
    "There are four files associated with this project (not including this one):\n",
    "\n",
    "- `Udacity_AZDIAS_Subset.csv`: Demographics data for the general population of Germany; 891211 persons (rows) x 85 features (columns).\n",
    "- `Udacity_CUSTOMERS_Subset.csv`: Demographics data for customers of a mail-order company; 191652 persons (rows) x 85 features (columns).\n",
    "- `Data_Dictionary.md`: Detailed information file about the features in the provided datasets.\n",
    "- `AZDIAS_Feature_Summary.csv`: Summary of feature attributes for demographics data; 85 features (rows) x 4 columns\n",
    "\n",
    "Each row of the demographics files represents a single person, but also includes information outside of individuals, including information about their household, building, and neighborhood. You will use this information to cluster the general population into groups with similar demographic properties. Then, you will see how the people in the customers dataset fit into those created clusters. The hope here is that certain clusters are over-represented in the customers data, as compared to the general population; those over-represented clusters will be assumed to be part of the core userbase. This information can then be used for further applications, such as targeting for a marketing campaign.\n",
    "\n",
    "To start off with, load in the demographics data for the general population into a pandas DataFrame, and do the same for the feature attributes summary. Note for all of the `.csv` data files in this project: they're semicolon (`;`) delimited, so you'll need an additional argument in your [`read_csv()`](https://pandas.pydata.org/pandas-docs/stable/generated/pandas.read_csv.html) call to read in the data properly. Also, considering the size of the main dataset, it may take some time for it to load completely.\n",
    "\n",
    "Once the dataset is loaded, it's recommended that you take a little bit of time just browsing the general structure of the dataset and feature summary file. You'll be getting deep into the innards of the cleaning in the first major step of the project, so gaining some general familiarity can help you get your bearings."
   ]
  },
  {
   "cell_type": "code",
   "execution_count": 2,
   "metadata": {},
   "outputs": [],
   "source": [
    "# Load in the general demographics data.\n",
    "azdias = pd.read_csv(\"Udacity_AZDIAS_Subset.csv\", sep=\";\")\n",
    "\n",
    "# Load in the feature summary file.\n",
    "feat_info = pd.read_csv(\"AZDIAS_Feature_Summary.csv\", sep=\";\")"
   ]
  },
  {
   "cell_type": "code",
   "execution_count": 3,
   "metadata": {},
   "outputs": [
    {
     "name": "stdout",
     "output_type": "stream",
     "text": [
      "(891221, 85)\n"
     ]
    },
    {
     "data": {
      "text/html": [
       "<div>\n",
       "<style scoped>\n",
       "    .dataframe tbody tr th:only-of-type {\n",
       "        vertical-align: middle;\n",
       "    }\n",
       "\n",
       "    .dataframe tbody tr th {\n",
       "        vertical-align: top;\n",
       "    }\n",
       "\n",
       "    .dataframe thead th {\n",
       "        text-align: right;\n",
       "    }\n",
       "</style>\n",
       "<table border=\"1\" class=\"dataframe\">\n",
       "  <thead>\n",
       "    <tr style=\"text-align: right;\">\n",
       "      <th></th>\n",
       "      <th>AGER_TYP</th>\n",
       "      <th>ALTERSKATEGORIE_GROB</th>\n",
       "      <th>ANREDE_KZ</th>\n",
       "      <th>CJT_GESAMTTYP</th>\n",
       "      <th>FINANZ_MINIMALIST</th>\n",
       "      <th>FINANZ_SPARER</th>\n",
       "      <th>FINANZ_VORSORGER</th>\n",
       "      <th>FINANZ_ANLEGER</th>\n",
       "      <th>FINANZ_UNAUFFAELLIGER</th>\n",
       "      <th>FINANZ_HAUSBAUER</th>\n",
       "      <th>...</th>\n",
       "      <th>PLZ8_ANTG1</th>\n",
       "      <th>PLZ8_ANTG2</th>\n",
       "      <th>PLZ8_ANTG3</th>\n",
       "      <th>PLZ8_ANTG4</th>\n",
       "      <th>PLZ8_BAUMAX</th>\n",
       "      <th>PLZ8_HHZ</th>\n",
       "      <th>PLZ8_GBZ</th>\n",
       "      <th>ARBEIT</th>\n",
       "      <th>ORTSGR_KLS9</th>\n",
       "      <th>RELAT_AB</th>\n",
       "    </tr>\n",
       "  </thead>\n",
       "  <tbody>\n",
       "    <tr>\n",
       "      <th>0</th>\n",
       "      <td>-1</td>\n",
       "      <td>2</td>\n",
       "      <td>1</td>\n",
       "      <td>2.0</td>\n",
       "      <td>3</td>\n",
       "      <td>4</td>\n",
       "      <td>3</td>\n",
       "      <td>5</td>\n",
       "      <td>5</td>\n",
       "      <td>3</td>\n",
       "      <td>...</td>\n",
       "      <td>NaN</td>\n",
       "      <td>NaN</td>\n",
       "      <td>NaN</td>\n",
       "      <td>NaN</td>\n",
       "      <td>NaN</td>\n",
       "      <td>NaN</td>\n",
       "      <td>NaN</td>\n",
       "      <td>NaN</td>\n",
       "      <td>NaN</td>\n",
       "      <td>NaN</td>\n",
       "    </tr>\n",
       "    <tr>\n",
       "      <th>1</th>\n",
       "      <td>-1</td>\n",
       "      <td>1</td>\n",
       "      <td>2</td>\n",
       "      <td>5.0</td>\n",
       "      <td>1</td>\n",
       "      <td>5</td>\n",
       "      <td>2</td>\n",
       "      <td>5</td>\n",
       "      <td>4</td>\n",
       "      <td>5</td>\n",
       "      <td>...</td>\n",
       "      <td>2.0</td>\n",
       "      <td>3.0</td>\n",
       "      <td>2.0</td>\n",
       "      <td>1.0</td>\n",
       "      <td>1.0</td>\n",
       "      <td>5.0</td>\n",
       "      <td>4.0</td>\n",
       "      <td>3.0</td>\n",
       "      <td>5.0</td>\n",
       "      <td>4.0</td>\n",
       "    </tr>\n",
       "    <tr>\n",
       "      <th>2</th>\n",
       "      <td>-1</td>\n",
       "      <td>3</td>\n",
       "      <td>2</td>\n",
       "      <td>3.0</td>\n",
       "      <td>1</td>\n",
       "      <td>4</td>\n",
       "      <td>1</td>\n",
       "      <td>2</td>\n",
       "      <td>3</td>\n",
       "      <td>5</td>\n",
       "      <td>...</td>\n",
       "      <td>3.0</td>\n",
       "      <td>3.0</td>\n",
       "      <td>1.0</td>\n",
       "      <td>0.0</td>\n",
       "      <td>1.0</td>\n",
       "      <td>4.0</td>\n",
       "      <td>4.0</td>\n",
       "      <td>3.0</td>\n",
       "      <td>5.0</td>\n",
       "      <td>2.0</td>\n",
       "    </tr>\n",
       "    <tr>\n",
       "      <th>3</th>\n",
       "      <td>2</td>\n",
       "      <td>4</td>\n",
       "      <td>2</td>\n",
       "      <td>2.0</td>\n",
       "      <td>4</td>\n",
       "      <td>2</td>\n",
       "      <td>5</td>\n",
       "      <td>2</td>\n",
       "      <td>1</td>\n",
       "      <td>2</td>\n",
       "      <td>...</td>\n",
       "      <td>2.0</td>\n",
       "      <td>2.0</td>\n",
       "      <td>2.0</td>\n",
       "      <td>0.0</td>\n",
       "      <td>1.0</td>\n",
       "      <td>3.0</td>\n",
       "      <td>4.0</td>\n",
       "      <td>2.0</td>\n",
       "      <td>3.0</td>\n",
       "      <td>3.0</td>\n",
       "    </tr>\n",
       "    <tr>\n",
       "      <th>4</th>\n",
       "      <td>-1</td>\n",
       "      <td>3</td>\n",
       "      <td>1</td>\n",
       "      <td>5.0</td>\n",
       "      <td>4</td>\n",
       "      <td>3</td>\n",
       "      <td>4</td>\n",
       "      <td>1</td>\n",
       "      <td>3</td>\n",
       "      <td>2</td>\n",
       "      <td>...</td>\n",
       "      <td>2.0</td>\n",
       "      <td>4.0</td>\n",
       "      <td>2.0</td>\n",
       "      <td>1.0</td>\n",
       "      <td>2.0</td>\n",
       "      <td>3.0</td>\n",
       "      <td>3.0</td>\n",
       "      <td>4.0</td>\n",
       "      <td>6.0</td>\n",
       "      <td>5.0</td>\n",
       "    </tr>\n",
       "  </tbody>\n",
       "</table>\n",
       "<p>5 rows × 85 columns</p>\n",
       "</div>"
      ],
      "text/plain": [
       "   AGER_TYP  ALTERSKATEGORIE_GROB  ANREDE_KZ  CJT_GESAMTTYP  \\\n",
       "0        -1                     2          1            2.0   \n",
       "1        -1                     1          2            5.0   \n",
       "2        -1                     3          2            3.0   \n",
       "3         2                     4          2            2.0   \n",
       "4        -1                     3          1            5.0   \n",
       "\n",
       "   FINANZ_MINIMALIST  FINANZ_SPARER  FINANZ_VORSORGER  FINANZ_ANLEGER  \\\n",
       "0                  3              4                 3               5   \n",
       "1                  1              5                 2               5   \n",
       "2                  1              4                 1               2   \n",
       "3                  4              2                 5               2   \n",
       "4                  4              3                 4               1   \n",
       "\n",
       "   FINANZ_UNAUFFAELLIGER  FINANZ_HAUSBAUER    ...     PLZ8_ANTG1  PLZ8_ANTG2  \\\n",
       "0                      5                 3    ...            NaN         NaN   \n",
       "1                      4                 5    ...            2.0         3.0   \n",
       "2                      3                 5    ...            3.0         3.0   \n",
       "3                      1                 2    ...            2.0         2.0   \n",
       "4                      3                 2    ...            2.0         4.0   \n",
       "\n",
       "   PLZ8_ANTG3  PLZ8_ANTG4  PLZ8_BAUMAX  PLZ8_HHZ  PLZ8_GBZ  ARBEIT  \\\n",
       "0         NaN         NaN          NaN       NaN       NaN     NaN   \n",
       "1         2.0         1.0          1.0       5.0       4.0     3.0   \n",
       "2         1.0         0.0          1.0       4.0       4.0     3.0   \n",
       "3         2.0         0.0          1.0       3.0       4.0     2.0   \n",
       "4         2.0         1.0          2.0       3.0       3.0     4.0   \n",
       "\n",
       "   ORTSGR_KLS9  RELAT_AB  \n",
       "0          NaN       NaN  \n",
       "1          5.0       4.0  \n",
       "2          5.0       2.0  \n",
       "3          3.0       3.0  \n",
       "4          6.0       5.0  \n",
       "\n",
       "[5 rows x 85 columns]"
      ]
     },
     "execution_count": 3,
     "metadata": {},
     "output_type": "execute_result"
    }
   ],
   "source": [
    "# Check the structure of the data after it's loaded (e.g. print the number of\n",
    "# rows and columns, print the first few rows).\n",
    "print(azdias.shape)\n",
    "azdias.head()"
   ]
  },
  {
   "cell_type": "code",
   "execution_count": 4,
   "metadata": {},
   "outputs": [
    {
     "name": "stdout",
     "output_type": "stream",
     "text": [
      "(85, 4)\n"
     ]
    },
    {
     "data": {
      "text/html": [
       "<div>\n",
       "<style scoped>\n",
       "    .dataframe tbody tr th:only-of-type {\n",
       "        vertical-align: middle;\n",
       "    }\n",
       "\n",
       "    .dataframe tbody tr th {\n",
       "        vertical-align: top;\n",
       "    }\n",
       "\n",
       "    .dataframe thead th {\n",
       "        text-align: right;\n",
       "    }\n",
       "</style>\n",
       "<table border=\"1\" class=\"dataframe\">\n",
       "  <thead>\n",
       "    <tr style=\"text-align: right;\">\n",
       "      <th></th>\n",
       "      <th>attribute</th>\n",
       "      <th>information_level</th>\n",
       "      <th>type</th>\n",
       "      <th>missing_or_unknown</th>\n",
       "    </tr>\n",
       "  </thead>\n",
       "  <tbody>\n",
       "    <tr>\n",
       "      <th>0</th>\n",
       "      <td>AGER_TYP</td>\n",
       "      <td>person</td>\n",
       "      <td>categorical</td>\n",
       "      <td>[-1,0]</td>\n",
       "    </tr>\n",
       "    <tr>\n",
       "      <th>1</th>\n",
       "      <td>ALTERSKATEGORIE_GROB</td>\n",
       "      <td>person</td>\n",
       "      <td>ordinal</td>\n",
       "      <td>[-1,0,9]</td>\n",
       "    </tr>\n",
       "    <tr>\n",
       "      <th>2</th>\n",
       "      <td>ANREDE_KZ</td>\n",
       "      <td>person</td>\n",
       "      <td>categorical</td>\n",
       "      <td>[-1,0]</td>\n",
       "    </tr>\n",
       "    <tr>\n",
       "      <th>3</th>\n",
       "      <td>CJT_GESAMTTYP</td>\n",
       "      <td>person</td>\n",
       "      <td>categorical</td>\n",
       "      <td>[0]</td>\n",
       "    </tr>\n",
       "    <tr>\n",
       "      <th>4</th>\n",
       "      <td>FINANZ_MINIMALIST</td>\n",
       "      <td>person</td>\n",
       "      <td>ordinal</td>\n",
       "      <td>[-1]</td>\n",
       "    </tr>\n",
       "  </tbody>\n",
       "</table>\n",
       "</div>"
      ],
      "text/plain": [
       "              attribute information_level         type missing_or_unknown\n",
       "0              AGER_TYP            person  categorical             [-1,0]\n",
       "1  ALTERSKATEGORIE_GROB            person      ordinal           [-1,0,9]\n",
       "2             ANREDE_KZ            person  categorical             [-1,0]\n",
       "3         CJT_GESAMTTYP            person  categorical                [0]\n",
       "4     FINANZ_MINIMALIST            person      ordinal               [-1]"
      ]
     },
     "execution_count": 4,
     "metadata": {},
     "output_type": "execute_result"
    }
   ],
   "source": [
    "print(feat_info.shape)\n",
    "feat_info.head()"
   ]
  },
  {
   "cell_type": "markdown",
   "metadata": {},
   "source": [
    "> **Tip**: Add additional cells to keep everything in reasonably-sized chunks! Keyboard shortcut `esc --> a` (press escape to enter command mode, then press the 'A' key) adds a new cell before the active cell, and `esc --> b` adds a new cell after the active cell. If you need to convert an active cell to a markdown cell, use `esc --> m` and to convert to a code cell, use `esc --> y`. \n",
    "\n",
    "## Step 1: Preprocessing\n",
    "\n",
    "### Step 1.1: Assess Missing Data\n",
    "\n",
    "The feature summary file contains a summary of properties for each demographics data column. You will use this file to help you make cleaning decisions during this stage of the project. First of all, you should assess the demographics data in terms of missing data. Pay attention to the following points as you perform your analysis, and take notes on what you observe. Make sure that you fill in the **Discussion** cell with your findings and decisions at the end of each step that has one!\n",
    "\n",
    "#### Step 1.1.1: Convert Missing Value Codes to NaNs\n",
    "The fourth column of the feature attributes summary (loaded in above as `feat_info`) documents the codes from the data dictionary that indicate missing or unknown data. While the file encodes this as a list (e.g. `[-1,0]`), this will get read in as a string object. You'll need to do a little bit of parsing to make use of it to identify and clean the data. Convert data that matches a 'missing' or 'unknown' value code into a numpy NaN value. You might want to see how much data takes on a 'missing' or 'unknown' code, and how much data is naturally missing, as a point of interest.\n",
    "\n",
    "**As one more reminder, you are encouraged to add additional cells to break up your analysis into manageable chunks.**"
   ]
  },
  {
   "cell_type": "code",
   "execution_count": 5,
   "metadata": {},
   "outputs": [],
   "source": [
    "def RepresentsInt(s):\n",
    "    try: \n",
    "        int(s)\n",
    "        return True\n",
    "    except ValueError:\n",
    "        return False\n",
    "    \n",
    "def func(x):\n",
    "    return [int(l) if RepresentsInt(l) else l for l in x[1:-1].split(',')]\n",
    "\n",
    "feat_info['missing_or_unknown'] = feat_info['missing_or_unknown'].apply(func)"
   ]
  },
  {
   "cell_type": "code",
   "execution_count": 6,
   "metadata": {},
   "outputs": [],
   "source": [
    "for j in range(feat_info.shape[0]):\n",
    "    i = feat_info.loc[j, :]\n",
    "    azdias.loc[azdias[i.attribute].isin(i['missing_or_unknown']), i.attribute] = np.nan"
   ]
  },
  {
   "cell_type": "markdown",
   "metadata": {},
   "source": [
    "#### Step 1.1.2: Assess Missing Data in Each Column\n",
    "\n",
    "How much missing data is present in each column? There are a few columns that are outliers in terms of the proportion of values that are missing. You will want to use matplotlib's [`hist()`](https://matplotlib.org/api/_as_gen/matplotlib.pyplot.hist.html) function to visualize the distribution of missing value counts to find these columns. Identify and document these columns. While some of these columns might have justifications for keeping or re-encoding the data, for this project you should just remove them from the dataframe. (Feel free to make remarks about these outlier columns in the discussion, however!)\n",
    "\n",
    "For the remaining features, are there any patterns in which columns have, or share, missing data?"
   ]
  },
  {
   "cell_type": "code",
   "execution_count": 7,
   "metadata": {
    "scrolled": true
   },
   "outputs": [
    {
     "data": {
      "text/plain": [
       "AGER_TYP                 685843\n",
       "ALTERSKATEGORIE_GROB       2881\n",
       "ANREDE_KZ                     0\n",
       "CJT_GESAMTTYP              4854\n",
       "FINANZ_MINIMALIST             0\n",
       "FINANZ_SPARER                 0\n",
       "FINANZ_VORSORGER              0\n",
       "FINANZ_ANLEGER                0\n",
       "FINANZ_UNAUFFAELLIGER         0\n",
       "FINANZ_HAUSBAUER              0\n",
       "FINANZTYP                     0\n",
       "GEBURTSJAHR              392318\n",
       "GFK_URLAUBERTYP            4854\n",
       "GREEN_AVANTGARDE              0\n",
       "HEALTH_TYP               111196\n",
       "LP_LEBENSPHASE_FEIN       97632\n",
       "LP_LEBENSPHASE_GROB       94572\n",
       "LP_FAMILIE_FEIN           77792\n",
       "LP_FAMILIE_GROB           77792\n",
       "LP_STATUS_FEIN             4854\n",
       "LP_STATUS_GROB             4854\n",
       "NATIONALITAET_KZ         108315\n",
       "PRAEGENDE_JUGENDJAHRE    108164\n",
       "RETOURTYP_BK_S             4854\n",
       "SEMIO_SOZ                     0\n",
       "SEMIO_FAM                     0\n",
       "SEMIO_REL                     0\n",
       "SEMIO_MAT                     0\n",
       "SEMIO_VERT                    0\n",
       "SEMIO_LUST                    0\n",
       "                          ...  \n",
       "OST_WEST_KZ               93148\n",
       "WOHNLAGE                  93148\n",
       "CAMEO_DEUG_2015           99352\n",
       "CAMEO_DEU_2015            99352\n",
       "CAMEO_INTL_2015           99352\n",
       "KBA05_ANTG1              133324\n",
       "KBA05_ANTG2              133324\n",
       "KBA05_ANTG3              133324\n",
       "KBA05_ANTG4              133324\n",
       "KBA05_BAUMAX             476524\n",
       "KBA05_GBZ                133324\n",
       "BALLRAUM                  93740\n",
       "EWDICHTE                  93740\n",
       "INNENSTADT                93740\n",
       "GEBAEUDETYP_RASTER        93155\n",
       "KKK                      158064\n",
       "MOBI_REGIO               133324\n",
       "ONLINE_AFFINITAET          4854\n",
       "REGIOTYP                 158064\n",
       "KBA13_ANZAHL_PKW         105800\n",
       "PLZ8_ANTG1               116515\n",
       "PLZ8_ANTG2               116515\n",
       "PLZ8_ANTG3               116515\n",
       "PLZ8_ANTG4               116515\n",
       "PLZ8_BAUMAX              116515\n",
       "PLZ8_HHZ                 116515\n",
       "PLZ8_GBZ                 116515\n",
       "ARBEIT                    97375\n",
       "ORTSGR_KLS9               97274\n",
       "RELAT_AB                  97375\n",
       "Length: 85, dtype: int64"
      ]
     },
     "execution_count": 7,
     "metadata": {},
     "output_type": "execute_result"
    }
   ],
   "source": [
    "# Perform an assessment of how much missing data there is in each column of the\n",
    "# dataset.\n",
    "azdias.isnull().sum()"
   ]
  },
  {
   "cell_type": "code",
   "execution_count": 8,
   "metadata": {},
   "outputs": [
    {
     "data": {
      "image/png": "[encoded data removed]",
      "text/plain": [
       "<matplotlib.figure.Figure at 0x7efdc376a048>"
      ]
     },
     "metadata": {
      "needs_background": "light"
     },
     "output_type": "display_data"
    }
   ],
   "source": [
    "# Investigate patterns in the amount of missing data in each column.\n",
    "plt.hist(azdias.isnull().sum(), bins=len(azdias.columns), density=True, alpha=0.6, color='g')\n",
    "plt.show()"
   ]
  },
  {
   "cell_type": "code",
   "execution_count": 9,
   "metadata": {},
   "outputs": [
    {
     "data": {
      "text/plain": [
       "Index(['AGER_TYP', 'GEBURTSJAHR', 'TITEL_KZ', 'ALTER_HH', 'KK_KUNDENTYP',\n",
       "       'KBA05_BAUMAX'],\n",
       "      dtype='object')"
      ]
     },
     "execution_count": 9,
     "metadata": {},
     "output_type": "execute_result"
    }
   ],
   "source": [
    "# Remove the outlier columns from the dataset. (You'll perform other data\n",
    "# engineering tasks such as re-encoding and imputation later.)\n",
    "to_remove = azdias.loc[:,azdias.isnull().sum()/len(azdias) > 0.3].columns\n",
    "azdias = azdias.drop(columns=to_remove)\n",
    "to_remove"
   ]
  },
  {
   "cell_type": "markdown",
   "metadata": {},
   "source": [
    "#### Discussion 1.1.2: Assess Missing Data in Each Column\n",
    "\n",
    "('AGER_TYP', 'GEBURTSJAHR', 'TITEL_KZ', 'ALTER_HH', 'KK_KUNDENTYP','KBA05_BAUMAX') all these columns are the outliers as they have more than 30% values as NaN making them less usefull for clustering."
   ]
  },
  {
   "cell_type": "markdown",
   "metadata": {},
   "source": [
    "#### Step 1.1.3: Assess Missing Data in Each Row\n",
    "\n",
    "Now, you'll perform a similar assessment for the rows of the dataset. How much data is missing in each row? As with the columns, you should see some groups of points that have a very different numbers of missing values. Divide the data into two subsets: one for data points that are above some threshold for missing values, and a second subset for points below that threshold.\n",
    "\n",
    "In order to know what to do with the outlier rows, we should see if the distribution of data values on columns that are not missing data (or are missing very little data) are similar or different between the two groups. Select at least five of these columns and compare the distribution of values.\n",
    "- You can use seaborn's [`countplot()`](https://seaborn.pydata.org/generated/seaborn.countplot.html) function to create a bar chart of code frequencies and matplotlib's [`subplot()`](https://matplotlib.org/api/_as_gen/matplotlib.pyplot.subplot.html) function to put bar charts for the two subplots side by side.\n",
    "- To reduce repeated code, you might want to write a function that can perform this comparison, taking as one of its arguments a column to be compared.\n",
    "\n",
    "Depending on what you observe in your comparison, this will have implications on how you approach your conclusions later in the analysis. If the distributions of non-missing features look similar between the data with many missing values and the data with few or no missing values, then we could argue that simply dropping those points from the analysis won't present a major issue. On the other hand, if the data with many missing values looks very different from the data with few or no missing values, then we should make a note on those data as special. We'll revisit these data later on. **Either way, you should continue your analysis for now using just the subset of the data with few or no missing values.**"
   ]
  },
  {
   "cell_type": "code",
   "execution_count": 10,
   "metadata": {},
   "outputs": [
    {
     "data": {
      "image/png": "[encoded data removed]",
      "text/plain": [
       "<matplotlib.figure.Figure at 0x7efdc173fa20>"
      ]
     },
     "metadata": {
      "needs_background": "light"
     },
     "output_type": "display_data"
    }
   ],
   "source": [
    "# How much data is missing in each row of the dataset?\n",
    "missing_row = azdias.isnull().sum(axis=1)\n",
    "plt.hist(azdias.isnull().sum(axis=1), bins=azdias.shape[1], density=True, alpha=0.6, color='g')\n",
    "plt.show()"
   ]
  },
  {
   "cell_type": "code",
   "execution_count": 11,
   "metadata": {},
   "outputs": [],
   "source": [
    "# Write code to divide the data into two subsets based on the number of missing\n",
    "# values in each row.\n",
    "azdias_lt5 = azdias[azdias.isnull().sum(axis=1) < 5]\n",
    "azdias_mt5 = azdias[azdias.isnull().sum(axis=1) >= 5]"
   ]
  },
  {
   "cell_type": "code",
   "execution_count": 12,
   "metadata": {},
   "outputs": [
    {
     "data": {
      "image/png": "[encoded data removed]",
      "text/plain": [
       "<matplotlib.figure.Figure at 0x7efda10099e8>"
      ]
     },
     "metadata": {},
     "output_type": "display_data"
    }
   ],
   "source": [
    "# Compare the distribution of values for at least five columns where there are\n",
    "# no or few missing values, between the two subsets.\n",
    "fig, axs = plt.subplots(5, 2, figsize=(15, 15), facecolor='w', edgecolor='k')\n",
    "fig.subplots_adjust(hspace =2 , wspace=.2)\n",
    "axs = axs.ravel()\n",
    "for i in range(5):\n",
    "    sns.countplot(azdias_lt5[azdias_lt5.columns[i]], ax=axs[i*2])\n",
    "    axs[i*2].set_title('Less Than 5 Missing')\n",
    "    sns.countplot(azdias_mt5[azdias_lt5.columns[i]], ax=axs[i*2+1])\n",
    "    axs[i*2+1].set_title('More Than 5 Missing')"
   ]
  },
  {
   "cell_type": "markdown",
   "metadata": {},
   "source": [
    "#### Discussion 1.1.3: Assess Missing Data in Each Row\n",
    "\n",
    "Yes, i think so both data is varying in most of the cases but not by much in some cases."
   ]
  },
  {
   "cell_type": "markdown",
   "metadata": {},
   "source": [
    "### Step 1.2: Select and Re-Encode Features\n",
    "\n",
    "Checking for missing data isn't the only way in which you can prepare a dataset for analysis. Since the unsupervised learning techniques to be used will only work on data that is encoded numerically, you need to make a few encoding changes or additional assumptions to be able to make progress. In addition, while almost all of the values in the dataset are encoded using numbers, not all of them represent numeric values. Check the third column of the feature summary (`feat_info`) for a summary of types of measurement.\n",
    "- For numeric and interval data, these features can be kept without changes.\n",
    "- Most of the variables in the dataset are ordinal in nature. While ordinal values may technically be non-linear in spacing, make the simplifying assumption that the ordinal variables can be treated as being interval in nature (that is, kept without any changes).\n",
    "- Special handling may be necessary for the remaining two variable types: categorical, and 'mixed'.\n",
    "\n",
    "In the first two parts of this sub-step, you will perform an investigation of the categorical and mixed-type features and make a decision on each of them, whether you will keep, drop, or re-encode each. Then, in the last part, you will create a new data frame with only the selected and engineered columns.\n",
    "\n",
    "Data wrangling is often the trickiest part of the data analysis process, and there's a lot of it to be done here. But stick with it: once you're done with this step, you'll be ready to get to the machine learning parts of the project!"
   ]
  },
  {
   "cell_type": "code",
   "execution_count": 13,
   "metadata": {},
   "outputs": [
    {
     "data": {
      "text/plain": [
       "ordinal        49\n",
       "categorical    21\n",
       "numeric         7\n",
       "mixed           7\n",
       "interval        1\n",
       "Name: type, dtype: int64"
      ]
     },
     "execution_count": 13,
     "metadata": {},
     "output_type": "execute_result"
    }
   ],
   "source": [
    "# How many features are there of each data type?\n",
    "feat_info['type'].value_counts()"
   ]
  },
  {
   "cell_type": "markdown",
   "metadata": {},
   "source": [
    "#### Step 1.2.1: Re-Encode Categorical Features\n",
    "\n",
    "For categorical data, you would ordinarily need to encode the levels as dummy variables. Depending on the number of categories, perform one of the following:\n",
    "- For binary (two-level) categoricals that take numeric values, you can keep them without needing to do anything.\n",
    "- There is one binary variable that takes on non-numeric values. For this one, you need to re-encode the values as numbers or create a dummy variable.\n",
    "- For multi-level categoricals (three or more values), you can choose to encode the values using multiple dummy variables (e.g. via [OneHotEncoder](http://scikit-learn.org/stable/modules/generated/sklearn.preprocessing.OneHotEncoder.html)), or (to keep things straightforward) just drop them from the analysis. As always, document your choices in the Discussion section."
   ]
  },
  {
   "cell_type": "code",
   "execution_count": 14,
   "metadata": {},
   "outputs": [
    {
     "name": "stdout",
     "output_type": "stream",
     "text": [
      "ANREDE_KZ\n",
      "2: [ 2.  1.]\n",
      "float64\n",
      "\n",
      "CJT_GESAMTTYP\n",
      "6: [ 5.  3.  2.  4.  1.  6.]\n",
      "float64\n",
      "\n",
      "FINANZTYP\n",
      "6: [ 1.  5.  2.  4.  6.  3.]\n",
      "float64\n",
      "\n",
      "GFK_URLAUBERTYP\n",
      "12: [ 10.   5.   1.  12.   9.   3.   8.  11.   4.   7.   6.   2.]\n",
      "float64\n",
      "\n",
      "GREEN_AVANTGARDE\n",
      "2: [ 0.  1.]\n",
      "float64\n",
      "\n",
      "LP_FAMILIE_FEIN\n",
      "11: [  5.   1.  10.   2.   7.  11.   8.   4.   6.   9.   3.]\n",
      "float64\n",
      "\n",
      "LP_FAMILIE_GROB\n",
      "5: [ 3.  1.  5.  2.  4.]\n",
      "float64\n",
      "\n",
      "LP_STATUS_FEIN\n",
      "10: [  2.   3.   4.   1.  10.   8.   9.   5.   6.   7.]\n",
      "float64\n",
      "\n",
      "LP_STATUS_GROB\n",
      "5: [ 1.  2.  5.  4.  3.]\n",
      "float64\n",
      "\n",
      "NATIONALITAET_KZ\n",
      "4: [  1.   2.  nan   3.]\n",
      "float64\n",
      "\n",
      "SHOPPER_TYP\n",
      "5: [  3.   2.   0.   1.  nan]\n",
      "float64\n",
      "\n",
      "SOHO_KZ\n",
      "2: [ 1.  0.]\n",
      "float64\n",
      "\n",
      "VERS_TYP\n",
      "3: [  2.   1.  nan]\n",
      "float64\n",
      "\n",
      "ZABEOTYP\n",
      "6: [ 5.  4.  1.  6.  3.  2.]\n",
      "float64\n",
      "\n",
      "GEBAEUDETYP\n",
      "7: [ 8.  1.  3.  6.  2.  4.  5.]\n",
      "float64\n",
      "\n",
      "OST_WEST_KZ\n",
      "2: ['W' 'O']\n",
      "object\n",
      "\n",
      "CAMEO_DEUG_2015\n",
      "10: ['8' '4' '6' '2' '1' '9' '5' '3' '7' nan]\n",
      "object\n",
      "\n",
      "CAMEO_DEU_2015\n",
      "45: ['8A' '4C' '6B' '8C' '4A' '2D' '1A' '1E' '9D' '5D' '9E' '9B' '2A' '1B' '8B'\n",
      " '3D' '7A' nan '4E' '4B' '3C' '5A' '7B' '9A' '6D' '6E' '2C' '5C' '9C' '7D'\n",
      " '5E' '1D' '8D' '6C' '6A' '5B' '7C' '4D' '3A' '2B' '7E' '3B' '6F' '5F' '1C']\n",
      "object\n",
      "\n"
     ]
    }
   ],
   "source": [
    "for i in feat_info.loc[feat_info['type']==\"categorical\", 'attribute']:\n",
    "    if i not in to_remove:\n",
    "        l = azdias_lt5[i].unique()\n",
    "        print(f\"{i}\\n{len(l)}: {l}\\n{azdias_lt5[i].dtype}\\n\")"
   ]
  },
  {
   "cell_type": "code",
   "execution_count": 15,
   "metadata": {
    "scrolled": true
   },
   "outputs": [
    {
     "name": "stdout",
     "output_type": "stream",
     "text": [
      "['OST_WEST_KZ']\n",
      "['CAMEO_DEUG_2015', 'CAMEO_DEU_2015']\n"
     ]
    }
   ],
   "source": [
    "# Assess categorical variables: which are binary, which are multi-level, and\n",
    "# which one needs to be re-encoded?\n",
    "binary_to_encode = []\n",
    "binary = []\n",
    "multilevel_to_remove = []\n",
    "\n",
    "for i in feat_info.loc[feat_info['type']==\"categorical\", 'attribute']:\n",
    "    if i not in to_remove:\n",
    "        if len(azdias_lt5[i].unique()) > 2:\n",
    "            try:\n",
    "                sum(azdias_lt5[i].unique())\n",
    "            except:\n",
    "                multilevel_to_remove.append(i)\n",
    "        else:\n",
    "            try:\n",
    "                sum(azdias_lt5[i].unique())\n",
    "            except:\n",
    "                binary_to_encode.append(i)\n",
    "                \n",
    "print(binary_to_encode, multilevel_to_remove, sep=\"\\n\")"
   ]
  },
  {
   "cell_type": "code",
   "execution_count": 16,
   "metadata": {},
   "outputs": [],
   "source": [
    "azdias_lt5 = azdias_lt5.iloc[:,~azdias_lt5.columns.duplicated()]"
   ]
  },
  {
   "cell_type": "code",
   "execution_count": 17,
   "metadata": {},
   "outputs": [],
   "source": [
    "# Re-encode categorical variable(s) to be kept in the analysis.\n",
    "azdias_lt5['OST_WEST_KZ'] = azdias_lt5['OST_WEST_KZ'].map({'W': 1, 'O': 0})\n",
    "azdias_lt5 = azdias_lt5.drop(columns=multilevel_to_remove+['KKK', 'REGIOTYP'], axis = 1)"
   ]
  },
  {
   "cell_type": "code",
   "execution_count": 18,
   "metadata": {},
   "outputs": [],
   "source": [
    "azdias_lt5 = azdias_lt5.iloc[:,~azdias_lt5.columns.duplicated()]"
   ]
  },
  {
   "cell_type": "markdown",
   "metadata": {},
   "source": [
    "#### Discussion 1.2.1: Re-Encode Categorical Features\n",
    "\n",
    "I only preserved binary data and removed all the multilevel data because i think so it will only increase dimensions in out matrix and do no good.\n",
    "Columns removed: 'CAMEO_DEUG_2015', 'CAMEO_DEU_2015'\n",
    "\n",
    "I also performed OneHotEncoding of column 'OST_WEST_KZ' as data was W, O"
   ]
  },
  {
   "cell_type": "markdown",
   "metadata": {},
   "source": [
    "#### Step 1.2.2: Engineer Mixed-Type Features\n",
    "\n",
    "There are a handful of features that are marked as \"mixed\" in the feature summary that require special treatment in order to be included in the analysis. There are two in particular that deserve attention; the handling of the rest are up to your own choices:\n",
    "- \"PRAEGENDE_JUGENDJAHRE\" combines information on three dimensions: generation by decade, movement (mainstream vs. avantgarde), and nation (east vs. west). While there aren't enough levels to disentangle east from west, you should create two new variables to capture the other two dimensions: an interval-type variable for decade, and a binary variable for movement.\n",
    "- \"CAMEO_INTL_2015\" combines information on two axes: wealth and life stage. Break up the two-digit codes by their 'tens'-place and 'ones'-place digits into two new ordinal variables (which, for the purposes of this project, is equivalent to just treating them as their raw numeric values).\n",
    "- If you decide to keep or engineer new features around the other mixed-type features, make sure you note your steps in the Discussion section.\n",
    "\n",
    "Be sure to check `Data_Dictionary.md` for the details needed to finish these tasks."
   ]
  },
  {
   "cell_type": "code",
   "execution_count": 19,
   "metadata": {},
   "outputs": [
    {
     "data": {
      "text/plain": [
       "1    14.0\n",
       "2    15.0\n",
       "4     8.0\n",
       "5     3.0\n",
       "6    10.0\n",
       "Name: PRAEGENDE_JUGENDJAHRE, dtype: float64"
      ]
     },
     "execution_count": 19,
     "metadata": {},
     "output_type": "execute_result"
    }
   ],
   "source": [
    "# Investigate \"PRAEGENDE_JUGENDJAHRE\" and engineer two new variables.\n",
    "azdias_lt5['PRAEGENDE_JUGENDJAHRE'].head()"
   ]
  },
  {
   "cell_type": "code",
   "execution_count": 20,
   "metadata": {},
   "outputs": [],
   "source": [
    "def make_interval(x):\n",
    "    if x in (1,2):\n",
    "        return 1\n",
    "    elif x in (3,4):\n",
    "        return 2\n",
    "    elif x in (5,6,7):\n",
    "        return 3\n",
    "    elif x in (8,9):\n",
    "        return 4\n",
    "    elif x in (10,11,12,13):\n",
    "        return 5\n",
    "    return 6\n",
    "    \n",
    "def make_movement(x):\n",
    "    if x in (2,4,6,7,9,11,13,15):\n",
    "        return 0\n",
    "    return 1"
   ]
  },
  {
   "cell_type": "code",
   "execution_count": 21,
   "metadata": {},
   "outputs": [],
   "source": [
    "azdias_lt5['movement'] = azdias_lt5['PRAEGENDE_JUGENDJAHRE'].apply(make_movement)"
   ]
  },
  {
   "cell_type": "code",
   "execution_count": 22,
   "metadata": {},
   "outputs": [],
   "source": [
    "azdias_lt5['decade'] = azdias_lt5['PRAEGENDE_JUGENDJAHRE'].apply(make_interval)"
   ]
  },
  {
   "cell_type": "code",
   "execution_count": 23,
   "metadata": {},
   "outputs": [
    {
     "data": {
      "text/plain": [
       "1    51\n",
       "2    24\n",
       "4    43\n",
       "5    54\n",
       "6    22\n",
       "Name: CAMEO_INTL_2015, dtype: object"
      ]
     },
     "execution_count": 23,
     "metadata": {},
     "output_type": "execute_result"
    }
   ],
   "source": [
    "# Investigate \"CAMEO_INTL_2015\" and engineer two new variables.\n",
    "azdias_lt5['CAMEO_INTL_2015'].head()"
   ]
  },
  {
   "cell_type": "code",
   "execution_count": 24,
   "metadata": {},
   "outputs": [],
   "source": [
    "def wealth(x):\n",
    "    if x // 10 ==1:\n",
    "        return 1\n",
    "    elif x // 10 ==2:\n",
    "        return 2\n",
    "    elif x // 10 ==3:\n",
    "        return 3\n",
    "    elif x // 10 ==4:\n",
    "        return 4\n",
    "    return 5\n",
    "    \n",
    "def life_stage(x):\n",
    "    if x % 10 ==1:\n",
    "        return 1\n",
    "    elif x % 10 ==2:\n",
    "        return 2\n",
    "    elif x % 10 ==3:\n",
    "        return 3\n",
    "    elif x % 10 ==4:\n",
    "        return 4\n",
    "    return 5"
   ]
  },
  {
   "cell_type": "code",
   "execution_count": 25,
   "metadata": {},
   "outputs": [],
   "source": [
    "azdias_lt5['wealth'] = pd.to_numeric(azdias_lt5['CAMEO_INTL_2015'], errors='coerce').apply(wealth)"
   ]
  },
  {
   "cell_type": "code",
   "execution_count": 26,
   "metadata": {},
   "outputs": [],
   "source": [
    "azdias_lt5['life_stage'] = pd.to_numeric(azdias_lt5['CAMEO_INTL_2015'], errors='coerce').apply(life_stage)"
   ]
  },
  {
   "cell_type": "markdown",
   "metadata": {},
   "source": [
    "#### Discussion 1.2.2: Engineer Mixed-Type Features\n",
    "\n",
    "I removed all columns with mixed type, except 'CAMEO_INTL_2015', 'PRAEGENDE_JUGENDJAHRE' and seperately encoded them based on the values mentioned in the Data_Dictionary.md and added the respective columns and dropped them from the table."
   ]
  },
  {
   "cell_type": "markdown",
   "metadata": {},
   "source": [
    "#### Step 1.2.3: Complete Feature Selection\n",
    "\n",
    "In order to finish this step up, you need to make sure that your data frame now only has the columns that you want to keep. To summarize, the dataframe should consist of the following:\n",
    "- All numeric, interval, and ordinal type columns from the original dataset.\n",
    "- Binary categorical features (all numerically-encoded).\n",
    "- Engineered features from other multi-level categorical features and mixed features.\n",
    "\n",
    "Make sure that for any new columns that you have engineered, that you've excluded the original columns from the final dataset. Otherwise, their values will interfere with the analysis later on the project. For example, you should not keep \"PRAEGENDE_JUGENDJAHRE\", since its values won't be useful for the algorithm: only the values derived from it in the engineered features you created should be retained. As a reminder, your data should only be from **the subset with few or no missing values**."
   ]
  },
  {
   "cell_type": "code",
   "execution_count": 27,
   "metadata": {},
   "outputs": [],
   "source": [
    "mixed = []\n",
    "for i in feat_info.loc[feat_info['type']==\"mixed\", 'attribute']:\n",
    "    if i not in to_remove:\n",
    "        mixed.append(i)\n",
    "azdias_lt5 = azdias_lt5.drop(columns=mixed, axis=1)        "
   ]
  },
  {
   "cell_type": "markdown",
   "metadata": {},
   "source": [
    "### Step 1.3: Create a Cleaning Function\n",
    "\n",
    "Even though you've finished cleaning up the general population demographics data, it's important to look ahead to the future and realize that you'll need to perform the same cleaning steps on the customer demographics data. In this substep, complete the function below to execute the main feature selection, encoding, and re-engineering steps you performed above. Then, when it comes to looking at the customer data in Step 3, you can just run this function on that DataFrame to get the trimmed dataset in a single step."
   ]
  },
  {
   "cell_type": "code",
   "execution_count": 28,
   "metadata": {},
   "outputs": [],
   "source": [
    "def clean_data(df):\n",
    "    \"\"\"\n",
    "    Perform feature trimming, re-encoding, and engineering for demographics\n",
    "    data\n",
    "    \n",
    "    INPUT: Demographics DataFrame\n",
    "    OUTPUT: Trimmed and cleaned demographics DataFrame\n",
    "    \"\"\"\n",
    "    \n",
    "    # Put in code here to execute all main cleaning steps:\n",
    "    # convert missing value codes into NaNs, ...\n",
    "    \n",
    "    def make_interval(x):\n",
    "        if x in (1,2):\n",
    "            return 1\n",
    "        elif x in (3,4):\n",
    "            return 2\n",
    "        elif x in (5,6,7):\n",
    "            return 3\n",
    "        elif x in (8,9):\n",
    "            return 4\n",
    "        elif x in (10,11,12,13):\n",
    "            return 5\n",
    "        return 6\n",
    "    \n",
    "    def make_movement(x):\n",
    "        if x in (2,4,6,7,9,11,13,15):\n",
    "            return 0\n",
    "        return 1\n",
    "    \n",
    "    def wealth(x):\n",
    "        if x // 10 ==1:\n",
    "            return 1\n",
    "        elif x // 10 ==2:\n",
    "            return 2\n",
    "        elif x // 10 ==3:\n",
    "            return 3\n",
    "        elif x // 10 ==4:\n",
    "            return 4\n",
    "        return 5\n",
    "    \n",
    "    def life_stage(x):\n",
    "        if x % 10 ==1:\n",
    "            return 1\n",
    "        elif x % 10 ==2:\n",
    "            return 2\n",
    "        elif x % 10 ==3:\n",
    "            return 3\n",
    "        elif x % 10 ==4:\n",
    "            return 4\n",
    "        return 5\n",
    "    \n",
    "    def RepresentsInt(s):\n",
    "        try: \n",
    "            int(s)\n",
    "            return True\n",
    "        except ValueError:\n",
    "            return False\n",
    "\n",
    "    def func(x):\n",
    "        return [int(l) if RepresentsInt(l) else l for l in x[1:-1].split(',')]\n",
    "    \n",
    "    #feat_info['missing_or_unknown'] = feat_info['missing_or_unknown'].apply(func)\n",
    "    \n",
    "    for j in range(feat_info.shape[0]):\n",
    "        i = feat_info.loc[j, :]\n",
    "        df.loc[df[i.attribute].isin(i['missing_or_unknown']), i.attribute] = np.nan\n",
    "    # remove selected columns and rows, ...\n",
    "    df = df.drop(columns=df.loc[:,df.isnull().sum()/len(df) > 0.3].columns)\n",
    "    df = df[df.isnull().sum(axis=1) < 5]\n",
    "    # select, re-encode, and engineer column values.\n",
    "    \n",
    "    remove = ['KKK', 'REGIOTYP']\n",
    "    binary_to_encode = []\n",
    "    multilevel_to_remove = []\n",
    "    mixed = []\n",
    "\n",
    "    for i in feat_info.loc[feat_info['type']==\"categorical\", 'attribute']:\n",
    "        if i not in to_remove:\n",
    "            if len(df[i].unique()) > 2:\n",
    "                try:\n",
    "                    sum(df[i].unique())\n",
    "                except:\n",
    "                    multilevel_to_remove.append(i)\n",
    "            else:\n",
    "                try:\n",
    "                    sum(df[i].unique())\n",
    "                except:\n",
    "                    binary_to_encode.append(i)\n",
    "\n",
    "    for i in feat_info.loc[feat_info['type']==\"mixed\", 'attribute']:\n",
    "        if i not in to_remove:\n",
    "            mixed.append(i)\n",
    "    df['OST_WEST_KZ'] = df['OST_WEST_KZ'].map({'W': 1, 'O': 0})\n",
    "    df = df.iloc[:,~df.columns.duplicated()]\n",
    "    df['movement'] = df['PRAEGENDE_JUGENDJAHRE'].apply(make_movement)\n",
    "    df['decade'] = df['PRAEGENDE_JUGENDJAHRE'].apply(make_interval)\n",
    "    df['wealth'] = pd.to_numeric(df['CAMEO_INTL_2015'], errors='coerce').apply(wealth)\n",
    "    df['life_stage'] = pd.to_numeric(df['CAMEO_INTL_2015'], errors='coerce').apply(life_stage)\n",
    "    print(set(df).difference(azdias_lt5))\n",
    "    df = df.drop(columns=list(set(df).difference(azdias_lt5)), axis=1)\n",
    "    \n",
    "    # Return the cleaned dataframe.\n",
    "    return df\n",
    "    \n",
    "    "
   ]
  },
  {
   "cell_type": "markdown",
   "metadata": {},
   "source": [
    "## Step 2: Feature Transformation\n",
    "\n",
    "### Step 2.1: Apply Feature Scaling\n",
    "\n",
    "Before we apply dimensionality reduction techniques to the data, we need to perform feature scaling so that the principal component vectors are not influenced by the natural differences in scale for features. Starting from this part of the project, you'll want to keep an eye on the [API reference page for sklearn](http://scikit-learn.org/stable/modules/classes.html) to help you navigate to all of the classes and functions that you'll need. In this substep, you'll need to check the following:\n",
    "\n",
    "- sklearn requires that data not have missing values in order for its estimators to work properly. So, before applying the scaler to your data, make sure that you've cleaned the DataFrame of the remaining missing values. This can be as simple as just removing all data points with missing data, or applying an [Imputer](http://scikit-learn.org/stable/modules/generated/sklearn.preprocessing.Imputer.html) to replace all missing values. You might also try a more complicated procedure where you temporarily remove missing values in order to compute the scaling parameters before re-introducing those missing values and applying imputation. Think about how much missing data you have and what possible effects each approach might have on your analysis, and justify your decision in the discussion section below.\n",
    "- For the actual scaling function, a [StandardScaler](http://scikit-learn.org/stable/modules/generated/sklearn.preprocessing.StandardScaler.html) instance is suggested, scaling each feature to mean 0 and standard deviation 1.\n",
    "- For these classes, you can make use of the `.fit_transform()` method to both fit a procedure to the data as well as apply the transformation to the data at the same time. Don't forget to keep the fit sklearn objects handy, since you'll be applying them to the customer demographics data towards the end of the project."
   ]
  },
  {
   "cell_type": "code",
   "execution_count": 29,
   "metadata": {},
   "outputs": [],
   "source": [
    "columns = azdias_lt5.columns"
   ]
  },
  {
   "cell_type": "code",
   "execution_count": 30,
   "metadata": {},
   "outputs": [
    {
     "data": {
      "text/plain": [
       "array([[ 1.,  2.,  5., ...,  6.,  5.,  1.],\n",
       "       [ 3.,  2.,  3., ...,  6.,  2.,  4.],\n",
       "       [ 3.,  1.,  5., ...,  4.,  4.,  3.],\n",
       "       ..., \n",
       "       [ 2.,  1.,  4., ...,  5.,  5.,  1.],\n",
       "       [ 1.,  1.,  3., ...,  6.,  5.,  1.],\n",
       "       [ 4.,  1.,  1., ...,  2.,  4.,  3.]])"
      ]
     },
     "execution_count": 30,
     "metadata": {},
     "output_type": "execute_result"
    }
   ],
   "source": [
    "# If you've not yet cleaned the dataset of all NaN values, then investigate and\n",
    "# do that now.\n",
    "filler = Imputer().fit(azdias_lt5)\n",
    "azdias_lt5 = filler.transform(azdias_lt5)\n",
    "azdias_lt5"
   ]
  },
  {
   "cell_type": "code",
   "execution_count": 31,
   "metadata": {},
   "outputs": [
    {
     "data": {
      "text/plain": [
       "array([[-1.74038655,  0.96968782,  1.00327407, ...,  1.14253046,\n",
       "         1.16536079, -1.26171855],\n",
       "       [ 0.20236144,  0.96968782, -0.30605531, ...,  1.14253046,\n",
       "        -0.87756267,  0.74452682],\n",
       "       [ 0.20236144, -1.03125973,  1.00327407, ..., -0.23208426,\n",
       "         0.4843863 ,  0.07577836],\n",
       "       ..., \n",
       "       [-0.76901255, -1.03125973,  0.34860938, ...,  0.4552231 ,\n",
       "         1.16536079, -1.26171855],\n",
       "       [-1.74038655, -1.03125973, -0.30605531, ...,  1.14253046,\n",
       "         1.16536079, -1.26171855],\n",
       "       [ 1.17373543, -1.03125973, -1.6153847 , ..., -1.60669899,\n",
       "         0.4843863 ,  0.07577836]])"
      ]
     },
     "execution_count": 31,
     "metadata": {},
     "output_type": "execute_result"
    }
   ],
   "source": [
    "# Apply feature scaling to the general population demographics data.\n",
    "scaler = StandardScaler().fit(azdias_lt5)\n",
    "azdias_lt5 = scaler.transform(azdias_lt5)\n",
    "azdias_lt5"
   ]
  },
  {
   "cell_type": "code",
   "execution_count": 32,
   "metadata": {},
   "outputs": [
    {
     "data": {
      "text/html": [
       "<div>\n",
       "<style scoped>\n",
       "    .dataframe tbody tr th:only-of-type {\n",
       "        vertical-align: middle;\n",
       "    }\n",
       "\n",
       "    .dataframe tbody tr th {\n",
       "        vertical-align: top;\n",
       "    }\n",
       "\n",
       "    .dataframe thead th {\n",
       "        text-align: right;\n",
       "    }\n",
       "</style>\n",
       "<table border=\"1\" class=\"dataframe\">\n",
       "  <thead>\n",
       "    <tr style=\"text-align: right;\">\n",
       "      <th></th>\n",
       "      <th>ALTERSKATEGORIE_GROB</th>\n",
       "      <th>ANREDE_KZ</th>\n",
       "      <th>CJT_GESAMTTYP</th>\n",
       "      <th>FINANZ_MINIMALIST</th>\n",
       "      <th>FINANZ_SPARER</th>\n",
       "      <th>FINANZ_VORSORGER</th>\n",
       "      <th>FINANZ_ANLEGER</th>\n",
       "      <th>FINANZ_UNAUFFAELLIGER</th>\n",
       "      <th>FINANZ_HAUSBAUER</th>\n",
       "      <th>FINANZTYP</th>\n",
       "      <th>...</th>\n",
       "      <th>PLZ8_ANTG4</th>\n",
       "      <th>PLZ8_HHZ</th>\n",
       "      <th>PLZ8_GBZ</th>\n",
       "      <th>ARBEIT</th>\n",
       "      <th>ORTSGR_KLS9</th>\n",
       "      <th>RELAT_AB</th>\n",
       "      <th>movement</th>\n",
       "      <th>decade</th>\n",
       "      <th>wealth</th>\n",
       "      <th>life_stage</th>\n",
       "    </tr>\n",
       "  </thead>\n",
       "  <tbody>\n",
       "    <tr>\n",
       "      <th>0</th>\n",
       "      <td>-1.740387</td>\n",
       "      <td>0.969688</td>\n",
       "      <td>1.003274</td>\n",
       "      <td>-1.522118</td>\n",
       "      <td>1.586768</td>\n",
       "      <td>-1.051497</td>\n",
       "      <td>1.515221</td>\n",
       "      <td>1.047789</td>\n",
       "      <td>1.338667</td>\n",
       "      <td>-1.397916</td>\n",
       "      <td>...</td>\n",
       "      <td>0.404881</td>\n",
       "      <td>1.431222</td>\n",
       "      <td>0.566784</td>\n",
       "      <td>-0.185830</td>\n",
       "      <td>-0.139645</td>\n",
       "      <td>0.675916</td>\n",
       "      <td>0.541398</td>\n",
       "      <td>1.142530</td>\n",
       "      <td>1.165361</td>\n",
       "      <td>-1.261719</td>\n",
       "    </tr>\n",
       "    <tr>\n",
       "      <th>1</th>\n",
       "      <td>0.202361</td>\n",
       "      <td>0.969688</td>\n",
       "      <td>-0.306055</td>\n",
       "      <td>-1.522118</td>\n",
       "      <td>0.906946</td>\n",
       "      <td>-1.772674</td>\n",
       "      <td>-0.546081</td>\n",
       "      <td>0.320028</td>\n",
       "      <td>1.338667</td>\n",
       "      <td>-1.397916</td>\n",
       "      <td>...</td>\n",
       "      <td>-0.967350</td>\n",
       "      <td>0.400940</td>\n",
       "      <td>0.566784</td>\n",
       "      <td>-0.185830</td>\n",
       "      <td>-0.139645</td>\n",
       "      <td>-0.802590</td>\n",
       "      <td>-1.847069</td>\n",
       "      <td>1.142530</td>\n",
       "      <td>-0.877563</td>\n",
       "      <td>0.744527</td>\n",
       "    </tr>\n",
       "    <tr>\n",
       "      <th>2</th>\n",
       "      <td>0.202361</td>\n",
       "      <td>-1.031260</td>\n",
       "      <td>1.003274</td>\n",
       "      <td>0.680524</td>\n",
       "      <td>0.227123</td>\n",
       "      <td>0.390857</td>\n",
       "      <td>-1.233182</td>\n",
       "      <td>0.320028</td>\n",
       "      <td>-0.838345</td>\n",
       "      <td>0.523156</td>\n",
       "      <td>...</td>\n",
       "      <td>0.404881</td>\n",
       "      <td>-0.629342</td>\n",
       "      <td>-0.332631</td>\n",
       "      <td>0.822105</td>\n",
       "      <td>0.296211</td>\n",
       "      <td>1.415170</td>\n",
       "      <td>0.541398</td>\n",
       "      <td>-0.232084</td>\n",
       "      <td>0.484386</td>\n",
       "      <td>0.075778</td>\n",
       "    </tr>\n",
       "    <tr>\n",
       "      <th>3</th>\n",
       "      <td>-1.740387</td>\n",
       "      <td>0.969688</td>\n",
       "      <td>-0.960720</td>\n",
       "      <td>-0.053690</td>\n",
       "      <td>-1.132523</td>\n",
       "      <td>1.112035</td>\n",
       "      <td>-0.546081</td>\n",
       "      <td>-0.407733</td>\n",
       "      <td>1.338667</td>\n",
       "      <td>-0.917648</td>\n",
       "      <td>...</td>\n",
       "      <td>0.404881</td>\n",
       "      <td>1.431222</td>\n",
       "      <td>1.466200</td>\n",
       "      <td>-1.193766</td>\n",
       "      <td>-1.011357</td>\n",
       "      <td>-0.063337</td>\n",
       "      <td>0.541398</td>\n",
       "      <td>-1.606699</td>\n",
       "      <td>1.165361</td>\n",
       "      <td>0.744527</td>\n",
       "    </tr>\n",
       "    <tr>\n",
       "      <th>4</th>\n",
       "      <td>-0.769013</td>\n",
       "      <td>0.969688</td>\n",
       "      <td>1.003274</td>\n",
       "      <td>-1.522118</td>\n",
       "      <td>1.586768</td>\n",
       "      <td>-1.772674</td>\n",
       "      <td>1.515221</td>\n",
       "      <td>1.047789</td>\n",
       "      <td>-0.112675</td>\n",
       "      <td>0.042888</td>\n",
       "      <td>...</td>\n",
       "      <td>-0.967350</td>\n",
       "      <td>1.431222</td>\n",
       "      <td>1.466200</td>\n",
       "      <td>0.822105</td>\n",
       "      <td>0.296211</td>\n",
       "      <td>-0.063337</td>\n",
       "      <td>0.541398</td>\n",
       "      <td>0.455223</td>\n",
       "      <td>-0.877563</td>\n",
       "      <td>-0.592970</td>\n",
       "    </tr>\n",
       "  </tbody>\n",
       "</table>\n",
       "<p>5 rows × 73 columns</p>\n",
       "</div>"
      ],
      "text/plain": [
       "   ALTERSKATEGORIE_GROB  ANREDE_KZ  CJT_GESAMTTYP  FINANZ_MINIMALIST  \\\n",
       "0             -1.740387   0.969688       1.003274          -1.522118   \n",
       "1              0.202361   0.969688      -0.306055          -1.522118   \n",
       "2              0.202361  -1.031260       1.003274           0.680524   \n",
       "3             -1.740387   0.969688      -0.960720          -0.053690   \n",
       "4             -0.769013   0.969688       1.003274          -1.522118   \n",
       "\n",
       "   FINANZ_SPARER  FINANZ_VORSORGER  FINANZ_ANLEGER  FINANZ_UNAUFFAELLIGER  \\\n",
       "0       1.586768         -1.051497        1.515221               1.047789   \n",
       "1       0.906946         -1.772674       -0.546081               0.320028   \n",
       "2       0.227123          0.390857       -1.233182               0.320028   \n",
       "3      -1.132523          1.112035       -0.546081              -0.407733   \n",
       "4       1.586768         -1.772674        1.515221               1.047789   \n",
       "\n",
       "   FINANZ_HAUSBAUER  FINANZTYP     ...      PLZ8_ANTG4  PLZ8_HHZ  PLZ8_GBZ  \\\n",
       "0          1.338667  -1.397916     ...        0.404881  1.431222  0.566784   \n",
       "1          1.338667  -1.397916     ...       -0.967350  0.400940  0.566784   \n",
       "2         -0.838345   0.523156     ...        0.404881 -0.629342 -0.332631   \n",
       "3          1.338667  -0.917648     ...        0.404881  1.431222  1.466200   \n",
       "4         -0.112675   0.042888     ...       -0.967350  1.431222  1.466200   \n",
       "\n",
       "     ARBEIT  ORTSGR_KLS9  RELAT_AB  movement    decade    wealth  life_stage  \n",
       "0 -0.185830    -0.139645  0.675916  0.541398  1.142530  1.165361   -1.261719  \n",
       "1 -0.185830    -0.139645 -0.802590 -1.847069  1.142530 -0.877563    0.744527  \n",
       "2  0.822105     0.296211  1.415170  0.541398 -0.232084  0.484386    0.075778  \n",
       "3 -1.193766    -1.011357 -0.063337  0.541398 -1.606699  1.165361    0.744527  \n",
       "4  0.822105     0.296211 -0.063337  0.541398  0.455223 -0.877563   -0.592970  \n",
       "\n",
       "[5 rows x 73 columns]"
      ]
     },
     "execution_count": 32,
     "metadata": {},
     "output_type": "execute_result"
    }
   ],
   "source": [
    "azdias_lt5 = pd.DataFrame(azdias_lt5, columns = columns)\n",
    "azdias_lt5.head()"
   ]
  },
  {
   "cell_type": "markdown",
   "metadata": {},
   "source": [
    "### Discussion 2.1: Apply Feature Scaling\n",
    "\n",
    "First I replaced all the missing values with the mean of column vales and then I used standard scaler to scale valus between -1 to 1 so that it can be easy to understand the values impact in the training process."
   ]
  },
  {
   "cell_type": "markdown",
   "metadata": {},
   "source": [
    "### Step 2.2: Perform Dimensionality Reduction\n",
    "\n",
    "On your scaled data, you are now ready to apply dimensionality reduction techniques.\n",
    "\n",
    "- Use sklearn's [PCA](http://scikit-learn.org/stable/modules/generated/sklearn.decomposition.PCA.html) class to apply principal component analysis on the data, thus finding the vectors of maximal variance in the data. To start, you should not set any parameters (so all components are computed) or set a number of components that is at least half the number of features (so there's enough features to see the general trend in variability).\n",
    "- Check out the ratio of variance explained by each principal component as well as the cumulative variance explained. Try plotting the cumulative or sequential values using matplotlib's [`plot()`](https://matplotlib.org/api/_as_gen/matplotlib.pyplot.plot.html) function. Based on what you find, select a value for the number of transformed features you'll retain for the clustering part of the project.\n",
    "- Once you've made a choice for the number of components to keep, make sure you re-fit a PCA instance to perform the decided-on transformation."
   ]
  },
  {
   "cell_type": "code",
   "execution_count": 33,
   "metadata": {},
   "outputs": [],
   "source": [
    "# Apply PCA to the data.\n",
    "pca = PCA()\n",
    "few_missing_pca = pca.fit_transform(azdias_lt5)"
   ]
  },
  {
   "cell_type": "code",
   "execution_count": 34,
   "metadata": {},
   "outputs": [],
   "source": [
    "def scree_plot(pca):\n",
    "    '''\n",
    "    Creates a scree plot associated with the principal components \n",
    "    \n",
    "    INPUT: pca - the result of instantian of PCA in scikit learn\n",
    "            \n",
    "    OUTPUT:\n",
    "            None\n",
    "    '''\n",
    "    num_components = len(pca.explained_variance_ratio_)\n",
    "    ind = np.arange(num_components)\n",
    "    vals = pca.explained_variance_ratio_\n",
    " \n",
    "    plt.figure(figsize=(10, 6))\n",
    "    ax = plt.subplot(111)\n",
    "    cumvals = np.cumsum(vals)\n",
    "    ax.bar(ind, vals)\n",
    "    ax.plot(ind, cumvals)\n",
    "    \n",
    "    ax.xaxis.set_tick_params(width=0)\n",
    "    ax.yaxis.set_tick_params(width=2, length=12)\n",
    " \n",
    "    ax.set_xlabel(\"Principal Component\")\n",
    "    ax.set_ylabel(\"Variance Explained (%)\")\n",
    "    plt.title('Explained Variance Per Principal Component')"
   ]
  },
  {
   "cell_type": "code",
   "execution_count": 35,
   "metadata": {},
   "outputs": [
    {
     "data": {
      "image/png": "[encoded data removed]",
      "text/plain": [
       "<matplotlib.figure.Figure at 0x7efda0c7d9e8>"
      ]
     },
     "metadata": {
      "needs_background": "light"
     },
     "output_type": "display_data"
    }
   ],
   "source": [
    "# Investigate the variance accounted for by each principal component.\n",
    "scree_plot(pca)"
   ]
  },
  {
   "cell_type": "code",
   "execution_count": 36,
   "metadata": {},
   "outputs": [],
   "source": [
    "# Re-apply PCA to the data while selecting for number of components to retain.\n",
    "pca = PCA(n_components=30)\n",
    "new_pca = pca.fit_transform(azdias_lt5)"
   ]
  },
  {
   "cell_type": "markdown",
   "metadata": {},
   "source": [
    "### Discussion 2.2: Perform Dimensionality Reduction\n",
    "\n",
    "I have retained 30 principal components, as it expalains for more than 80% variances while reducing the number of features by more than 50%."
   ]
  },
  {
   "cell_type": "markdown",
   "metadata": {},
   "source": [
    "### Step 2.3: Interpret Principal Components\n",
    "\n",
    "Now that we have our transformed principal components, it's a nice idea to check out the weight of each variable on the first few components to see if they can be interpreted in some fashion.\n",
    "\n",
    "As a reminder, each principal component is a unit vector that points in the direction of highest variance (after accounting for the variance captured by earlier principal components). The further a weight is from zero, the more the principal component is in the direction of the corresponding feature. If two features have large weights of the same sign (both positive or both negative), then increases in one tend expect to be associated with increases in the other. To contrast, features with different signs can be expected to show a negative correlation: increases in one variable should result in a decrease in the other.\n",
    "\n",
    "- To investigate the features, you should map each weight to their corresponding feature name, then sort the features according to weight. The most interesting features for each principal component, then, will be those at the beginning and end of the sorted list. Use the data dictionary document to help you understand these most prominent features, their relationships, and what a positive or negative value on the principal component might indicate.\n",
    "- You should investigate and interpret feature associations from the first three principal components in this substep. To help facilitate this, you should write a function that you can call at any time to print the sorted list of feature weights, for the *i*-th principal component. This might come in handy in the next step of the project, when you interpret the tendencies of the discovered clusters."
   ]
  },
  {
   "cell_type": "code",
   "execution_count": 37,
   "metadata": {},
   "outputs": [
    {
     "data": {
      "text/plain": [
       "[('ALTERSKATEGORIE_GROB', 0.25301459531916926),\n",
       " ('FINANZ_VORSORGER', 0.22479041787638454),\n",
       " ('SEMIO_ERL', 0.22394251961731268),\n",
       " ('SEMIO_LUST', 0.17742110963317045),\n",
       " ('RETOURTYP_BK_S', 0.16364098963002027),\n",
       " ('W_KEIT_KIND_HH', 0.12508556112198299),\n",
       " ('SEMIO_KRIT', 0.11531522051044395),\n",
       " ('FINANZ_HAUSBAUER', 0.11039794538495565),\n",
       " ('FINANZTYP', 0.106375607987477),\n",
       " ('SHOPPER_TYP', 0.10362948432847605),\n",
       " ('SEMIO_KAEM', 0.10204116654354364),\n",
       " ('PLZ8_ANTG3', 0.08484199441889273),\n",
       " ('ANREDE_KZ', 0.0822505563022113),\n",
       " ('PLZ8_ANTG4', 0.081072421443467726),\n",
       " ('EWDICHTE', 0.080620114592425282),\n",
       " ('ORTSGR_KLS9', 0.079385687227635809),\n",
       " ('FINANZ_MINIMALIST', 0.068394781068060032),\n",
       " ('wealth', 0.06726989475238547),\n",
       " ('KBA05_ANTG4', 0.06475454759344057),\n",
       " ('ARBEIT', 0.06094617384356267),\n",
       " ('SEMIO_DOM', 0.060794425344577123),\n",
       " ('PLZ8_ANTG2', 0.057021426658515097),\n",
       " ('ANZ_HAUSHALTE_AKTIV', 0.057014471912951739),\n",
       " ('RELAT_AB', 0.056966519758665415),\n",
       " ('WOHNDAUER_2008', 0.055279231941517924),\n",
       " ('HH_EINKOMMEN_SCORE', 0.050089854902903568),\n",
       " ('KBA05_ANTG3', 0.042758025024969254),\n",
       " ('ANZ_HH_TITEL', 0.028721288860537056),\n",
       " ('VERS_TYP', 0.026476880504140061),\n",
       " ('movement', 0.018710850825974751),\n",
       " ('GEBAEUDETYP', 0.014416300399143671),\n",
       " ('PLZ8_HHZ', 0.011432207525466689),\n",
       " ('ANZ_TITEL', 0.0068210100165621871),\n",
       " ('life_stage', 0.0027367858305004772),\n",
       " ('SOHO_KZ', -0.0022493570414956724),\n",
       " ('KBA05_ANTG2', -0.0070284080931066473),\n",
       " ('ZABEOTYP', -0.01439023753279026),\n",
       " ('GREEN_AVANTGARDE', -0.018710850825974748),\n",
       " ('LP_STATUS_GROB', -0.027000326804485872),\n",
       " ('OST_WEST_KZ', -0.028590940070785269),\n",
       " ('KBA13_ANZAHL_PKW', -0.032260706198355305),\n",
       " ('GFK_URLAUBERTYP', -0.036165489976801156),\n",
       " ('MIN_GEBAEUDEJAHR', -0.037324186822273023),\n",
       " ('GEBAEUDETYP_RASTER', -0.038899396702982987),\n",
       " ('LP_STATUS_FEIN', -0.045821685091390348),\n",
       " ('BALLRAUM', -0.052490121775021006),\n",
       " ('HEALTH_TYP', -0.054410763160241217),\n",
       " ('KONSUMNAEHE', -0.061371719132112423),\n",
       " ('SEMIO_VERT', -0.062715172590957519),\n",
       " ('PLZ8_GBZ', -0.065645149430615501),\n",
       " ('INNENSTADT', -0.06576173690513655),\n",
       " ('NATIONALITAET_KZ', -0.067685224043149528),\n",
       " ('ANZ_PERSONEN', -0.073596615979579255),\n",
       " ('KBA05_ANTG1', -0.076327461180941469),\n",
       " ('LP_FAMILIE_FEIN', -0.081202866803287574),\n",
       " ('LP_FAMILIE_GROB', -0.082142373307009048),\n",
       " ('PLZ8_ANTG1', -0.083662417413570028),\n",
       " ('KBA05_GBZ', -0.083731299353700134),\n",
       " ('MOBI_REGIO', -0.084808974621060337),\n",
       " ('SEMIO_SOZ', -0.098362981047816864),\n",
       " ('CJT_GESAMTTYP', -0.12071609015524612),\n",
       " ('SEMIO_MAT', -0.1524455028851194),\n",
       " ('ONLINE_AFFINITAET', -0.16756609890833274),\n",
       " ('SEMIO_RAT', -0.16880180636249512),\n",
       " ('SEMIO_FAM', -0.17321901912515603),\n",
       " ('FINANZ_ANLEGER', -0.20225610143370021),\n",
       " ('SEMIO_KULT', -0.21179661520277887),\n",
       " ('FINANZ_UNAUFFAELLIGER', -0.22414243467265485),\n",
       " ('SEMIO_TRADV', -0.22530585809729053),\n",
       " ('SEMIO_PFLICHT', -0.22755810700413381),\n",
       " ('FINANZ_SPARER', -0.23332816741045589),\n",
       " ('decade', -0.23849254165961326),\n",
       " ('SEMIO_REL', -0.25303780581648128)]"
      ]
     },
     "execution_count": 37,
     "metadata": {},
     "output_type": "execute_result"
    }
   ],
   "source": [
    "# Map weights for the first principal component to corresponding feature names\n",
    "# and then print the linked values, sorted by weight.\n",
    "# HINT: Try defining a function here or in a new cell that you can reuse in the\n",
    "# other cells.\n",
    "def pca_weights(pca, i):\n",
    "    weight_map = {}\n",
    "    for counter, feature in enumerate(azdias_lt5.columns):\n",
    "        weight_map[feature] = pca.components_[i][counter]\n",
    "    \n",
    "    sorted_weights = sorted(weight_map.items(), key=operator.itemgetter(1), reverse=True)\n",
    "    \n",
    "    return sorted_weights\n",
    "weights = pca_weights(pca,1)\n",
    "weights"
   ]
  },
  {
   "cell_type": "code",
   "execution_count": 38,
   "metadata": {},
   "outputs": [
    {
     "data": {
      "text/plain": [
       "[('SEMIO_VERT', 0.33802611590273701),\n",
       " ('SEMIO_SOZ', 0.26055784881433219),\n",
       " ('SEMIO_FAM', 0.25410413899598583),\n",
       " ('SEMIO_KULT', 0.23628830431783956),\n",
       " ('FINANZ_MINIMALIST', 0.14608634203104445),\n",
       " ('FINANZTYP', 0.11150543947671485),\n",
       " ('RETOURTYP_BK_S', 0.11113226725605331),\n",
       " ('W_KEIT_KIND_HH', 0.095324632957620448),\n",
       " ('SEMIO_REL', 0.0883493198087483),\n",
       " ('FINANZ_VORSORGER', 0.086692455030996138),\n",
       " ('ALTERSKATEGORIE_GROB', 0.067951741193678875),\n",
       " ('SEMIO_MAT', 0.059899486579627001),\n",
       " ('SEMIO_LUST', 0.058571877181794525),\n",
       " ('PLZ8_ANTG4', 0.052417351193396147),\n",
       " ('ORTSGR_KLS9', 0.052199957028272632),\n",
       " ('PLZ8_ANTG3', 0.051714133436962996),\n",
       " ('EWDICHTE', 0.051221729176537861),\n",
       " ('GREEN_AVANTGARDE', 0.040249599035161218),\n",
       " ('ARBEIT', 0.039793564038705966),\n",
       " ('RELAT_AB', 0.034865495799921625),\n",
       " ('wealth', 0.033731823928108737),\n",
       " ('PLZ8_ANTG2', 0.033472062748790332),\n",
       " ('KBA05_ANTG4', 0.032668102248344627),\n",
       " ('ANZ_HAUSHALTE_AKTIV', 0.03021999234537525),\n",
       " ('WOHNDAUER_2008', 0.02917353425522214),\n",
       " ('LP_STATUS_GROB', 0.028215196798872764),\n",
       " ('VERS_TYP', 0.02454759802218251),\n",
       " ('ANZ_HH_TITEL', 0.014439620252330846),\n",
       " ('LP_STATUS_FEIN', 0.013335152273671909),\n",
       " ('KBA05_ANTG3', 0.011565785989833878),\n",
       " ('GEBAEUDETYP', 0.010064543788641675),\n",
       " ('ANZ_TITEL', 0.0094254130421959018),\n",
       " ('PLZ8_HHZ', 0.0047870047055981529),\n",
       " ('SOHO_KZ', 0.00026862416161001424),\n",
       " ('HEALTH_TYP', -0.0084956143761472907),\n",
       " ('KBA05_ANTG2', -0.010452772823093303),\n",
       " ('MIN_GEBAEUDEJAHR', -0.013245638756377822),\n",
       " ('HH_EINKOMMEN_SCORE', -0.013472984811738699),\n",
       " ('life_stage', -0.014536881145441966),\n",
       " ('ANZ_PERSONEN', -0.016457769032290698),\n",
       " ('OST_WEST_KZ', -0.020149220484742363),\n",
       " ('GFK_URLAUBERTYP', -0.022287213060912709),\n",
       " ('NATIONALITAET_KZ', -0.023261338591049969),\n",
       " ('KBA13_ANZAHL_PKW', -0.026689658780946823),\n",
       " ('LP_FAMILIE_FEIN', -0.029230993507667509),\n",
       " ('CJT_GESAMTTYP', -0.030757790845470295),\n",
       " ('LP_FAMILIE_GROB', -0.030815680645737694),\n",
       " ('KBA05_ANTG1', -0.031051633694897246),\n",
       " ('KBA05_GBZ', -0.033217162057717527),\n",
       " ('GEBAEUDETYP_RASTER', -0.034166014253649221),\n",
       " ('MOBI_REGIO', -0.037734294961869426),\n",
       " ('BALLRAUM', -0.038001795383663703),\n",
       " ('movement', -0.04024959903516119),\n",
       " ('KONSUMNAEHE', -0.042579802560076187),\n",
       " ('FINANZ_HAUSBAUER', -0.042602779701804212),\n",
       " ('PLZ8_GBZ', -0.04458689369467863),\n",
       " ('INNENSTADT', -0.047646535317470741),\n",
       " ('PLZ8_ANTG1', -0.053446902705898171),\n",
       " ('ZABEOTYP', -0.057577796949347552),\n",
       " ('ONLINE_AFFINITAET', -0.058915772110562627),\n",
       " ('SEMIO_PFLICHT', -0.064124039154359241),\n",
       " ('SEMIO_TRADV', -0.073328853239360059),\n",
       " ('FINANZ_UNAUFFAELLIGER', -0.089748571635524244),\n",
       " ('FINANZ_SPARER', -0.090367375778984599),\n",
       " ('decade', -0.095919363894741219),\n",
       " ('SHOPPER_TYP', -0.12927374952898874),\n",
       " ('FINANZ_ANLEGER', -0.17568136937125101),\n",
       " ('SEMIO_ERL', -0.17909886538665107),\n",
       " ('SEMIO_RAT', -0.20315847179934268),\n",
       " ('SEMIO_KRIT', -0.26449654522323718),\n",
       " ('SEMIO_DOM', -0.30693887684051868),\n",
       " ('SEMIO_KAEM', -0.3314685535934937),\n",
       " ('ANREDE_KZ', -0.3630570075312422)]"
      ]
     },
     "execution_count": 38,
     "metadata": {},
     "output_type": "execute_result"
    }
   ],
   "source": [
    "# Map weights for the second principal component to corresponding feature names\n",
    "# and then print the linked values, sorted by weight.\n",
    "weights2 = pca_weights(pca,2)\n",
    "weights2"
   ]
  },
  {
   "cell_type": "code",
   "execution_count": 39,
   "metadata": {},
   "outputs": [
    {
     "data": {
      "text/plain": [
       "[('GREEN_AVANTGARDE', 0.3126688242835286),\n",
       " ('EWDICHTE', 0.26817860206370198),\n",
       " ('ORTSGR_KLS9', 0.26740029219197037),\n",
       " ('LP_FAMILIE_GROB', 0.26316823546123824),\n",
       " ('LP_FAMILIE_FEIN', 0.26175637217083975),\n",
       " ('ANZ_PERSONEN', 0.24617881932412089),\n",
       " ('ONLINE_AFFINITAET', 0.18272555120977929),\n",
       " ('PLZ8_ANTG3', 0.13948284888429321),\n",
       " ('LP_STATUS_GROB', 0.1377810919642396),\n",
       " ('RELAT_AB', 0.13605841082250009),\n",
       " ('PLZ8_ANTG4', 0.13261869812981184),\n",
       " ('ARBEIT', 0.11301611208763664),\n",
       " ('LP_STATUS_FEIN', 0.11163913657123829),\n",
       " ('PLZ8_ANTG2', 0.10794576481203919),\n",
       " ('SEMIO_DOM', 0.095595085183892911),\n",
       " ('CJT_GESAMTTYP', 0.091849973017379405),\n",
       " ('SEMIO_KAEM', 0.090650590464631614),\n",
       " ('SHOPPER_TYP', 0.066016489242751192),\n",
       " ('FINANZ_MINIMALIST', 0.063004951537249637),\n",
       " ('PLZ8_HHZ', 0.062342389662088903),\n",
       " ('WOHNDAUER_2008', 0.05759455990123645),\n",
       " ('OST_WEST_KZ', 0.050591052905603874),\n",
       " ('KBA05_ANTG1', 0.048388441085811952),\n",
       " ('FINANZ_UNAUFFAELLIGER', 0.047629101599273527),\n",
       " ('ANZ_TITEL', 0.041897303263037991),\n",
       " ('ANREDE_KZ', 0.035125483167616663),\n",
       " ('ANZ_HH_TITEL', 0.032591221718914744),\n",
       " ('decade', 0.032441162331650439),\n",
       " ('SEMIO_RAT', 0.031325319612844925),\n",
       " ('VERS_TYP', 0.022096546712923486),\n",
       " ('KBA05_ANTG4', 0.020513242560687917),\n",
       " ('SEMIO_TRADV', 0.015801231694801913),\n",
       " ('MOBI_REGIO', 0.014654873712059804),\n",
       " ('SEMIO_PFLICHT', 0.014185125979813503),\n",
       " ('life_stage', 0.013885636803500519),\n",
       " ('SEMIO_LUST', 0.01303535241868216),\n",
       " ('GEBAEUDETYP', 0.0082312526951777779),\n",
       " ('SEMIO_SOZ', 0.0077039692859585613),\n",
       " ('NATIONALITAET_KZ', 0.0075948967312069677),\n",
       " ('RETOURTYP_BK_S', 0.0072935144272752968),\n",
       " ('FINANZTYP', 0.0063328139790014698),\n",
       " ('SEMIO_ERL', 0.0053628876637870082),\n",
       " ('SOHO_KZ', 0.0040852281588160842),\n",
       " ('ANZ_HAUSHALTE_AKTIV', 0.0039567044002248638),\n",
       " ('KBA05_GBZ', -0.00017988174927906485),\n",
       " ('FINANZ_SPARER', -0.00094003329966628902),\n",
       " ('HEALTH_TYP', -0.0022308853301400301),\n",
       " ('SEMIO_REL', -0.011160435407835416),\n",
       " ('SEMIO_VERT', -0.011707030698366531),\n",
       " ('SEMIO_KRIT', -0.013828579251946966),\n",
       " ('SEMIO_MAT', -0.0140970453090356),\n",
       " ('FINANZ_VORSORGER', -0.014873513612948421),\n",
       " ('ALTERSKATEGORIE_GROB', -0.020774104671567411),\n",
       " ('SEMIO_KULT', -0.021243340371637724),\n",
       " ('SEMIO_FAM', -0.031393210407033197),\n",
       " ('KBA05_ANTG2', -0.03718142264942205),\n",
       " ('GFK_URLAUBERTYP', -0.040400327964196653),\n",
       " ('KBA13_ANZAHL_PKW', -0.041921925132494306),\n",
       " ('MIN_GEBAEUDEJAHR', -0.042435894601012152),\n",
       " ('KBA05_ANTG3', -0.044396956949161979),\n",
       " ('wealth', -0.045379812859017502),\n",
       " ('PLZ8_GBZ', -0.072364528225159194),\n",
       " ('GEBAEUDETYP_RASTER', -0.075396413101001106),\n",
       " ('FINANZ_ANLEGER', -0.087234004206285728),\n",
       " ('FINANZ_HAUSBAUER', -0.098234081234935183),\n",
       " ('PLZ8_ANTG1', -0.10395154226412574),\n",
       " ('ZABEOTYP', -0.11731235490933688),\n",
       " ('KONSUMNAEHE', -0.13581907261425755),\n",
       " ('W_KEIT_KIND_HH', -0.1846754684302144),\n",
       " ('HH_EINKOMMEN_SCORE', -0.19114627717147684),\n",
       " ('BALLRAUM', -0.22848436498574953),\n",
       " ('INNENSTADT', -0.231542532277147),\n",
       " ('movement', -0.31266882428352855)]"
      ]
     },
     "execution_count": 39,
     "metadata": {},
     "output_type": "execute_result"
    }
   ],
   "source": [
    "# Map weights for the third principal component to corresponding feature names\n",
    "# and then print the linked values, sorted by weight.\n",
    "weights3 = pca_weights(pca,3)\n",
    "weights3"
   ]
  },
  {
   "cell_type": "markdown",
   "metadata": {},
   "source": [
    "### Discussion 2.3: Interpret Principal Components\n",
    "\n",
    "From the first principal component, it can be seen that\n",
    "\n",
    "- ('PLZ8_ANTG3', 0.083747610197565631),('PLZ8_ANTG4', 0.080005448654858799)\n",
    " - PLZ8_ANTG3 and PLZ8_ANTG4 have a positive correlation. The share of 10+ family homes and the share of 6-10 family homes for macro-cells tend to increase together.\n",
    "\n",
    "- ('PLZ8_ANTG3', 0.083747610197565631),('wealth', 0.066701717430199023)\n",
    " - PLZ8_ANTG3 and wealth also have a positive correlation. It indicates that when the share of 6-10 family homes in a macro-cell increases, it tends to have more poor households.\n",
    "    \n",
    "- ('PLZ8_ANTG3', 0.083747610197565631),('MOBI_REGIO', -0.083692855782351458)\n",
    " - MOBI_REGIO and PLZ8_ANTG3 have a negative correlation. It means that when the share of 6-10 family homes in a macro-cell increases, it tends to have higher movements."
   ]
  },
  {
   "cell_type": "markdown",
   "metadata": {},
   "source": [
    "## Step 3: Clustering\n",
    "\n",
    "### Step 3.1: Apply Clustering to General Population\n",
    "\n",
    "You've assessed and cleaned the demographics data, then scaled and transformed them. Now, it's time to see how the data clusters in the principal components space. In this substep, you will apply k-means clustering to the dataset and use the average within-cluster distances from each point to their assigned cluster's centroid to decide on a number of clusters to keep.\n",
    "\n",
    "- Use sklearn's [KMeans](http://scikit-learn.org/stable/modules/generated/sklearn.cluster.KMeans.html#sklearn.cluster.KMeans) class to perform k-means clustering on the PCA-transformed data.\n",
    "- Then, compute the average difference from each point to its assigned cluster's center. **Hint**: The KMeans object's `.score()` method might be useful here, but note that in sklearn, scores tend to be defined so that larger is better. Try applying it to a small, toy dataset, or use an internet search to help your understanding.\n",
    "- Perform the above two steps for a number of different cluster counts. You can then see how the average distance decreases with an increasing number of clusters. However, each additional cluster provides a smaller net benefit. Use this fact to select a final number of clusters in which to group the data. **Warning**: because of the large size of the dataset, it can take a long time for the algorithm to resolve. The more clusters to fit, the longer the algorithm will take. You should test for cluster counts through at least 10 clusters to get the full picture, but you shouldn't need to test for a number of clusters above about 30.\n",
    "- Once you've selected a final number of clusters to use, re-fit a KMeans instance to perform the clustering operation. Make sure that you also obtain the cluster assignments for the general demographics data, since you'll be using them in the final Step 3.3."
   ]
  },
  {
   "cell_type": "code",
   "execution_count": 40,
   "metadata": {},
   "outputs": [
    {
     "name": "stdout",
     "output_type": "stream",
     "text": [
      "For center: 1, score: 43261142.918474674\n",
      "For center: 2, score: 36529504.777717315\n",
      "For center: 3, score: 33195636.076829635\n",
      "For center: 4, score: 31373966.132945735\n",
      "For center: 5, score: 30059386.024958346\n",
      "For center: 6, score: 28910472.534647148\n",
      "For center: 7, score: 27827953.81333395\n",
      "For center: 8, score: 27082612.557653237\n",
      "For center: 9, score: 26554212.984412264\n",
      "For center: 10, score: 26040951.519022584\n",
      "For center: 11, score: 25637220.66288548\n",
      "For center: 12, score: 25065739.522937085\n",
      "For center: 13, score: 24647028.489656962\n",
      "For center: 14, score: 24375528.885844484\n",
      "For center: 15, score: 24062663.0073495\n"
     ]
    }
   ],
   "source": [
    "# Over a number of different cluster counts...\n",
    "scores = []\n",
    "models = []\n",
    "for center in range(1,16):\n",
    "    # run k-means clustering on the data and...\n",
    "    kmeans = KMeans(n_clusters=center)\n",
    "    models.append(kmeans.fit(new_pca)) \n",
    "    print(f\"For center: {center}, score: {np.abs(models[len(models)-1].score(new_pca))}\")\n",
    "    # compute the average within-cluster distances.\n",
    "    scores.append(np.abs(models[len(models)-1].score(new_pca)))"
   ]
  },
  {
   "cell_type": "code",
   "execution_count": 41,
   "metadata": {},
   "outputs": [
    {
     "data": {
      "image/png": "[encoded data removed]",
      "text/plain": [
       "<matplotlib.figure.Figure at 0x7efd90a5dd30>"
      ]
     },
     "metadata": {
      "needs_background": "light"
     },
     "output_type": "display_data"
    }
   ],
   "source": [
    "# Investigate the change in within-cluster distance across number of clusters.\n",
    "# HINT: Use matplotlib's plot function to visualize this relationship.\n",
    "plt.plot(range(1,16), scores, marker='x', color='g');\n",
    "plt.xlabel('K');\n",
    "plt.ylabel('SSE');\n",
    "plt.title('SSE vs. K');"
   ]
  },
  {
   "cell_type": "code",
   "execution_count": 42,
   "metadata": {},
   "outputs": [],
   "source": [
    "# Re-fit the k-means model with the selected number of clusters and obtain\n",
    "# cluster predictions for the general population demographics data.\n",
    "model = models[8]\n",
    "predict = model.predict(new_pca)"
   ]
  },
  {
   "cell_type": "code",
   "execution_count": 43,
   "metadata": {},
   "outputs": [
    {
     "data": {
      "text/plain": [
       "array([2, 7, 3, ..., 3, 6, 3], dtype=int32)"
      ]
     },
     "execution_count": 43,
     "metadata": {},
     "output_type": "execute_result"
    }
   ],
   "source": [
    "predict"
   ]
  },
  {
   "cell_type": "markdown",
   "metadata": {},
   "source": [
    "### Discussion 3.1: Apply Clustering to General Population\n",
    "\n",
    "According to the squared sum error vs score the graph shows after 9 clusters the slope of the graph started to change very slowly so i chose 9 clusters would be appropriate for clustering."
   ]
  },
  {
   "cell_type": "markdown",
   "metadata": {},
   "source": [
    "### Step 3.2: Apply All Steps to the Customer Data\n",
    "\n",
    "Now that you have clusters and cluster centers for the general population, it's time to see how the customer data maps on to those clusters. Take care to not confuse this for re-fitting all of the models to the customer data. Instead, you're going to use the fits from the general population to clean, transform, and cluster the customer data. In the last step of the project, you will interpret how the general population fits apply to the customer data.\n",
    "\n",
    "- Don't forget when loading in the customers data, that it is semicolon (`;`) delimited.\n",
    "- Apply the same feature wrangling, selection, and engineering steps to the customer demographics using the `clean_data()` function you created earlier. (You can assume that the customer demographics data has similar meaning behind missing data patterns as the general demographics data.)\n",
    "- Use the sklearn objects from the general demographics data, and apply their transformations to the customers data. That is, you should not be using a `.fit()` or `.fit_transform()` method to re-fit the old objects, nor should you be creating new sklearn objects! Carry the data through the feature scaling, PCA, and clustering steps, obtaining cluster assignments for all of the data in the customer demographics data."
   ]
  },
  {
   "cell_type": "code",
   "execution_count": 44,
   "metadata": {},
   "outputs": [],
   "source": [
    "# Load in the customer demographics data.\n",
    "customers = pd.read_csv('Udacity_CUSTOMERS_Subset.csv', delimiter=';')"
   ]
  },
  {
   "cell_type": "code",
   "execution_count": 45,
   "metadata": {},
   "outputs": [
    {
     "name": "stdout",
     "output_type": "stream",
     "text": [
      "{'CAMEO_DEU_2015', 'LP_LEBENSPHASE_FEIN', 'WOHNLAGE', 'CAMEO_INTL_2015', 'LP_LEBENSPHASE_GROB', 'CAMEO_DEUG_2015', 'PRAEGENDE_JUGENDJAHRE', 'PLZ8_BAUMAX'}\n"
     ]
    }
   ],
   "source": [
    "# Apply preprocessing, feature transformation, and clustering from the general\n",
    "# demographics onto the customer data, obtaining cluster predictions for the\n",
    "# customer demographics data.\n",
    "customers_clean = clean_data(customers)"
   ]
  },
  {
   "cell_type": "code",
   "execution_count": 46,
   "metadata": {},
   "outputs": [],
   "source": [
    "customers_clean[customers_clean.columns] = filler.transform(customers_clean[customers_clean.columns])\n",
    "customers_clean[customers_clean.columns] = scaler.transform(customers_clean[customers_clean.columns])"
   ]
  },
  {
   "cell_type": "code",
   "execution_count": 47,
   "metadata": {},
   "outputs": [],
   "source": [
    "customers_clean_pca = pca.transform(customers_clean)"
   ]
  },
  {
   "cell_type": "code",
   "execution_count": 48,
   "metadata": {},
   "outputs": [],
   "source": [
    "predict_customers = model.predict(customers_clean_pca)"
   ]
  },
  {
   "cell_type": "code",
   "execution_count": 49,
   "metadata": {},
   "outputs": [
    {
     "data": {
      "text/plain": [
       "array([0, 5, 3, ..., 0, 8, 0], dtype=int32)"
      ]
     },
     "execution_count": 49,
     "metadata": {},
     "output_type": "execute_result"
    }
   ],
   "source": [
    "predict_customers"
   ]
  },
  {
   "cell_type": "markdown",
   "metadata": {},
   "source": [
    "### Step 3.3: Compare Customer Data to Demographics Data\n",
    "\n",
    "At this point, you have clustered data based on demographics of the general population of Germany, and seen how the customer data for a mail-order sales company maps onto those demographic clusters. In this final substep, you will compare the two cluster distributions to see where the strongest customer base for the company is.\n",
    "\n",
    "Consider the proportion of persons in each cluster for the general population, and the proportions for the customers. If we think the company's customer base to be universal, then the cluster assignment proportions should be fairly similar between the two. If there are only particular segments of the population that are interested in the company's products, then we should see a mismatch from one to the other. If there is a higher proportion of persons in a cluster for the customer data compared to the general population (e.g. 5% of persons are assigned to a cluster for the general population, but 15% of the customer data is closest to that cluster's centroid) then that suggests the people in that cluster to be a target audience for the company. On the other hand, the proportion of the data in a cluster being larger in the general population than the customer data (e.g. only 2% of customers closest to a population centroid that captures 6% of the data) suggests that group of persons to be outside of the target demographics.\n",
    "\n",
    "Take a look at the following points in this step:\n",
    "\n",
    "- Compute the proportion of data points in each cluster for the general population and the customer data. Visualizations will be useful here: both for the individual dataset proportions, but also to visualize the ratios in cluster representation between groups. Seaborn's [`countplot()`](https://seaborn.pydata.org/generated/seaborn.countplot.html) or [`barplot()`](https://seaborn.pydata.org/generated/seaborn.barplot.html) function could be handy.\n",
    "  - Recall the analysis you performed in step 1.1.3 of the project, where you separated out certain data points from the dataset if they had more than a specified threshold of missing values. If you found that this group was qualitatively different from the main bulk of the data, you should treat this as an additional data cluster in this analysis. Make sure that you account for the number of data points in this subset, for both the general population and customer datasets, when making your computations!\n",
    "- Which cluster or clusters are overrepresented in the customer dataset compared to the general population? Select at least one such cluster and infer what kind of people might be represented by that cluster. Use the principal component interpretations from step 2.3 or look at additional components to help you make this inference. Alternatively, you can use the `.inverse_transform()` method of the PCA and StandardScaler objects to transform centroids back to the original data space and interpret the retrieved values directly.\n",
    "- Perform a similar investigation for the underrepresented clusters. Which cluster or clusters are underrepresented in the customer dataset compared to the general population, and what kinds of people are typified by these clusters?"
   ]
  },
  {
   "cell_type": "code",
   "execution_count": 65,
   "metadata": {
    "scrolled": true
   },
   "outputs": [
    {
     "data": {
      "text/plain": [
       "Text(0,0.5,'Customer')"
      ]
     },
     "execution_count": 65,
     "metadata": {},
     "output_type": "execute_result"
    },
    {
     "data": {
      "image/png": "[encoded data removed]",
      "text/plain": [
       "<matplotlib.figure.Figure at 0x7efd9f080da0>"
      ]
     },
     "metadata": {
      "needs_background": "light"
     },
     "output_type": "display_data"
    }
   ],
   "source": [
    "# Compare the proportion of data in each cluster for the customer data to the\n",
    "# proportion of data in each cluster for the general population.\n",
    "figure, axs = plt.subplots(nrows=1, ncols=2, figsize = (10,5))\n",
    "figure.subplots_adjust(hspace = 1, wspace=.3)\n",
    "\n",
    "sns.countplot(predict, ax=axs[0])\n",
    "axs[0].set_title('General Population')\n",
    "axs[0].set_xlabel(\"Cluster\")\n",
    "axs[0].set_ylabel(\"People\")\n",
    "sns.countplot(predict_customers, ax=axs[1])\n",
    "axs[1].set_title('Customer Data')\n",
    "axs[1].set_xlabel(\"Cluster\")\n",
    "axs[1].set_ylabel(\"Customer\")"
   ]
  },
  {
   "cell_type": "code",
   "execution_count": 51,
   "metadata": {},
   "outputs": [
    {
     "data": {
      "text/plain": [
       "ALTERSKATEGORIE_GROB        3.342168\n",
       "ANREDE_KZ                   1.087045\n",
       "CJT_GESAMTTYP               2.935246\n",
       "FINANZ_MINIMALIST           4.769862\n",
       "FINANZ_SPARER               1.557203\n",
       "FINANZ_VORSORGER            4.314433\n",
       "FINANZ_ANLEGER              1.804446\n",
       "FINANZ_UNAUFFAELLIGER       1.892734\n",
       "FINANZ_HAUSBAUER            2.045116\n",
       "FINANZTYP                   4.957177\n",
       "GFK_URLAUBERTYP             6.411664\n",
       "GREEN_AVANTGARDE            0.427772\n",
       "HEALTH_TYP                  2.229260\n",
       "LP_FAMILIE_FEIN             4.863125\n",
       "LP_FAMILIE_GROB             2.789749\n",
       "LP_STATUS_FEIN              8.263607\n",
       "LP_STATUS_GROB              4.001124\n",
       "NATIONALITAET_KZ            1.051323\n",
       "RETOURTYP_BK_S              3.851172\n",
       "SEMIO_SOZ                   5.067657\n",
       "SEMIO_FAM                   4.707289\n",
       "SEMIO_REL                   3.662192\n",
       "SEMIO_MAT                   3.540014\n",
       "SEMIO_VERT                  5.941933\n",
       "SEMIO_LUST                  5.123145\n",
       "SEMIO_ERL                   4.321792\n",
       "SEMIO_KULT                  4.811152\n",
       "SEMIO_RAT                   2.622174\n",
       "SEMIO_KRIT                  3.495828\n",
       "SEMIO_DOM                   3.262856\n",
       "                            ...     \n",
       "ANZ_HH_TITEL                0.011899\n",
       "GEBAEUDETYP                 2.166546\n",
       "KONSUMNAEHE                 3.738285\n",
       "MIN_GEBAEUDEJAHR         1993.027681\n",
       "OST_WEST_KZ                 0.864538\n",
       "KBA05_ANTG1                 2.690057\n",
       "KBA05_ANTG2                 1.053251\n",
       "KBA05_ANTG3                 0.060297\n",
       "KBA05_ANTG4                 0.005656\n",
       "KBA05_GBZ                   4.197682\n",
       "BALLRAUM                    4.793970\n",
       "EWDICHTE                    3.066410\n",
       "INNENSTADT                  5.391226\n",
       "GEBAEUDETYP_RASTER          4.034143\n",
       "MOBI_REGIO                  4.212136\n",
       "ONLINE_AFFINITAET           2.798068\n",
       "KBA13_ANZAHL_PKW          673.209213\n",
       "PLZ8_ANTG1                  2.896187\n",
       "PLZ8_ANTG2                  2.369761\n",
       "PLZ8_ANTG3                  0.943155\n",
       "PLZ8_ANTG4                  0.253667\n",
       "PLZ8_HHZ                    3.456404\n",
       "PLZ8_GBZ                    3.866487\n",
       "ARBEIT                      2.788422\n",
       "ORTSGR_KLS9                 4.119828\n",
       "RELAT_AB                    2.610379\n",
       "movement                    0.572228\n",
       "decade                      3.459959\n",
       "wealth                      2.293022\n",
       "life_stage                  3.454573\n",
       "Length: 73, dtype: float64"
      ]
     },
     "execution_count": 51,
     "metadata": {},
     "output_type": "execute_result"
    }
   ],
   "source": [
    "# What kinds of people are part of a cluster that is overrepresented in the\n",
    "# customer data compared to the general population?\n",
    "\n",
    "# After analyzing the above data it seems like the cluster 0 represents elderly population who are more wealthy than the underrepresented cluster they show more movement compare to underrepresented cluster.\n",
    "\n",
    "centroid_0 = scaler.inverse_transform(pca.inverse_transform(model.cluster_centers_[0]))\n",
    "overrepresented_c = pd.Series(data = centroid_0, index = customers_clean.columns)\n",
    "overrepresented_c"
   ]
  },
  {
   "cell_type": "code",
   "execution_count": 68,
   "metadata": {
    "scrolled": true
   },
   "outputs": [
    {
     "data": {
      "text/plain": [
       "ALTERSKATEGORIE_GROB        1.579474\n",
       "ANREDE_KZ                   2.024797\n",
       "CJT_GESAMTTYP               4.008543\n",
       "FINANZ_MINIMALIST           1.183788\n",
       "FINANZ_SPARER               4.231780\n",
       "FINANZ_VORSORGER            2.190282\n",
       "FINANZ_ANLEGER              4.074668\n",
       "FINANZ_UNAUFFAELLIGER       3.701419\n",
       "FINANZ_HAUSBAUER            4.185595\n",
       "FINANZTYP                   2.237017\n",
       "GFK_URLAUBERTYP             8.848672\n",
       "GREEN_AVANTGARDE            0.049132\n",
       "HEALTH_TYP                  2.238484\n",
       "LP_FAMILIE_FEIN             3.213142\n",
       "LP_FAMILIE_GROB             2.071165\n",
       "LP_STATUS_FEIN              1.635792\n",
       "LP_STATUS_GROB              1.040700\n",
       "NATIONALITAET_KZ            1.403409\n",
       "RETOURTYP_BK_S              2.356209\n",
       "SEMIO_SOZ                   3.310961\n",
       "SEMIO_FAM                   3.902553\n",
       "SEMIO_REL                   5.277450\n",
       "SEMIO_MAT                   5.097891\n",
       "SEMIO_VERT                  2.237428\n",
       "SEMIO_LUST                  2.792385\n",
       "SEMIO_ERL                   4.225850\n",
       "SEMIO_KULT                  4.122157\n",
       "SEMIO_RAT                   6.302657\n",
       "SEMIO_KRIT                  5.612993\n",
       "SEMIO_DOM                   6.305724\n",
       "                            ...     \n",
       "ANZ_HH_TITEL                0.057343\n",
       "GEBAEUDETYP                 3.482101\n",
       "KONSUMNAEHE                 2.140108\n",
       "MIN_GEBAEUDEJAHR         1992.393685\n",
       "OST_WEST_KZ                 0.741348\n",
       "KBA05_ANTG1                 0.463131\n",
       "KBA05_ANTG2                 1.238079\n",
       "KBA05_ANTG3                 1.172369\n",
       "KBA05_ANTG4                 0.587575\n",
       "KBA05_GBZ                   2.229377\n",
       "BALLRAUM                    3.201178\n",
       "EWDICHTE                    5.102327\n",
       "INNENSTADT                  3.462919\n",
       "GEBAEUDETYP_RASTER          3.425436\n",
       "MOBI_REGIO                  1.839671\n",
       "ONLINE_AFFINITAET           3.046578\n",
       "KBA13_ANZAHL_PKW          529.434816\n",
       "PLZ8_ANTG1                  1.496751\n",
       "PLZ8_ANTG2                  3.303523\n",
       "PLZ8_ANTG3                  2.387874\n",
       "PLZ8_ANTG4                  1.261054\n",
       "PLZ8_HHZ                    3.761779\n",
       "PLZ8_GBZ                    2.746460\n",
       "ARBEIT                      3.634930\n",
       "ORTSGR_KLS9                 6.881794\n",
       "RELAT_AB                    3.701595\n",
       "movement                    0.950868\n",
       "decade                      5.638603\n",
       "wealth                      4.288407\n",
       "life_stage                  2.113267\n",
       "Length: 73, dtype: float64"
      ]
     },
     "execution_count": 68,
     "metadata": {},
     "output_type": "execute_result"
    }
   ],
   "source": [
    "# What kinds of people are part of a cluster that is underrepresented in the\n",
    "# customer data compared to the general population?\n",
    "\n",
    "# After analyzing the above data it seems like the data represents low wealth, elderly population with reduced movement.\n",
    "\n",
    "centroid_6 = scaler.inverse_transform(pca.inverse_transform(model.cluster_centers_[2]))\n",
    "underrepresented_c = pd.Series(data = centroid_6, index = customers_clean.columns)\n",
    "underrepresented_c"
   ]
  },
  {
   "cell_type": "markdown",
   "metadata": {},
   "source": [
    "### Discussion 3.3: Compare Customer Data to Demographics Data\n",
    "\n",
    "Compared to general population the customers of the mail order company can be mostly categorised into  cluster 0 and it is also by a margin.\n",
    "\n",
    "After analyzing the given data it seems like the mail order company's main target or main customers are the people of cluster 0 who are old with restricted movement and come from limited wealth and it is understandable because these people can't move much hence are provided on door service and have limited resources so can't afford expensive services or procedures and are also provided goods on the cheap.\n",
    "\n",
    "It also seems like the they shouldn't target wealthy people who have some movement because they tend not to use the service much and also they also shouldn't target relatively younger people because they tend to use their services less compared to older middle income people who tend to show restricted movement."
   ]
  },
  {
   "cell_type": "markdown",
   "metadata": {},
   "source": [
    "> Congratulations on making it this far in the project! Before you finish, make sure to check through the entire notebook from top to bottom to make sure that your analysis follows a logical flow and all of your findings are documented in **Discussion** cells. Once you've checked over all of your work, you should export the notebook as an HTML document to submit for evaluation. You can do this from the menu, navigating to **File -> Download as -> HTML (.html)**. You will submit both that document and this notebook for your project submission."
   ]
  },
  {
   "cell_type": "code",
   "execution_count": 67,
   "metadata": {},
   "outputs": [
    {
     "data": {
      "text/plain": [
       "['[NbConvertApp] Converting notebook Identify_Customer_Segments.ipynb to html',\n",
       " '[NbConvertApp] Writing 566207 bytes to Identify_Customer_Segments.html']"
      ]
     },
     "execution_count": 67,
     "metadata": {},
     "output_type": "execute_result"
    }
   ],
   "source": [
    "!!jupyter nbconvert *ipynb"
   ]
  }
 ],
 "metadata": {
  "kernelspec": {
   "display_name": "Python 3",
   "language": "python",
   "name": "python3"
  },
  "language_info": {
   "codemirror_mode": {
    "name": "ipython",
    "version": 3
   },
   "file_extension": ".py",
   "mimetype": "text/x-python",
   "name": "python",
   "nbconvert_exporter": "python",
   "pygments_lexer": "ipython3",
   "version": "3.6.3"
  }
 },
 "nbformat": 4,
 "nbformat_minor": 2
}
