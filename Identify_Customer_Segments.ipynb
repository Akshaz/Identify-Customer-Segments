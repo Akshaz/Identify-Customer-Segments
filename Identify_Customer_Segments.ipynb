{
 "cells": [
  {
   "cell_type": "markdown",
   "metadata": {},
   "source": [
    "# Project: Identify Customer Segments\n",
    "\n",
    "In this project, you will apply unsupervised learning techniques to identify segments of the population that form the core customer base for a mail-order sales company in Germany. These segments can then be used to direct marketing campaigns towards audiences that will have the highest expected rate of returns. The data that you will use has been provided by our partners at Bertelsmann Arvato Analytics, and represents a real-life data science task.\n",
    "\n",
    "This notebook will help you complete this task by providing a framework within which you will perform your analysis steps. In each step of the project, you will see some text describing the subtask that you will perform, followed by one or more code cells for you to complete your work. **Feel free to add additional code and markdown cells as you go along so that you can explore everything in precise chunks.** The code cells provided in the base template will outline only the major tasks, and will usually not be enough to cover all of the minor tasks that comprise it.\n",
    "\n",
    "It should be noted that while there will be precise guidelines on how you should handle certain tasks in the project, there will also be places where an exact specification is not provided. **There will be times in the project where you will need to make and justify your own decisions on how to treat the data.** These are places where there may not be only one way to handle the data. In real-life tasks, there may be many valid ways to approach an analysis task. One of the most important things you can do is clearly document your approach so that other scientists can understand the decisions you've made.\n",
    "\n",
    "At the end of most sections, there will be a Markdown cell labeled **Discussion**. In these cells, you will report your findings for the completed section, as well as document the decisions that you made in your approach to each subtask. **Your project will be evaluated not just on the code used to complete the tasks outlined, but also your communication about your observations and conclusions at each stage.**"
   ]
  },
  {
   "cell_type": "code",
   "execution_count": 1,
   "metadata": {},
   "outputs": [
    {
     "data": {
      "text/plain": [
       "'\\nImport note: The classroom currently uses sklearn version 0.19.\\nIf you need to use an imputer, it is available in sklearn.preprocessing.Imputer,\\ninstead of sklearn.impute as in newer versions of sklearn.\\n'"
      ]
     },
     "execution_count": 1,
     "metadata": {},
     "output_type": "execute_result"
    }
   ],
   "source": [
    "# import libraries here; add more as necessary\n",
    "import numpy as np\n",
    "import pandas as pd\n",
    "import matplotlib.pyplot as plt\n",
    "import seaborn as sns\n",
    "from sklearn.preprocessing import Imputer, StandardScaler\n",
    "from sklearn.cluster import KMeans\n",
    "from sklearn.decomposition import PCA\n",
    "import operator\n",
    "\n",
    "# magic word for producing visualizations in notebook\n",
    "%matplotlib inline\n",
    "\n",
    "'''\n",
    "Import note: The classroom currently uses sklearn version 0.19.\n",
    "If you need to use an imputer, it is available in sklearn.preprocessing.Imputer,\n",
    "instead of sklearn.impute as in newer versions of sklearn.\n",
    "'''"
   ]
  },
  {
   "cell_type": "markdown",
   "metadata": {},
   "source": [
    "### Step 0: Load the Data\n",
    "\n",
    "There are four files associated with this project (not including this one):\n",
    "\n",
    "- `Udacity_AZDIAS_Subset.csv`: Demographics data for the general population of Germany; 891211 persons (rows) x 85 features (columns).\n",
    "- `Udacity_CUSTOMERS_Subset.csv`: Demographics data for customers of a mail-order company; 191652 persons (rows) x 85 features (columns).\n",
    "- `Data_Dictionary.md`: Detailed information file about the features in the provided datasets.\n",
    "- `AZDIAS_Feature_Summary.csv`: Summary of feature attributes for demographics data; 85 features (rows) x 4 columns\n",
    "\n",
    "Each row of the demographics files represents a single person, but also includes information outside of individuals, including information about their household, building, and neighborhood. You will use this information to cluster the general population into groups with similar demographic properties. Then, you will see how the people in the customers dataset fit into those created clusters. The hope here is that certain clusters are over-represented in the customers data, as compared to the general population; those over-represented clusters will be assumed to be part of the core userbase. This information can then be used for further applications, such as targeting for a marketing campaign.\n",
    "\n",
    "To start off with, load in the demographics data for the general population into a pandas DataFrame, and do the same for the feature attributes summary. Note for all of the `.csv` data files in this project: they're semicolon (`;`) delimited, so you'll need an additional argument in your [`read_csv()`](https://pandas.pydata.org/pandas-docs/stable/generated/pandas.read_csv.html) call to read in the data properly. Also, considering the size of the main dataset, it may take some time for it to load completely.\n",
    "\n",
    "Once the dataset is loaded, it's recommended that you take a little bit of time just browsing the general structure of the dataset and feature summary file. You'll be getting deep into the innards of the cleaning in the first major step of the project, so gaining some general familiarity can help you get your bearings."
   ]
  },
  {
   "cell_type": "code",
   "execution_count": 2,
   "metadata": {},
   "outputs": [],
   "source": [
    "# Load in the general demographics data.\n",
    "azdias = pd.read_csv(\"Udacity_AZDIAS_Subset.csv\", sep=\";\")\n",
    "\n",
    "# Load in the feature summary file.\n",
    "feat_info = pd.read_csv(\"AZDIAS_Feature_Summary.csv\", sep=\";\")"
   ]
  },
  {
   "cell_type": "code",
   "execution_count": 3,
   "metadata": {},
   "outputs": [
    {
     "name": "stdout",
     "output_type": "stream",
     "text": [
      "(891221, 85)\n"
     ]
    },
    {
     "data": {
      "text/html": [
       "<div>\n",
       "<style scoped>\n",
       "    .dataframe tbody tr th:only-of-type {\n",
       "        vertical-align: middle;\n",
       "    }\n",
       "\n",
       "    .dataframe tbody tr th {\n",
       "        vertical-align: top;\n",
       "    }\n",
       "\n",
       "    .dataframe thead th {\n",
       "        text-align: right;\n",
       "    }\n",
       "</style>\n",
       "<table border=\"1\" class=\"dataframe\">\n",
       "  <thead>\n",
       "    <tr style=\"text-align: right;\">\n",
       "      <th></th>\n",
       "      <th>AGER_TYP</th>\n",
       "      <th>ALTERSKATEGORIE_GROB</th>\n",
       "      <th>ANREDE_KZ</th>\n",
       "      <th>CJT_GESAMTTYP</th>\n",
       "      <th>FINANZ_MINIMALIST</th>\n",
       "      <th>FINANZ_SPARER</th>\n",
       "      <th>FINANZ_VORSORGER</th>\n",
       "      <th>FINANZ_ANLEGER</th>\n",
       "      <th>FINANZ_UNAUFFAELLIGER</th>\n",
       "      <th>FINANZ_HAUSBAUER</th>\n",
       "      <th>...</th>\n",
       "      <th>PLZ8_ANTG1</th>\n",
       "      <th>PLZ8_ANTG2</th>\n",
       "      <th>PLZ8_ANTG3</th>\n",
       "      <th>PLZ8_ANTG4</th>\n",
       "      <th>PLZ8_BAUMAX</th>\n",
       "      <th>PLZ8_HHZ</th>\n",
       "      <th>PLZ8_GBZ</th>\n",
       "      <th>ARBEIT</th>\n",
       "      <th>ORTSGR_KLS9</th>\n",
       "      <th>RELAT_AB</th>\n",
       "    </tr>\n",
       "  </thead>\n",
       "  <tbody>\n",
       "    <tr>\n",
       "      <th>0</th>\n",
       "      <td>-1</td>\n",
       "      <td>2</td>\n",
       "      <td>1</td>\n",
       "      <td>2.0</td>\n",
       "      <td>3</td>\n",
       "      <td>4</td>\n",
       "      <td>3</td>\n",
       "      <td>5</td>\n",
       "      <td>5</td>\n",
       "      <td>3</td>\n",
       "      <td>...</td>\n",
       "      <td>NaN</td>\n",
       "      <td>NaN</td>\n",
       "      <td>NaN</td>\n",
       "      <td>NaN</td>\n",
       "      <td>NaN</td>\n",
       "      <td>NaN</td>\n",
       "      <td>NaN</td>\n",
       "      <td>NaN</td>\n",
       "      <td>NaN</td>\n",
       "      <td>NaN</td>\n",
       "    </tr>\n",
       "    <tr>\n",
       "      <th>1</th>\n",
       "      <td>-1</td>\n",
       "      <td>1</td>\n",
       "      <td>2</td>\n",
       "      <td>5.0</td>\n",
       "      <td>1</td>\n",
       "      <td>5</td>\n",
       "      <td>2</td>\n",
       "      <td>5</td>\n",
       "      <td>4</td>\n",
       "      <td>5</td>\n",
       "      <td>...</td>\n",
       "      <td>2.0</td>\n",
       "      <td>3.0</td>\n",
       "      <td>2.0</td>\n",
       "      <td>1.0</td>\n",
       "      <td>1.0</td>\n",
       "      <td>5.0</td>\n",
       "      <td>4.0</td>\n",
       "      <td>3.0</td>\n",
       "      <td>5.0</td>\n",
       "      <td>4.0</td>\n",
       "    </tr>\n",
       "    <tr>\n",
       "      <th>2</th>\n",
       "      <td>-1</td>\n",
       "      <td>3</td>\n",
       "      <td>2</td>\n",
       "      <td>3.0</td>\n",
       "      <td>1</td>\n",
       "      <td>4</td>\n",
       "      <td>1</td>\n",
       "      <td>2</td>\n",
       "      <td>3</td>\n",
       "      <td>5</td>\n",
       "      <td>...</td>\n",
       "      <td>3.0</td>\n",
       "      <td>3.0</td>\n",
       "      <td>1.0</td>\n",
       "      <td>0.0</td>\n",
       "      <td>1.0</td>\n",
       "      <td>4.0</td>\n",
       "      <td>4.0</td>\n",
       "      <td>3.0</td>\n",
       "      <td>5.0</td>\n",
       "      <td>2.0</td>\n",
       "    </tr>\n",
       "    <tr>\n",
       "      <th>3</th>\n",
       "      <td>2</td>\n",
       "      <td>4</td>\n",
       "      <td>2</td>\n",
       "      <td>2.0</td>\n",
       "      <td>4</td>\n",
       "      <td>2</td>\n",
       "      <td>5</td>\n",
       "      <td>2</td>\n",
       "      <td>1</td>\n",
       "      <td>2</td>\n",
       "      <td>...</td>\n",
       "      <td>2.0</td>\n",
       "      <td>2.0</td>\n",
       "      <td>2.0</td>\n",
       "      <td>0.0</td>\n",
       "      <td>1.0</td>\n",
       "      <td>3.0</td>\n",
       "      <td>4.0</td>\n",
       "      <td>2.0</td>\n",
       "      <td>3.0</td>\n",
       "      <td>3.0</td>\n",
       "    </tr>\n",
       "    <tr>\n",
       "      <th>4</th>\n",
       "      <td>-1</td>\n",
       "      <td>3</td>\n",
       "      <td>1</td>\n",
       "      <td>5.0</td>\n",
       "      <td>4</td>\n",
       "      <td>3</td>\n",
       "      <td>4</td>\n",
       "      <td>1</td>\n",
       "      <td>3</td>\n",
       "      <td>2</td>\n",
       "      <td>...</td>\n",
       "      <td>2.0</td>\n",
       "      <td>4.0</td>\n",
       "      <td>2.0</td>\n",
       "      <td>1.0</td>\n",
       "      <td>2.0</td>\n",
       "      <td>3.0</td>\n",
       "      <td>3.0</td>\n",
       "      <td>4.0</td>\n",
       "      <td>6.0</td>\n",
       "      <td>5.0</td>\n",
       "    </tr>\n",
       "  </tbody>\n",
       "</table>\n",
       "<p>5 rows × 85 columns</p>\n",
       "</div>"
      ],
      "text/plain": [
       "   AGER_TYP  ALTERSKATEGORIE_GROB  ANREDE_KZ  CJT_GESAMTTYP  \\\n",
       "0        -1                     2          1            2.0   \n",
       "1        -1                     1          2            5.0   \n",
       "2        -1                     3          2            3.0   \n",
       "3         2                     4          2            2.0   \n",
       "4        -1                     3          1            5.0   \n",
       "\n",
       "   FINANZ_MINIMALIST  FINANZ_SPARER  FINANZ_VORSORGER  FINANZ_ANLEGER  \\\n",
       "0                  3              4                 3               5   \n",
       "1                  1              5                 2               5   \n",
       "2                  1              4                 1               2   \n",
       "3                  4              2                 5               2   \n",
       "4                  4              3                 4               1   \n",
       "\n",
       "   FINANZ_UNAUFFAELLIGER  FINANZ_HAUSBAUER    ...     PLZ8_ANTG1  PLZ8_ANTG2  \\\n",
       "0                      5                 3    ...            NaN         NaN   \n",
       "1                      4                 5    ...            2.0         3.0   \n",
       "2                      3                 5    ...            3.0         3.0   \n",
       "3                      1                 2    ...            2.0         2.0   \n",
       "4                      3                 2    ...            2.0         4.0   \n",
       "\n",
       "   PLZ8_ANTG3  PLZ8_ANTG4  PLZ8_BAUMAX  PLZ8_HHZ  PLZ8_GBZ  ARBEIT  \\\n",
       "0         NaN         NaN          NaN       NaN       NaN     NaN   \n",
       "1         2.0         1.0          1.0       5.0       4.0     3.0   \n",
       "2         1.0         0.0          1.0       4.0       4.0     3.0   \n",
       "3         2.0         0.0          1.0       3.0       4.0     2.0   \n",
       "4         2.0         1.0          2.0       3.0       3.0     4.0   \n",
       "\n",
       "   ORTSGR_KLS9  RELAT_AB  \n",
       "0          NaN       NaN  \n",
       "1          5.0       4.0  \n",
       "2          5.0       2.0  \n",
       "3          3.0       3.0  \n",
       "4          6.0       5.0  \n",
       "\n",
       "[5 rows x 85 columns]"
      ]
     },
     "execution_count": 3,
     "metadata": {},
     "output_type": "execute_result"
    }
   ],
   "source": [
    "# Check the structure of the data after it's loaded (e.g. print the number of\n",
    "# rows and columns, print the first few rows).\n",
    "print(azdias.shape)\n",
    "azdias.head()"
   ]
  },
  {
   "cell_type": "code",
   "execution_count": 4,
   "metadata": {},
   "outputs": [
    {
     "name": "stdout",
     "output_type": "stream",
     "text": [
      "(85, 4)\n"
     ]
    },
    {
     "data": {
      "text/html": [
       "<div>\n",
       "<style scoped>\n",
       "    .dataframe tbody tr th:only-of-type {\n",
       "        vertical-align: middle;\n",
       "    }\n",
       "\n",
       "    .dataframe tbody tr th {\n",
       "        vertical-align: top;\n",
       "    }\n",
       "\n",
       "    .dataframe thead th {\n",
       "        text-align: right;\n",
       "    }\n",
       "</style>\n",
       "<table border=\"1\" class=\"dataframe\">\n",
       "  <thead>\n",
       "    <tr style=\"text-align: right;\">\n",
       "      <th></th>\n",
       "      <th>attribute</th>\n",
       "      <th>information_level</th>\n",
       "      <th>type</th>\n",
       "      <th>missing_or_unknown</th>\n",
       "    </tr>\n",
       "  </thead>\n",
       "  <tbody>\n",
       "    <tr>\n",
       "      <th>0</th>\n",
       "      <td>AGER_TYP</td>\n",
       "      <td>person</td>\n",
       "      <td>categorical</td>\n",
       "      <td>[-1,0]</td>\n",
       "    </tr>\n",
       "    <tr>\n",
       "      <th>1</th>\n",
       "      <td>ALTERSKATEGORIE_GROB</td>\n",
       "      <td>person</td>\n",
       "      <td>ordinal</td>\n",
       "      <td>[-1,0,9]</td>\n",
       "    </tr>\n",
       "    <tr>\n",
       "      <th>2</th>\n",
       "      <td>ANREDE_KZ</td>\n",
       "      <td>person</td>\n",
       "      <td>categorical</td>\n",
       "      <td>[-1,0]</td>\n",
       "    </tr>\n",
       "    <tr>\n",
       "      <th>3</th>\n",
       "      <td>CJT_GESAMTTYP</td>\n",
       "      <td>person</td>\n",
       "      <td>categorical</td>\n",
       "      <td>[0]</td>\n",
       "    </tr>\n",
       "    <tr>\n",
       "      <th>4</th>\n",
       "      <td>FINANZ_MINIMALIST</td>\n",
       "      <td>person</td>\n",
       "      <td>ordinal</td>\n",
       "      <td>[-1]</td>\n",
       "    </tr>\n",
       "  </tbody>\n",
       "</table>\n",
       "</div>"
      ],
      "text/plain": [
       "              attribute information_level         type missing_or_unknown\n",
       "0              AGER_TYP            person  categorical             [-1,0]\n",
       "1  ALTERSKATEGORIE_GROB            person      ordinal           [-1,0,9]\n",
       "2             ANREDE_KZ            person  categorical             [-1,0]\n",
       "3         CJT_GESAMTTYP            person  categorical                [0]\n",
       "4     FINANZ_MINIMALIST            person      ordinal               [-1]"
      ]
     },
     "execution_count": 4,
     "metadata": {},
     "output_type": "execute_result"
    }
   ],
   "source": [
    "print(feat_info.shape)\n",
    "feat_info.head()"
   ]
  },
  {
   "cell_type": "markdown",
   "metadata": {},
   "source": [
    "> **Tip**: Add additional cells to keep everything in reasonably-sized chunks! Keyboard shortcut `esc --> a` (press escape to enter command mode, then press the 'A' key) adds a new cell before the active cell, and `esc --> b` adds a new cell after the active cell. If you need to convert an active cell to a markdown cell, use `esc --> m` and to convert to a code cell, use `esc --> y`. \n",
    "\n",
    "## Step 1: Preprocessing\n",
    "\n",
    "### Step 1.1: Assess Missing Data\n",
    "\n",
    "The feature summary file contains a summary of properties for each demographics data column. You will use this file to help you make cleaning decisions during this stage of the project. First of all, you should assess the demographics data in terms of missing data. Pay attention to the following points as you perform your analysis, and take notes on what you observe. Make sure that you fill in the **Discussion** cell with your findings and decisions at the end of each step that has one!\n",
    "\n",
    "#### Step 1.1.1: Convert Missing Value Codes to NaNs\n",
    "The fourth column of the feature attributes summary (loaded in above as `feat_info`) documents the codes from the data dictionary that indicate missing or unknown data. While the file encodes this as a list (e.g. `[-1,0]`), this will get read in as a string object. You'll need to do a little bit of parsing to make use of it to identify and clean the data. Convert data that matches a 'missing' or 'unknown' value code into a numpy NaN value. You might want to see how much data takes on a 'missing' or 'unknown' code, and how much data is naturally missing, as a point of interest.\n",
    "\n",
    "**As one more reminder, you are encouraged to add additional cells to break up your analysis into manageable chunks.**"
   ]
  },
  {
   "cell_type": "code",
   "execution_count": 5,
   "metadata": {},
   "outputs": [],
   "source": [
    "def RepresentsInt(s):\n",
    "    try: \n",
    "        int(s)\n",
    "        return True\n",
    "    except ValueError:\n",
    "        return False\n",
    "    \n",
    "def func(x):\n",
    "    return [int(l) if RepresentsInt(l) else l for l in x[1:-1].split(',')]\n",
    "\n",
    "feat_info['missing_or_unknown'] = feat_info['missing_or_unknown'].apply(func)"
   ]
  },
  {
   "cell_type": "code",
   "execution_count": 6,
   "metadata": {},
   "outputs": [],
   "source": [
    "for j in range(feat_info.shape[0]):\n",
    "    i = feat_info.loc[j, :]\n",
    "    azdias.loc[azdias[i.attribute].isin(i['missing_or_unknown']), i.attribute] = np.nan"
   ]
  },
  {
   "cell_type": "markdown",
   "metadata": {},
   "source": [
    "#### Step 1.1.2: Assess Missing Data in Each Column\n",
    "\n",
    "How much missing data is present in each column? There are a few columns that are outliers in terms of the proportion of values that are missing. You will want to use matplotlib's [`hist()`](https://matplotlib.org/api/_as_gen/matplotlib.pyplot.hist.html) function to visualize the distribution of missing value counts to find these columns. Identify and document these columns. While some of these columns might have justifications for keeping or re-encoding the data, for this project you should just remove them from the dataframe. (Feel free to make remarks about these outlier columns in the discussion, however!)\n",
    "\n",
    "For the remaining features, are there any patterns in which columns have, or share, missing data?"
   ]
  },
  {
   "cell_type": "code",
   "execution_count": 7,
   "metadata": {
    "scrolled": true
   },
   "outputs": [
    {
     "data": {
      "text/plain": [
       "AGER_TYP                 685843\n",
       "ALTERSKATEGORIE_GROB       2881\n",
       "ANREDE_KZ                     0\n",
       "CJT_GESAMTTYP              4854\n",
       "FINANZ_MINIMALIST             0\n",
       "FINANZ_SPARER                 0\n",
       "FINANZ_VORSORGER              0\n",
       "FINANZ_ANLEGER                0\n",
       "FINANZ_UNAUFFAELLIGER         0\n",
       "FINANZ_HAUSBAUER              0\n",
       "FINANZTYP                     0\n",
       "GEBURTSJAHR              392318\n",
       "GFK_URLAUBERTYP            4854\n",
       "GREEN_AVANTGARDE              0\n",
       "HEALTH_TYP               111196\n",
       "LP_LEBENSPHASE_FEIN       97632\n",
       "LP_LEBENSPHASE_GROB       94572\n",
       "LP_FAMILIE_FEIN           77792\n",
       "LP_FAMILIE_GROB           77792\n",
       "LP_STATUS_FEIN             4854\n",
       "LP_STATUS_GROB             4854\n",
       "NATIONALITAET_KZ         108315\n",
       "PRAEGENDE_JUGENDJAHRE    108164\n",
       "RETOURTYP_BK_S             4854\n",
       "SEMIO_SOZ                     0\n",
       "SEMIO_FAM                     0\n",
       "SEMIO_REL                     0\n",
       "SEMIO_MAT                     0\n",
       "SEMIO_VERT                    0\n",
       "SEMIO_LUST                    0\n",
       "                          ...  \n",
       "OST_WEST_KZ               93148\n",
       "WOHNLAGE                  93148\n",
       "CAMEO_DEUG_2015           99352\n",
       "CAMEO_DEU_2015            99352\n",
       "CAMEO_INTL_2015           99352\n",
       "KBA05_ANTG1              133324\n",
       "KBA05_ANTG2              133324\n",
       "KBA05_ANTG3              133324\n",
       "KBA05_ANTG4              133324\n",
       "KBA05_BAUMAX             476524\n",
       "KBA05_GBZ                133324\n",
       "BALLRAUM                  93740\n",
       "EWDICHTE                  93740\n",
       "INNENSTADT                93740\n",
       "GEBAEUDETYP_RASTER        93155\n",
       "KKK                      158064\n",
       "MOBI_REGIO               133324\n",
       "ONLINE_AFFINITAET          4854\n",
       "REGIOTYP                 158064\n",
       "KBA13_ANZAHL_PKW         105800\n",
       "PLZ8_ANTG1               116515\n",
       "PLZ8_ANTG2               116515\n",
       "PLZ8_ANTG3               116515\n",
       "PLZ8_ANTG4               116515\n",
       "PLZ8_BAUMAX              116515\n",
       "PLZ8_HHZ                 116515\n",
       "PLZ8_GBZ                 116515\n",
       "ARBEIT                    97375\n",
       "ORTSGR_KLS9               97274\n",
       "RELAT_AB                  97375\n",
       "Length: 85, dtype: int64"
      ]
     },
     "execution_count": 7,
     "metadata": {},
     "output_type": "execute_result"
    }
   ],
   "source": [
    "# Perform an assessment of how much missing data there is in each column of the\n",
    "# dataset.\n",
    "azdias.isnull().sum()"
   ]
  },
  {
   "cell_type": "code",
   "execution_count": 8,
   "metadata": {},
   "outputs": [
    {
     "data": {
      "image/png": "[encoded data removed]",
      "text/plain": [
       "<matplotlib.figure.Figure at 0x7fe8cddec710>"
      ]
     },
     "metadata": {
      "needs_background": "light"
     },
     "output_type": "display_data"
    }
   ],
   "source": [
    "# Investigate patterns in the amount of missing data in each column.\n",
    "plt.hist(azdias.isnull().sum(), bins=len(azdias.columns), density=True, alpha=0.6, color='g')\n",
    "plt.show()"
   ]
  },
  {
   "cell_type": "code",
   "execution_count": 9,
   "metadata": {},
   "outputs": [
    {
     "data": {
      "text/plain": [
       "Index(['AGER_TYP', 'GEBURTSJAHR', 'TITEL_KZ', 'ALTER_HH', 'KK_KUNDENTYP',\n",
       "       'KBA05_BAUMAX'],\n",
       "      dtype='object')"
      ]
     },
     "execution_count": 9,
     "metadata": {},
     "output_type": "execute_result"
    }
   ],
   "source": [
    "# Remove the outlier columns from the dataset. (You'll perform other data\n",
    "# engineering tasks such as re-encoding and imputation later.)\n",
    "to_remove = azdias.loc[:,azdias.isnull().sum()/len(azdias) > 0.3].columns\n",
    "azdias = azdias.drop(columns=to_remove)\n",
    "to_remove"
   ]
  },
  {
   "cell_type": "markdown",
   "metadata": {},
   "source": [
    "#### Discussion 1.1.2: Assess Missing Data in Each Column\n",
    "\n",
    "('AGER_TYP', 'GEBURTSJAHR', 'TITEL_KZ', 'ALTER_HH', 'KK_KUNDENTYP','KBA05_BAUMAX') all these columns are the outliers as they have more than 30% values as NaN making them less usefull for clustering."
   ]
  },
  {
   "cell_type": "markdown",
   "metadata": {},
   "source": [
    "#### Step 1.1.3: Assess Missing Data in Each Row\n",
    "\n",
    "Now, you'll perform a similar assessment for the rows of the dataset. How much data is missing in each row? As with the columns, you should see some groups of points that have a very different numbers of missing values. Divide the data into two subsets: one for data points that are above some threshold for missing values, and a second subset for points below that threshold.\n",
    "\n",
    "In order to know what to do with the outlier rows, we should see if the distribution of data values on columns that are not missing data (or are missing very little data) are similar or different between the two groups. Select at least five of these columns and compare the distribution of values.\n",
    "- You can use seaborn's [`countplot()`](https://seaborn.pydata.org/generated/seaborn.countplot.html) function to create a bar chart of code frequencies and matplotlib's [`subplot()`](https://matplotlib.org/api/_as_gen/matplotlib.pyplot.subplot.html) function to put bar charts for the two subplots side by side.\n",
    "- To reduce repeated code, you might want to write a function that can perform this comparison, taking as one of its arguments a column to be compared.\n",
    "\n",
    "Depending on what you observe in your comparison, this will have implications on how you approach your conclusions later in the analysis. If the distributions of non-missing features look similar between the data with many missing values and the data with few or no missing values, then we could argue that simply dropping those points from the analysis won't present a major issue. On the other hand, if the data with many missing values looks very different from the data with few or no missing values, then we should make a note on those data as special. We'll revisit these data later on. **Either way, you should continue your analysis for now using just the subset of the data with few or no missing values.**"
   ]
  },
  {
   "cell_type": "code",
   "execution_count": 10,
   "metadata": {},
   "outputs": [
    {
     "data": {
      "image/png": "[encoded data removed]",
      "text/plain": [
       "<matplotlib.figure.Figure at 0x7fe8cbd39a20>"
      ]
     },
     "metadata": {
      "needs_background": "light"
     },
     "output_type": "display_data"
    }
   ],
   "source": [
    "# How much data is missing in each row of the dataset?\n",
    "missing_row = azdias.isnull().sum(axis=1)\n",
    "plt.hist(azdias.isnull().sum(axis=1), bins=azdias.shape[1], density=True, alpha=0.6, color='g')\n",
    "plt.show()"
   ]
  },
  {
   "cell_type": "code",
   "execution_count": 11,
   "metadata": {},
   "outputs": [],
   "source": [
    "# Write code to divide the data into two subsets based on the number of missing\n",
    "# values in each row.\n",
    "azdias_lt5 = azdias[azdias.isnull().sum(axis=1) < 5]\n",
    "azdias_mt5 = azdias[azdias.isnull().sum(axis=1) >= 5]"
   ]
  },
  {
   "cell_type": "code",
   "execution_count": 12,
   "metadata": {},
   "outputs": [
    {
     "data": {
      "image/png": "[encoded data removed]",
      "text/plain": [
       "<matplotlib.figure.Figure at 0x7fe8ab5f8ba8>"
      ]
     },
     "metadata": {},
     "output_type": "display_data"
    }
   ],
   "source": [
    "# Compare the distribution of values for at least five columns where there are\n",
    "# no or few missing values, between the two subsets.\n",
    "fig, axs = plt.subplots(5, 2, figsize=(15, 15), facecolor='w', edgecolor='k')\n",
    "fig.subplots_adjust(hspace =2 , wspace=.2)\n",
    "axs = axs.ravel()\n",
    "for i in range(5):\n",
    "    sns.countplot(azdias_lt5[azdias_lt5.columns[i]], ax=axs[i*2])\n",
    "    axs[i*2].set_title('Less Than 5 Missing')\n",
    "    sns.countplot(azdias_mt5[azdias_lt5.columns[i]], ax=axs[i*2+1])\n",
    "    axs[i*2+1].set_title('More Than 5 Missing')"
   ]
  },
  {
   "cell_type": "markdown",
   "metadata": {},
   "source": [
    "#### Discussion 1.1.3: Assess Missing Data in Each Row\n",
    "\n",
    "Yes, i think so both data is varying in most of the cases but not by much in some cases."
   ]
  },
  {
   "cell_type": "markdown",
   "metadata": {},
   "source": [
    "### Step 1.2: Select and Re-Encode Features\n",
    "\n",
    "Checking for missing data isn't the only way in which you can prepare a dataset for analysis. Since the unsupervised learning techniques to be used will only work on data that is encoded numerically, you need to make a few encoding changes or additional assumptions to be able to make progress. In addition, while almost all of the values in the dataset are encoded using numbers, not all of them represent numeric values. Check the third column of the feature summary (`feat_info`) for a summary of types of measurement.\n",
    "- For numeric and interval data, these features can be kept without changes.\n",
    "- Most of the variables in the dataset are ordinal in nature. While ordinal values may technically be non-linear in spacing, make the simplifying assumption that the ordinal variables can be treated as being interval in nature (that is, kept without any changes).\n",
    "- Special handling may be necessary for the remaining two variable types: categorical, and 'mixed'.\n",
    "\n",
    "In the first two parts of this sub-step, you will perform an investigation of the categorical and mixed-type features and make a decision on each of them, whether you will keep, drop, or re-encode each. Then, in the last part, you will create a new data frame with only the selected and engineered columns.\n",
    "\n",
    "Data wrangling is often the trickiest part of the data analysis process, and there's a lot of it to be done here. But stick with it: once you're done with this step, you'll be ready to get to the machine learning parts of the project!"
   ]
  },
  {
   "cell_type": "code",
   "execution_count": 13,
   "metadata": {},
   "outputs": [
    {
     "data": {
      "text/plain": [
       "ordinal        49\n",
       "categorical    21\n",
       "mixed           7\n",
       "numeric         7\n",
       "interval        1\n",
       "Name: type, dtype: int64"
      ]
     },
     "execution_count": 13,
     "metadata": {},
     "output_type": "execute_result"
    }
   ],
   "source": [
    "# How many features are there of each data type?\n",
    "feat_info['type'].value_counts()"
   ]
  },
  {
   "cell_type": "markdown",
   "metadata": {},
   "source": [
    "#### Step 1.2.1: Re-Encode Categorical Features\n",
    "\n",
    "For categorical data, you would ordinarily need to encode the levels as dummy variables. Depending on the number of categories, perform one of the following:\n",
    "- For binary (two-level) categoricals that take numeric values, you can keep them without needing to do anything.\n",
    "- There is one binary variable that takes on non-numeric values. For this one, you need to re-encode the values as numbers or create a dummy variable.\n",
    "- For multi-level categoricals (three or more values), you can choose to encode the values using multiple dummy variables (e.g. via [OneHotEncoder](http://scikit-learn.org/stable/modules/generated/sklearn.preprocessing.OneHotEncoder.html)), or (to keep things straightforward) just drop them from the analysis. As always, document your choices in the Discussion section."
   ]
  },
  {
   "cell_type": "code",
   "execution_count": 14,
   "metadata": {},
   "outputs": [
    {
     "name": "stdout",
     "output_type": "stream",
     "text": [
      "ANREDE_KZ\n",
      "2: [ 2.  1.]\n",
      "float64\n",
      "\n",
      "CJT_GESAMTTYP\n",
      "6: [ 5.  3.  2.  4.  1.  6.]\n",
      "float64\n",
      "\n",
      "FINANZTYP\n",
      "6: [ 1.  5.  2.  4.  6.  3.]\n",
      "float64\n",
      "\n",
      "GFK_URLAUBERTYP\n",
      "12: [ 10.   5.   1.  12.   9.   3.   8.  11.   4.   7.   6.   2.]\n",
      "float64\n",
      "\n",
      "GREEN_AVANTGARDE\n",
      "2: [ 0.  1.]\n",
      "float64\n",
      "\n",
      "LP_FAMILIE_FEIN\n",
      "11: [  5.   1.  10.   2.   7.  11.   8.   4.   6.   9.   3.]\n",
      "float64\n",
      "\n",
      "LP_FAMILIE_GROB\n",
      "5: [ 3.  1.  5.  2.  4.]\n",
      "float64\n",
      "\n",
      "LP_STATUS_FEIN\n",
      "10: [  2.   3.   4.   1.  10.   8.   9.   5.   6.   7.]\n",
      "float64\n",
      "\n",
      "LP_STATUS_GROB\n",
      "5: [ 1.  2.  5.  4.  3.]\n",
      "float64\n",
      "\n",
      "NATIONALITAET_KZ\n",
      "4: [  1.   2.  nan   3.]\n",
      "float64\n",
      "\n",
      "SHOPPER_TYP\n",
      "5: [  3.   2.   0.   1.  nan]\n",
      "float64\n",
      "\n",
      "SOHO_KZ\n",
      "2: [ 1.  0.]\n",
      "float64\n",
      "\n",
      "VERS_TYP\n",
      "3: [  2.   1.  nan]\n",
      "float64\n",
      "\n",
      "ZABEOTYP\n",
      "6: [ 5.  4.  1.  6.  3.  2.]\n",
      "float64\n",
      "\n",
      "GEBAEUDETYP\n",
      "7: [ 8.  1.  3.  6.  2.  4.  5.]\n",
      "float64\n",
      "\n",
      "OST_WEST_KZ\n",
      "2: ['W' 'O']\n",
      "object\n",
      "\n",
      "CAMEO_DEUG_2015\n",
      "10: ['8' '4' '6' '2' '1' '9' '5' '3' '7' nan]\n",
      "object\n",
      "\n",
      "CAMEO_DEU_2015\n",
      "45: ['8A' '4C' '6B' '8C' '4A' '2D' '1A' '1E' '9D' '5D' '9E' '9B' '2A' '1B' '8B'\n",
      " '3D' '7A' nan '4E' '4B' '3C' '5A' '7B' '9A' '6D' '6E' '2C' '5C' '9C' '7D'\n",
      " '5E' '1D' '8D' '6C' '6A' '5B' '7C' '4D' '3A' '2B' '7E' '3B' '6F' '5F' '1C']\n",
      "object\n",
      "\n"
     ]
    }
   ],
   "source": [
    "for i in feat_info.loc[feat_info['type']==\"categorical\", 'attribute']:\n",
    "    if i not in to_remove:\n",
    "        l = azdias_lt5[i].unique()\n",
    "        print(f\"{i}\\n{len(l)}: {l}\\n{azdias_lt5[i].dtype}\\n\")"
   ]
  },
  {
   "cell_type": "code",
   "execution_count": 15,
   "metadata": {
    "scrolled": true
   },
   "outputs": [
    {
     "name": "stdout",
     "output_type": "stream",
     "text": [
      "['OST_WEST_KZ']\n",
      "['CAMEO_DEUG_2015', 'CAMEO_DEU_2015']\n"
     ]
    }
   ],
   "source": [
    "# Assess categorical variables: which are binary, which are multi-level, and\n",
    "# which one needs to be re-encoded?\n",
    "binary_to_encode = []\n",
    "binary = []\n",
    "multilevel_to_remove = []\n",
    "\n",
    "for i in feat_info.loc[feat_info['type']==\"categorical\", 'attribute']:\n",
    "    if i not in to_remove:\n",
    "        if len(azdias_lt5[i].unique()) > 2:\n",
    "            try:\n",
    "                sum(azdias_lt5[i].unique())\n",
    "            except:\n",
    "                multilevel_to_remove.append(i)\n",
    "        else:\n",
    "            try:\n",
    "                sum(azdias_lt5[i].unique())\n",
    "            except:\n",
    "                binary_to_encode.append(i)\n",
    "                \n",
    "print(binary_to_encode, multilevel_to_remove, sep=\"\\n\")"
   ]
  },
  {
   "cell_type": "code",
   "execution_count": 16,
   "metadata": {},
   "outputs": [],
   "source": [
    "azdias_lt5 = azdias_lt5.iloc[:,~azdias_lt5.columns.duplicated()]"
   ]
  },
  {
   "cell_type": "code",
   "execution_count": 17,
   "metadata": {},
   "outputs": [],
   "source": [
    "# Re-encode categorical variable(s) to be kept in the analysis.\n",
    "azdias_lt5['OST_WEST_KZ'] = azdias_lt5['OST_WEST_KZ'].map({'W': 1, 'O': 0})\n",
    "azdias_lt5 = azdias_lt5.drop(columns=multilevel_to_remove+['KKK', 'REGIOTYP'], axis = 1)"
   ]
  },
  {
   "cell_type": "code",
   "execution_count": 18,
   "metadata": {},
   "outputs": [],
   "source": [
    "azdias_lt5 = azdias_lt5.iloc[:,~azdias_lt5.columns.duplicated()]"
   ]
  },
  {
   "cell_type": "markdown",
   "metadata": {},
   "source": [
    "#### Discussion 1.2.1: Re-Encode Categorical Features\n",
    "\n",
    "I only preserved binary data and removed all the multilevel data because i think so it will only increase dimensions in out matrix and do no good.\n",
    "Columns removed: 'CAMEO_DEUG_2015', 'CAMEO_DEU_2015'\n",
    "\n",
    "I also performed OneHotEncoding of column 'OST_WEST_KZ' as data was W, O"
   ]
  },
  {
   "cell_type": "markdown",
   "metadata": {},
   "source": [
    "#### Step 1.2.2: Engineer Mixed-Type Features\n",
    "\n",
    "There are a handful of features that are marked as \"mixed\" in the feature summary that require special treatment in order to be included in the analysis. There are two in particular that deserve attention; the handling of the rest are up to your own choices:\n",
    "- \"PRAEGENDE_JUGENDJAHRE\" combines information on three dimensions: generation by decade, movement (mainstream vs. avantgarde), and nation (east vs. west). While there aren't enough levels to disentangle east from west, you should create two new variables to capture the other two dimensions: an interval-type variable for decade, and a binary variable for movement.\n",
    "- \"CAMEO_INTL_2015\" combines information on two axes: wealth and life stage. Break up the two-digit codes by their 'tens'-place and 'ones'-place digits into two new ordinal variables (which, for the purposes of this project, is equivalent to just treating them as their raw numeric values).\n",
    "- If you decide to keep or engineer new features around the other mixed-type features, make sure you note your steps in the Discussion section.\n",
    "\n",
    "Be sure to check `Data_Dictionary.md` for the details needed to finish these tasks."
   ]
  },
  {
   "cell_type": "code",
   "execution_count": 19,
   "metadata": {},
   "outputs": [
    {
     "data": {
      "text/plain": [
       "1    14.0\n",
       "2    15.0\n",
       "4     8.0\n",
       "5     3.0\n",
       "6    10.0\n",
       "Name: PRAEGENDE_JUGENDJAHRE, dtype: float64"
      ]
     },
     "execution_count": 19,
     "metadata": {},
     "output_type": "execute_result"
    }
   ],
   "source": [
    "# Investigate \"PRAEGENDE_JUGENDJAHRE\" and engineer two new variables.\n",
    "azdias_lt5['PRAEGENDE_JUGENDJAHRE'].head()"
   ]
  },
  {
   "cell_type": "code",
   "execution_count": 20,
   "metadata": {},
   "outputs": [],
   "source": [
    "def make_interval(x):\n",
    "    if x in (1,2):\n",
    "        return 1\n",
    "    elif x in (3,4):\n",
    "        return 2\n",
    "    elif x in (5,6,7):\n",
    "        return 3\n",
    "    elif x in (8,9):\n",
    "        return 4\n",
    "    elif x in (10,11,12,13):\n",
    "        return 5\n",
    "    return 6\n",
    "    \n",
    "def make_movement(x):\n",
    "    if x in (2,4,6,7,9,11,13,15):\n",
    "        return 0\n",
    "    return 1"
   ]
  },
  {
   "cell_type": "code",
   "execution_count": 21,
   "metadata": {},
   "outputs": [],
   "source": [
    "azdias_lt5['movement'] = azdias_lt5['PRAEGENDE_JUGENDJAHRE'].apply(make_movement)"
   ]
  },
  {
   "cell_type": "code",
   "execution_count": 22,
   "metadata": {},
   "outputs": [],
   "source": [
    "azdias_lt5['decade'] = azdias_lt5['PRAEGENDE_JUGENDJAHRE'].apply(make_interval)"
   ]
  },
  {
   "cell_type": "code",
   "execution_count": 23,
   "metadata": {},
   "outputs": [
    {
     "data": {
      "text/plain": [
       "1    51\n",
       "2    24\n",
       "4    43\n",
       "5    54\n",
       "6    22\n",
       "Name: CAMEO_INTL_2015, dtype: object"
      ]
     },
     "execution_count": 23,
     "metadata": {},
     "output_type": "execute_result"
    }
   ],
   "source": [
    "# Investigate \"CAMEO_INTL_2015\" and engineer two new variables.\n",
    "azdias_lt5['CAMEO_INTL_2015'].head()"
   ]
  },
  {
   "cell_type": "code",
   "execution_count": 24,
   "metadata": {},
   "outputs": [],
   "source": [
    "def wealth(x):\n",
    "    if x // 10 ==1:\n",
    "        return 1\n",
    "    elif x // 10 ==2:\n",
    "        return 2\n",
    "    elif x // 10 ==3:\n",
    "        return 3\n",
    "    elif x // 10 ==4:\n",
    "        return 4\n",
    "    return 5\n",
    "    \n",
    "def life_stage(x):\n",
    "    if x % 10 ==1:\n",
    "        return 1\n",
    "    elif x % 10 ==2:\n",
    "        return 2\n",
    "    elif x % 10 ==3:\n",
    "        return 3\n",
    "    elif x % 10 ==4:\n",
    "        return 4\n",
    "    return 5"
   ]
  },
  {
   "cell_type": "code",
   "execution_count": 25,
   "metadata": {},
   "outputs": [],
   "source": [
    "azdias_lt5['wealth'] = pd.to_numeric(azdias_lt5['CAMEO_INTL_2015'], errors='coerce').apply(wealth)"
   ]
  },
  {
   "cell_type": "code",
   "execution_count": 26,
   "metadata": {},
   "outputs": [],
   "source": [
    "azdias_lt5['life_stage'] = pd.to_numeric(azdias_lt5['CAMEO_INTL_2015'], errors='coerce').apply(life_stage)"
   ]
  },
  {
   "cell_type": "markdown",
   "metadata": {},
   "source": [
    "#### Discussion 1.2.2: Engineer Mixed-Type Features\n",
    "\n",
    "I removed all columns with mixed type, except 'CAMEO_INTL_2015', 'PRAEGENDE_JUGENDJAHRE' and seperately encoded them based on the values mentioned in the Data_Dictionary.md and added the respective columns and dropped them from the table."
   ]
  },
  {
   "cell_type": "markdown",
   "metadata": {},
   "source": [
    "#### Step 1.2.3: Complete Feature Selection\n",
    "\n",
    "In order to finish this step up, you need to make sure that your data frame now only has the columns that you want to keep. To summarize, the dataframe should consist of the following:\n",
    "- All numeric, interval, and ordinal type columns from the original dataset.\n",
    "- Binary categorical features (all numerically-encoded).\n",
    "- Engineered features from other multi-level categorical features and mixed features.\n",
    "\n",
    "Make sure that for any new columns that you have engineered, that you've excluded the original columns from the final dataset. Otherwise, their values will interfere with the analysis later on the project. For example, you should not keep \"PRAEGENDE_JUGENDJAHRE\", since its values won't be useful for the algorithm: only the values derived from it in the engineered features you created should be retained. As a reminder, your data should only be from **the subset with few or no missing values**."
   ]
  },
  {
   "cell_type": "code",
   "execution_count": 27,
   "metadata": {},
   "outputs": [],
   "source": [
    "mixed = []\n",
    "for i in feat_info.loc[feat_info['type']==\"mixed\", 'attribute']:\n",
    "    if i not in to_remove:\n",
    "        mixed.append(i)\n",
    "azdias_lt5 = azdias_lt5.drop(columns=mixed, axis=1)        "
   ]
  },
  {
   "cell_type": "markdown",
   "metadata": {},
   "source": [
    "### Step 1.3: Create a Cleaning Function\n",
    "\n",
    "Even though you've finished cleaning up the general population demographics data, it's important to look ahead to the future and realize that you'll need to perform the same cleaning steps on the customer demographics data. In this substep, complete the function below to execute the main feature selection, encoding, and re-engineering steps you performed above. Then, when it comes to looking at the customer data in Step 3, you can just run this function on that DataFrame to get the trimmed dataset in a single step."
   ]
  },
  {
   "cell_type": "code",
   "execution_count": 28,
   "metadata": {},
   "outputs": [],
   "source": [
    "def clean_data(df):\n",
    "    \"\"\"\n",
    "    Perform feature trimming, re-encoding, and engineering for demographics\n",
    "    data\n",
    "    \n",
    "    INPUT: Demographics DataFrame\n",
    "    OUTPUT: Trimmed and cleaned demographics DataFrame\n",
    "    \"\"\"\n",
    "    \n",
    "    # Put in code here to execute all main cleaning steps:\n",
    "    # convert missing value codes into NaNs, ...\n",
    "    \n",
    "    def make_interval(x):\n",
    "        if x in (1,2):\n",
    "            return 1\n",
    "        elif x in (3,4):\n",
    "            return 2\n",
    "        elif x in (5,6,7):\n",
    "            return 3\n",
    "        elif x in (8,9):\n",
    "            return 4\n",
    "        elif x in (10,11,12,13):\n",
    "            return 5\n",
    "        return 6\n",
    "    \n",
    "    def make_movement(x):\n",
    "        if x in (2,4,6,7,9,11,13,15):\n",
    "            return 0\n",
    "        return 1\n",
    "    \n",
    "    def wealth(x):\n",
    "        if x // 10 ==1:\n",
    "            return 1\n",
    "        elif x // 10 ==2:\n",
    "            return 2\n",
    "        elif x // 10 ==3:\n",
    "            return 3\n",
    "        elif x // 10 ==4:\n",
    "            return 4\n",
    "        return 5\n",
    "    \n",
    "    def life_stage(x):\n",
    "        if x % 10 ==1:\n",
    "            return 1\n",
    "        elif x % 10 ==2:\n",
    "            return 2\n",
    "        elif x % 10 ==3:\n",
    "            return 3\n",
    "        elif x % 10 ==4:\n",
    "            return 4\n",
    "        return 5\n",
    "    \n",
    "    def RepresentsInt(s):\n",
    "        try: \n",
    "            int(s)\n",
    "            return True\n",
    "        except ValueError:\n",
    "            return False\n",
    "\n",
    "    def func(x):\n",
    "        return [int(l) if RepresentsInt(l) else l for l in x[1:-1].split(',')]\n",
    "    \n",
    "    #feat_info['missing_or_unknown'] = feat_info['missing_or_unknown'].apply(func)\n",
    "    \n",
    "    for j in range(feat_info.shape[0]):\n",
    "        i = feat_info.loc[j, :]\n",
    "        df.loc[df[i.attribute].isin(i['missing_or_unknown']), i.attribute] = np.nan\n",
    "    # remove selected columns and rows, ...\n",
    "    df = df.drop(columns=df.loc[:,df.isnull().sum()/len(df) > 0.3].columns)\n",
    "    df = df[df.isnull().sum(axis=1) < 5]\n",
    "    # select, re-encode, and engineer column values.\n",
    "    \n",
    "    remove = ['KKK', 'REGIOTYP']\n",
    "    binary_to_encode = []\n",
    "    multilevel_to_remove = []\n",
    "    mixed = []\n",
    "\n",
    "    for i in feat_info.loc[feat_info['type']==\"categorical\", 'attribute']:\n",
    "        if i not in to_remove:\n",
    "            if len(df[i].unique()) > 2:\n",
    "                try:\n",
    "                    sum(df[i].unique())\n",
    "                except:\n",
    "                    multilevel_to_remove.append(i)\n",
    "            else:\n",
    "                try:\n",
    "                    sum(df[i].unique())\n",
    "                except:\n",
    "                    binary_to_encode.append(i)\n",
    "\n",
    "    for i in feat_info.loc[feat_info['type']==\"mixed\", 'attribute']:\n",
    "        if i not in to_remove:\n",
    "            mixed.append(i)\n",
    "    df['OST_WEST_KZ'] = df['OST_WEST_KZ'].map({'W': 1, 'O': 0})\n",
    "    df = df.iloc[:,~df.columns.duplicated()]\n",
    "    df['movement'] = df['PRAEGENDE_JUGENDJAHRE'].apply(make_movement)\n",
    "    df['decade'] = df['PRAEGENDE_JUGENDJAHRE'].apply(make_interval)\n",
    "    df['wealth'] = pd.to_numeric(df['CAMEO_INTL_2015'], errors='coerce').apply(wealth)\n",
    "    df['life_stage'] = pd.to_numeric(df['CAMEO_INTL_2015'], errors='coerce').apply(life_stage)\n",
    "    print(set(df).difference(azdias_lt5))\n",
    "    df = df.drop(columns=list(set(df).difference(azdias_lt5)), axis=1)\n",
    "    \n",
    "    # Return the cleaned dataframe.\n",
    "    return df\n",
    "    \n",
    "    "
   ]
  },
  {
   "cell_type": "markdown",
   "metadata": {},
   "source": [
    "## Step 2: Feature Transformation\n",
    "\n",
    "### Step 2.1: Apply Feature Scaling\n",
    "\n",
    "Before we apply dimensionality reduction techniques to the data, we need to perform feature scaling so that the principal component vectors are not influenced by the natural differences in scale for features. Starting from this part of the project, you'll want to keep an eye on the [API reference page for sklearn](http://scikit-learn.org/stable/modules/classes.html) to help you navigate to all of the classes and functions that you'll need. In this substep, you'll need to check the following:\n",
    "\n",
    "- sklearn requires that data not have missing values in order for its estimators to work properly. So, before applying the scaler to your data, make sure that you've cleaned the DataFrame of the remaining missing values. This can be as simple as just removing all data points with missing data, or applying an [Imputer](http://scikit-learn.org/stable/modules/generated/sklearn.preprocessing.Imputer.html) to replace all missing values. You might also try a more complicated procedure where you temporarily remove missing values in order to compute the scaling parameters before re-introducing those missing values and applying imputation. Think about how much missing data you have and what possible effects each approach might have on your analysis, and justify your decision in the discussion section below.\n",
    "- For the actual scaling function, a [StandardScaler](http://scikit-learn.org/stable/modules/generated/sklearn.preprocessing.StandardScaler.html) instance is suggested, scaling each feature to mean 0 and standard deviation 1.\n",
    "- For these classes, you can make use of the `.fit_transform()` method to both fit a procedure to the data as well as apply the transformation to the data at the same time. Don't forget to keep the fit sklearn objects handy, since you'll be applying them to the customer demographics data towards the end of the project."
   ]
  },
  {
   "cell_type": "code",
   "execution_count": 29,
   "metadata": {},
   "outputs": [],
   "source": [
    "columns = azdias_lt5.columns"
   ]
  },
  {
   "cell_type": "code",
   "execution_count": 30,
   "metadata": {},
   "outputs": [
    {
     "data": {
      "text/plain": [
       "array([[ 1.,  2.,  5., ...,  6.,  5.,  1.],\n",
       "       [ 3.,  2.,  3., ...,  6.,  2.,  4.],\n",
       "       [ 3.,  1.,  5., ...,  4.,  4.,  3.],\n",
       "       ..., \n",
       "       [ 2.,  1.,  4., ...,  5.,  5.,  1.],\n",
       "       [ 1.,  1.,  3., ...,  6.,  5.,  1.],\n",
       "       [ 4.,  1.,  1., ...,  2.,  4.,  3.]])"
      ]
     },
     "execution_count": 30,
     "metadata": {},
     "output_type": "execute_result"
    }
   ],
   "source": [
    "# If you've not yet cleaned the dataset of all NaN values, then investigate and\n",
    "# do that now.\n",
    "filler = Imputer().fit(azdias_lt5)\n",
    "azdias_lt5 = filler.transform(azdias_lt5)\n",
    "azdias_lt5"
   ]
  },
  {
   "cell_type": "code",
   "execution_count": 31,
   "metadata": {},
   "outputs": [
    {
     "data": {
      "text/plain": [
       "array([[-1.74038655,  0.96968782,  1.00327407, ...,  1.14253046,\n",
       "         1.16536079, -1.26171855],\n",
       "       [ 0.20236144,  0.96968782, -0.30605531, ...,  1.14253046,\n",
       "        -0.87756267,  0.74452682],\n",
       "       [ 0.20236144, -1.03125973,  1.00327407, ..., -0.23208426,\n",
       "         0.4843863 ,  0.07577836],\n",
       "       ..., \n",
       "       [-0.76901255, -1.03125973,  0.34860938, ...,  0.4552231 ,\n",
       "         1.16536079, -1.26171855],\n",
       "       [-1.74038655, -1.03125973, -0.30605531, ...,  1.14253046,\n",
       "         1.16536079, -1.26171855],\n",
       "       [ 1.17373543, -1.03125973, -1.6153847 , ..., -1.60669899,\n",
       "         0.4843863 ,  0.07577836]])"
      ]
     },
     "execution_count": 31,
     "metadata": {},
     "output_type": "execute_result"
    }
   ],
   "source": [
    "# Apply feature scaling to the general population demographics data.\n",
    "scaler = StandardScaler().fit(azdias_lt5)\n",
    "azdias_lt5 = scaler.transform(azdias_lt5)\n",
    "azdias_lt5"
   ]
  },
  {
   "cell_type": "code",
   "execution_count": 32,
   "metadata": {},
   "outputs": [
    {
     "data": {
      "text/html": [
       "<div>\n",
       "<style scoped>\n",
       "    .dataframe tbody tr th:only-of-type {\n",
       "        vertical-align: middle;\n",
       "    }\n",
       "\n",
       "    .dataframe tbody tr th {\n",
       "        vertical-align: top;\n",
       "    }\n",
       "\n",
       "    .dataframe thead th {\n",
       "        text-align: right;\n",
       "    }\n",
       "</style>\n",
       "<table border=\"1\" class=\"dataframe\">\n",
       "  <thead>\n",
       "    <tr style=\"text-align: right;\">\n",
       "      <th></th>\n",
       "      <th>ALTERSKATEGORIE_GROB</th>\n",
       "      <th>ANREDE_KZ</th>\n",
       "      <th>CJT_GESAMTTYP</th>\n",
       "      <th>FINANZ_MINIMALIST</th>\n",
       "      <th>FINANZ_SPARER</th>\n",
       "      <th>FINANZ_VORSORGER</th>\n",
       "      <th>FINANZ_ANLEGER</th>\n",
       "      <th>FINANZ_UNAUFFAELLIGER</th>\n",
       "      <th>FINANZ_HAUSBAUER</th>\n",
       "      <th>FINANZTYP</th>\n",
       "      <th>...</th>\n",
       "      <th>PLZ8_ANTG4</th>\n",
       "      <th>PLZ8_HHZ</th>\n",
       "      <th>PLZ8_GBZ</th>\n",
       "      <th>ARBEIT</th>\n",
       "      <th>ORTSGR_KLS9</th>\n",
       "      <th>RELAT_AB</th>\n",
       "      <th>movement</th>\n",
       "      <th>decade</th>\n",
       "      <th>wealth</th>\n",
       "      <th>life_stage</th>\n",
       "    </tr>\n",
       "  </thead>\n",
       "  <tbody>\n",
       "    <tr>\n",
       "      <th>0</th>\n",
       "      <td>-1.740387</td>\n",
       "      <td>0.969688</td>\n",
       "      <td>1.003274</td>\n",
       "      <td>-1.522118</td>\n",
       "      <td>1.586768</td>\n",
       "      <td>-1.051497</td>\n",
       "      <td>1.515221</td>\n",
       "      <td>1.047789</td>\n",
       "      <td>1.338667</td>\n",
       "      <td>-1.397916</td>\n",
       "      <td>...</td>\n",
       "      <td>0.404881</td>\n",
       "      <td>1.431222</td>\n",
       "      <td>0.566784</td>\n",
       "      <td>-0.185830</td>\n",
       "      <td>-0.139645</td>\n",
       "      <td>0.675916</td>\n",
       "      <td>0.541398</td>\n",
       "      <td>1.142530</td>\n",
       "      <td>1.165361</td>\n",
       "      <td>-1.261719</td>\n",
       "    </tr>\n",
       "    <tr>\n",
       "      <th>1</th>\n",
       "      <td>0.202361</td>\n",
       "      <td>0.969688</td>\n",
       "      <td>-0.306055</td>\n",
       "      <td>-1.522118</td>\n",
       "      <td>0.906946</td>\n",
       "      <td>-1.772674</td>\n",
       "      <td>-0.546081</td>\n",
       "      <td>0.320028</td>\n",
       "      <td>1.338667</td>\n",
       "      <td>-1.397916</td>\n",
       "      <td>...</td>\n",
       "      <td>-0.967350</td>\n",
       "      <td>0.400940</td>\n",
       "      <td>0.566784</td>\n",
       "      <td>-0.185830</td>\n",
       "      <td>-0.139645</td>\n",
       "      <td>-0.802590</td>\n",
       "      <td>-1.847069</td>\n",
       "      <td>1.142530</td>\n",
       "      <td>-0.877563</td>\n",
       "      <td>0.744527</td>\n",
       "    </tr>\n",
       "    <tr>\n",
       "      <th>2</th>\n",
       "      <td>0.202361</td>\n",
       "      <td>-1.031260</td>\n",
       "      <td>1.003274</td>\n",
       "      <td>0.680524</td>\n",
       "      <td>0.227123</td>\n",
       "      <td>0.390857</td>\n",
       "      <td>-1.233182</td>\n",
       "      <td>0.320028</td>\n",
       "      <td>-0.838345</td>\n",
       "      <td>0.523156</td>\n",
       "      <td>...</td>\n",
       "      <td>0.404881</td>\n",
       "      <td>-0.629342</td>\n",
       "      <td>-0.332631</td>\n",
       "      <td>0.822105</td>\n",
       "      <td>0.296211</td>\n",
       "      <td>1.415170</td>\n",
       "      <td>0.541398</td>\n",
       "      <td>-0.232084</td>\n",
       "      <td>0.484386</td>\n",
       "      <td>0.075778</td>\n",
       "    </tr>\n",
       "    <tr>\n",
       "      <th>3</th>\n",
       "      <td>-1.740387</td>\n",
       "      <td>0.969688</td>\n",
       "      <td>-0.960720</td>\n",
       "      <td>-0.053690</td>\n",
       "      <td>-1.132523</td>\n",
       "      <td>1.112035</td>\n",
       "      <td>-0.546081</td>\n",
       "      <td>-0.407733</td>\n",
       "      <td>1.338667</td>\n",
       "      <td>-0.917648</td>\n",
       "      <td>...</td>\n",
       "      <td>0.404881</td>\n",
       "      <td>1.431222</td>\n",
       "      <td>1.466200</td>\n",
       "      <td>-1.193766</td>\n",
       "      <td>-1.011357</td>\n",
       "      <td>-0.063337</td>\n",
       "      <td>0.541398</td>\n",
       "      <td>-1.606699</td>\n",
       "      <td>1.165361</td>\n",
       "      <td>0.744527</td>\n",
       "    </tr>\n",
       "    <tr>\n",
       "      <th>4</th>\n",
       "      <td>-0.769013</td>\n",
       "      <td>0.969688</td>\n",
       "      <td>1.003274</td>\n",
       "      <td>-1.522118</td>\n",
       "      <td>1.586768</td>\n",
       "      <td>-1.772674</td>\n",
       "      <td>1.515221</td>\n",
       "      <td>1.047789</td>\n",
       "      <td>-0.112675</td>\n",
       "      <td>0.042888</td>\n",
       "      <td>...</td>\n",
       "      <td>-0.967350</td>\n",
       "      <td>1.431222</td>\n",
       "      <td>1.466200</td>\n",
       "      <td>0.822105</td>\n",
       "      <td>0.296211</td>\n",
       "      <td>-0.063337</td>\n",
       "      <td>0.541398</td>\n",
       "      <td>0.455223</td>\n",
       "      <td>-0.877563</td>\n",
       "      <td>-0.592970</td>\n",
       "    </tr>\n",
       "  </tbody>\n",
       "</table>\n",
       "<p>5 rows × 73 columns</p>\n",
       "</div>"
      ],
      "text/plain": [
       "   ALTERSKATEGORIE_GROB  ANREDE_KZ  CJT_GESAMTTYP  FINANZ_MINIMALIST  \\\n",
       "0             -1.740387   0.969688       1.003274          -1.522118   \n",
       "1              0.202361   0.969688      -0.306055          -1.522118   \n",
       "2              0.202361  -1.031260       1.003274           0.680524   \n",
       "3             -1.740387   0.969688      -0.960720          -0.053690   \n",
       "4             -0.769013   0.969688       1.003274          -1.522118   \n",
       "\n",
       "   FINANZ_SPARER  FINANZ_VORSORGER  FINANZ_ANLEGER  FINANZ_UNAUFFAELLIGER  \\\n",
       "0       1.586768         -1.051497        1.515221               1.047789   \n",
       "1       0.906946         -1.772674       -0.546081               0.320028   \n",
       "2       0.227123          0.390857       -1.233182               0.320028   \n",
       "3      -1.132523          1.112035       -0.546081              -0.407733   \n",
       "4       1.586768         -1.772674        1.515221               1.047789   \n",
       "\n",
       "   FINANZ_HAUSBAUER  FINANZTYP     ...      PLZ8_ANTG4  PLZ8_HHZ  PLZ8_GBZ  \\\n",
       "0          1.338667  -1.397916     ...        0.404881  1.431222  0.566784   \n",
       "1          1.338667  -1.397916     ...       -0.967350  0.400940  0.566784   \n",
       "2         -0.838345   0.523156     ...        0.404881 -0.629342 -0.332631   \n",
       "3          1.338667  -0.917648     ...        0.404881  1.431222  1.466200   \n",
       "4         -0.112675   0.042888     ...       -0.967350  1.431222  1.466200   \n",
       "\n",
       "     ARBEIT  ORTSGR_KLS9  RELAT_AB  movement    decade    wealth  life_stage  \n",
       "0 -0.185830    -0.139645  0.675916  0.541398  1.142530  1.165361   -1.261719  \n",
       "1 -0.185830    -0.139645 -0.802590 -1.847069  1.142530 -0.877563    0.744527  \n",
       "2  0.822105     0.296211  1.415170  0.541398 -0.232084  0.484386    0.075778  \n",
       "3 -1.193766    -1.011357 -0.063337  0.541398 -1.606699  1.165361    0.744527  \n",
       "4  0.822105     0.296211 -0.063337  0.541398  0.455223 -0.877563   -0.592970  \n",
       "\n",
       "[5 rows x 73 columns]"
      ]
     },
     "execution_count": 32,
     "metadata": {},
     "output_type": "execute_result"
    }
   ],
   "source": [
    "azdias_lt5 = pd.DataFrame(azdias_lt5, columns = columns)\n",
    "azdias_lt5.head()"
   ]
  },
  {
   "cell_type": "markdown",
   "metadata": {},
   "source": [
    "### Discussion 2.1: Apply Feature Scaling\n",
    "\n",
    "First I replaced all the missing values with the mean of column vales and then I used standard scaler to scale valus between -1 to 1 so that it can be easy to understand the values impact in the training process."
   ]
  },
  {
   "cell_type": "markdown",
   "metadata": {},
   "source": [
    "### Step 2.2: Perform Dimensionality Reduction\n",
    "\n",
    "On your scaled data, you are now ready to apply dimensionality reduction techniques.\n",
    "\n",
    "- Use sklearn's [PCA](http://scikit-learn.org/stable/modules/generated/sklearn.decomposition.PCA.html) class to apply principal component analysis on the data, thus finding the vectors of maximal variance in the data. To start, you should not set any parameters (so all components are computed) or set a number of components that is at least half the number of features (so there's enough features to see the general trend in variability).\n",
    "- Check out the ratio of variance explained by each principal component as well as the cumulative variance explained. Try plotting the cumulative or sequential values using matplotlib's [`plot()`](https://matplotlib.org/api/_as_gen/matplotlib.pyplot.plot.html) function. Based on what you find, select a value for the number of transformed features you'll retain for the clustering part of the project.\n",
    "- Once you've made a choice for the number of components to keep, make sure you re-fit a PCA instance to perform the decided-on transformation."
   ]
  },
  {
   "cell_type": "code",
   "execution_count": 33,
   "metadata": {},
   "outputs": [],
   "source": [
    "# Apply PCA to the data.\n",
    "pca = PCA()\n",
    "few_missing_pca = pca.fit_transform(azdias_lt5)"
   ]
  },
  {
   "cell_type": "code",
   "execution_count": 34,
   "metadata": {},
   "outputs": [],
   "source": [
    "def scree_plot(pca):\n",
    "    '''\n",
    "    Creates a scree plot associated with the principal components \n",
    "    \n",
    "    INPUT: pca - the result of instantian of PCA in scikit learn\n",
    "            \n",
    "    OUTPUT:\n",
    "            None\n",
    "    '''\n",
    "    num_components = len(pca.explained_variance_ratio_)\n",
    "    ind = np.arange(num_components)\n",
    "    vals = pca.explained_variance_ratio_\n",
    " \n",
    "    plt.figure(figsize=(10, 6))\n",
    "    ax = plt.subplot(111)\n",
    "    cumvals = np.cumsum(vals)\n",
    "    ax.bar(ind, vals)\n",
    "    ax.plot(ind, cumvals)\n",
    "    \n",
    "    ax.xaxis.set_tick_params(width=0)\n",
    "    ax.yaxis.set_tick_params(width=2, length=12)\n",
    " \n",
    "    ax.set_xlabel(\"Principal Component\")\n",
    "    ax.set_ylabel(\"Variance Explained (%)\")\n",
    "    plt.title('Explained Variance Per Principal Component')"
   ]
  },
  {
   "cell_type": "code",
   "execution_count": 35,
   "metadata": {},
   "outputs": [
    {
     "data": {
      "image/png": "[encoded data removed]",
      "text/plain": [
       "<matplotlib.figure.Figure at 0x7fe8ab275048>"
      ]
     },
     "metadata": {
      "needs_background": "light"
     },
     "output_type": "display_data"
    }
   ],
   "source": [
    "# Investigate the variance accounted for by each principal component.\n",
    "scree_plot(pca)"
   ]
  },
  {
   "cell_type": "code",
   "execution_count": 36,
   "metadata": {},
   "outputs": [],
   "source": [
    "# Re-apply PCA to the data while selecting for number of components to retain.\n",
    "pca = PCA(n_components=30)\n",
    "new_pca = pca.fit_transform(azdias_lt5)"
   ]
  },
  {
   "cell_type": "markdown",
   "metadata": {},
   "source": [
    "### Discussion 2.2: Perform Dimensionality Reduction\n",
    "\n",
    "I have retained 30 principal components, as it expalains for more than 80% variances while reducing the number of features by more than 50%."
   ]
  },
  {
   "cell_type": "markdown",
   "metadata": {},
   "source": [
    "### Step 2.3: Interpret Principal Components\n",
    "\n",
    "Now that we have our transformed principal components, it's a nice idea to check out the weight of each variable on the first few components to see if they can be interpreted in some fashion.\n",
    "\n",
    "As a reminder, each principal component is a unit vector that points in the direction of highest variance (after accounting for the variance captured by earlier principal components). The further a weight is from zero, the more the principal component is in the direction of the corresponding feature. If two features have large weights of the same sign (both positive or both negative), then increases in one tend expect to be associated with increases in the other. To contrast, features with different signs can be expected to show a negative correlation: increases in one variable should result in a decrease in the other.\n",
    "\n",
    "- To investigate the features, you should map each weight to their corresponding feature name, then sort the features according to weight. The most interesting features for each principal component, then, will be those at the beginning and end of the sorted list. Use the data dictionary document to help you understand these most prominent features, their relationships, and what a positive or negative value on the principal component might indicate.\n",
    "- You should investigate and interpret feature associations from the first three principal components in this substep. To help facilitate this, you should write a function that you can call at any time to print the sorted list of feature weights, for the *i*-th principal component. This might come in handy in the next step of the project, when you interpret the tendencies of the discovered clusters."
   ]
  },
  {
   "cell_type": "code",
   "execution_count": 37,
   "metadata": {},
   "outputs": [
    {
     "data": {
      "text/plain": [
       "[('ALTERSKATEGORIE_GROB', 0.25301459082551303),\n",
       " ('FINANZ_VORSORGER', 0.22479040640605874),\n",
       " ('SEMIO_ERL', 0.22394252065782322),\n",
       " ('SEMIO_LUST', 0.17742115151096066),\n",
       " ('RETOURTYP_BK_S', 0.16364096372286915),\n",
       " ('W_KEIT_KIND_HH', 0.12508546457271402),\n",
       " ('SEMIO_KRIT', 0.11531523504759197),\n",
       " ('FINANZ_HAUSBAUER', 0.11039793343488409),\n",
       " ('FINANZTYP', 0.10637559081213403),\n",
       " ('SHOPPER_TYP', 0.10362949948063553),\n",
       " ('SEMIO_KAEM', 0.10204115793128317),\n",
       " ('PLZ8_ANTG3', 0.084841993975045576),\n",
       " ('ANREDE_KZ', 0.082250542807286442),\n",
       " ('PLZ8_ANTG4', 0.081072397437642135),\n",
       " ('EWDICHTE', 0.08062010928114885),\n",
       " ('ORTSGR_KLS9', 0.079385707459748114),\n",
       " ('FINANZ_MINIMALIST', 0.06839479060241288),\n",
       " ('wealth', 0.067269957018872811),\n",
       " ('KBA05_ANTG4', 0.064754543321877453),\n",
       " ('ARBEIT', 0.060946186002881916),\n",
       " ('SEMIO_DOM', 0.060794454907001048),\n",
       " ('PLZ8_ANTG2', 0.05702145240591304),\n",
       " ('ANZ_HAUSHALTE_AKTIV', 0.057014469576889576),\n",
       " ('RELAT_AB', 0.056966480902850232),\n",
       " ('WOHNDAUER_2008', 0.055279221333170744),\n",
       " ('HH_EINKOMMEN_SCORE', 0.050089883361479556),\n",
       " ('KBA05_ANTG3', 0.04275802582552149),\n",
       " ('ANZ_HH_TITEL', 0.028721287325109517),\n",
       " ('VERS_TYP', 0.026476887102428619),\n",
       " ('movement', 0.018710837287942785),\n",
       " ('GEBAEUDETYP', 0.014416296945211743),\n",
       " ('PLZ8_HHZ', 0.011432204081261919),\n",
       " ('ANZ_TITEL', 0.0068210147843019986),\n",
       " ('life_stage', 0.0027367985018132614),\n",
       " ('SOHO_KZ', -0.0022493573905967225),\n",
       " ('KBA05_ANTG2', -0.0070284234509689382),\n",
       " ('ZABEOTYP', -0.014390292225164853),\n",
       " ('GREEN_AVANTGARDE', -0.018710837287942792),\n",
       " ('LP_STATUS_GROB', -0.027000349078246635),\n",
       " ('OST_WEST_KZ', -0.028590961324434977),\n",
       " ('KBA13_ANZAHL_PKW', -0.032260704873119682),\n",
       " ('GFK_URLAUBERTYP', -0.03616549306955253),\n",
       " ('MIN_GEBAEUDEJAHR', -0.037324176863453198),\n",
       " ('GEBAEUDETYP_RASTER', -0.038899417878374982),\n",
       " ('LP_STATUS_FEIN', -0.045821713184555544),\n",
       " ('BALLRAUM', -0.052490141108124451),\n",
       " ('HEALTH_TYP', -0.05441077768120274),\n",
       " ('KONSUMNAEHE', -0.061371690451565548),\n",
       " ('SEMIO_VERT', -0.062715154783288415),\n",
       " ('PLZ8_GBZ', -0.065645142711778529),\n",
       " ('INNENSTADT', -0.065761705207219773),\n",
       " ('NATIONALITAET_KZ', -0.067685234209564835),\n",
       " ('ANZ_PERSONEN', -0.073596632349254967),\n",
       " ('KBA05_ANTG1', -0.076327443544495832),\n",
       " ('LP_FAMILIE_FEIN', -0.08120288579943348),\n",
       " ('LP_FAMILIE_GROB', -0.082142389267903876),\n",
       " ('PLZ8_ANTG1', -0.083662415015505642),\n",
       " ('KBA05_GBZ', -0.083731301444796388),\n",
       " ('MOBI_REGIO', -0.084808970299948036),\n",
       " ('SEMIO_SOZ', -0.098363035124844414),\n",
       " ('CJT_GESAMTTYP', -0.12071609139738232),\n",
       " ('SEMIO_MAT', -0.15244557337886927),\n",
       " ('ONLINE_AFFINITAET', -0.16756613530894918),\n",
       " ('SEMIO_RAT', -0.16880180480066551),\n",
       " ('SEMIO_FAM', -0.17321899723829423),\n",
       " ('FINANZ_ANLEGER', -0.20225615243749939),\n",
       " ('SEMIO_KULT', -0.2117965789101654),\n",
       " ('FINANZ_UNAUFFAELLIGER', -0.22414242488910527),\n",
       " ('SEMIO_TRADV', -0.22530583275941635),\n",
       " ('SEMIO_PFLICHT', -0.22755808301355046),\n",
       " ('FINANZ_SPARER', -0.23332818833910485),\n",
       " ('decade', -0.23849255105536793),\n",
       " ('SEMIO_REL', -0.25303776782812593)]"
      ]
     },
     "execution_count": 37,
     "metadata": {},
     "output_type": "execute_result"
    }
   ],
   "source": [
    "# Map weights for the first principal component to corresponding feature names\n",
    "# and then print the linked values, sorted by weight.\n",
    "# HINT: Try defining a function here or in a new cell that you can reuse in the\n",
    "# other cells.\n",
    "def pca_weights(pca, i):\n",
    "    weight_map = {}\n",
    "    for counter, feature in enumerate(azdias_lt5.columns):\n",
    "        weight_map[feature] = pca.components_[i][counter]\n",
    "    \n",
    "    sorted_weights = sorted(weight_map.items(), key=operator.itemgetter(1), reverse=True)\n",
    "    \n",
    "    return sorted_weights\n",
    "weights = pca_weights(pca,1)\n",
    "weights"
   ]
  },
  {
   "cell_type": "code",
   "execution_count": 38,
   "metadata": {},
   "outputs": [
    {
     "data": {
      "text/plain": [
       "[('SEMIO_VERT', 0.33802606815931374),\n",
       " ('SEMIO_SOZ', 0.26055757818579495),\n",
       " ('SEMIO_FAM', 0.25410415954022886),\n",
       " ('SEMIO_KULT', 0.23628836733669506),\n",
       " ('FINANZ_MINIMALIST', 0.14608634636193904),\n",
       " ('FINANZTYP', 0.11150534079361471),\n",
       " ('RETOURTYP_BK_S', 0.11113230013544495),\n",
       " ('W_KEIT_KIND_HH', 0.09532444014455603),\n",
       " ('SEMIO_REL', 0.088349401082337478),\n",
       " ('FINANZ_VORSORGER', 0.08669254457176459),\n",
       " ('ALTERSKATEGORIE_GROB', 0.067951711176772678),\n",
       " ('SEMIO_MAT', 0.059899439277880336),\n",
       " ('SEMIO_LUST', 0.058572017386677742),\n",
       " ('PLZ8_ANTG4', 0.052417253893772366),\n",
       " ('ORTSGR_KLS9', 0.052199862967386802),\n",
       " ('PLZ8_ANTG3', 0.051714157998321117),\n",
       " ('EWDICHTE', 0.051221552986175582),\n",
       " ('GREEN_AVANTGARDE', 0.040249640155254326),\n",
       " ('ARBEIT', 0.039793646871604409),\n",
       " ('RELAT_AB', 0.034865528979754035),\n",
       " ('wealth', 0.033731840510320139),\n",
       " ('PLZ8_ANTG2', 0.033472122020736184),\n",
       " ('KBA05_ANTG4', 0.032668131444804467),\n",
       " ('ANZ_HAUSHALTE_AKTIV', 0.030219944383587882),\n",
       " ('WOHNDAUER_2008', 0.029173588700611004),\n",
       " ('LP_STATUS_GROB', 0.028215149274809403),\n",
       " ('VERS_TYP', 0.024547616790580484),\n",
       " ('ANZ_HH_TITEL', 0.014439653797297161),\n",
       " ('LP_STATUS_FEIN', 0.013335112781052165),\n",
       " ('KBA05_ANTG3', 0.011565787924557588),\n",
       " ('GEBAEUDETYP', 0.010064529236021002),\n",
       " ('ANZ_TITEL', 0.0094254061124573376),\n",
       " ('PLZ8_HHZ', 0.0047869529904046373),\n",
       " ('SOHO_KZ', 0.00026861917460165751),\n",
       " ('HEALTH_TYP', -0.00849557514093046),\n",
       " ('KBA05_ANTG2', -0.010452835018326804),\n",
       " ('MIN_GEBAEUDEJAHR', -0.013245664174171208),\n",
       " ('HH_EINKOMMEN_SCORE', -0.01347297539658446),\n",
       " ('life_stage', -0.014536882413902167),\n",
       " ('ANZ_PERSONEN', -0.016457730043079981),\n",
       " ('OST_WEST_KZ', -0.020149224169085541),\n",
       " ('GFK_URLAUBERTYP', -0.022287222718664651),\n",
       " ('NATIONALITAET_KZ', -0.023261343913765352),\n",
       " ('KBA13_ANZAHL_PKW', -0.02668960421181691),\n",
       " ('LP_FAMILIE_FEIN', -0.029231106506702454),\n",
       " ('CJT_GESAMTTYP', -0.030757857051504689),\n",
       " ('LP_FAMILIE_GROB', -0.03081578142944506),\n",
       " ('KBA05_ANTG1', -0.031051691610418604),\n",
       " ('KBA05_GBZ', -0.033217142598961719),\n",
       " ('GEBAEUDETYP_RASTER', -0.034166042817585743),\n",
       " ('MOBI_REGIO', -0.037734291212054488),\n",
       " ('BALLRAUM', -0.038002014075956325),\n",
       " ('movement', -0.040249640155254313),\n",
       " ('KONSUMNAEHE', -0.04257980030928607),\n",
       " ('FINANZ_HAUSBAUER', -0.042602804612786406),\n",
       " ('PLZ8_GBZ', -0.044586886346453476),\n",
       " ('INNENSTADT', -0.047646568459982969),\n",
       " ('PLZ8_ANTG1', -0.05344699196928282),\n",
       " ('ZABEOTYP', -0.057577867933797711),\n",
       " ('ONLINE_AFFINITAET', -0.058915664587649623),\n",
       " ('SEMIO_PFLICHT', -0.064123945963104931),\n",
       " ('SEMIO_TRADV', -0.073328873573445891),\n",
       " ('FINANZ_UNAUFFAELLIGER', -0.089748655411743164),\n",
       " ('FINANZ_SPARER', -0.090367362929849829),\n",
       " ('decade', -0.095919400720783865),\n",
       " ('SHOPPER_TYP', -0.12927364820407533),\n",
       " ('FINANZ_ANLEGER', -0.17568127872604367),\n",
       " ('SEMIO_ERL', -0.17909894903158174),\n",
       " ('SEMIO_RAT', -0.20315851811703617),\n",
       " ('SEMIO_KRIT', -0.26449645528774091),\n",
       " ('SEMIO_DOM', -0.30693895316689768),\n",
       " ('SEMIO_KAEM', -0.33146868759978165),\n",
       " ('ANREDE_KZ', -0.36305704584205173)]"
      ]
     },
     "execution_count": 38,
     "metadata": {},
     "output_type": "execute_result"
    }
   ],
   "source": [
    "# Map weights for the second principal component to corresponding feature names\n",
    "# and then print the linked values, sorted by weight.\n",
    "weights2 = pca_weights(pca,2)\n",
    "weights2"
   ]
  },
  {
   "cell_type": "code",
   "execution_count": 39,
   "metadata": {},
   "outputs": [
    {
     "data": {
      "text/plain": [
       "[('GREEN_AVANTGARDE', 0.31266844826054069),\n",
       " ('EWDICHTE', 0.26818069680614359),\n",
       " ('ORTSGR_KLS9', 0.26740170141776959),\n",
       " ('LP_FAMILIE_GROB', 0.26316686868501826),\n",
       " ('LP_FAMILIE_FEIN', 0.26175490653060929),\n",
       " ('ANZ_PERSONEN', 0.24618001617961058),\n",
       " ('ONLINE_AFFINITAET', 0.18272988895111547),\n",
       " ('PLZ8_ANTG3', 0.13948272776964163),\n",
       " ('LP_STATUS_GROB', 0.13778233736171017),\n",
       " ('RELAT_AB', 0.13605769978997556),\n",
       " ('PLZ8_ANTG4', 0.13262178995940302),\n",
       " ('ARBEIT', 0.11301638958447911),\n",
       " ('LP_STATUS_FEIN', 0.11164068877182236),\n",
       " ('PLZ8_ANTG2', 0.10794186033862307),\n",
       " ('SEMIO_DOM', 0.095592148494776902),\n",
       " ('CJT_GESAMTTYP', 0.091848685882831266),\n",
       " ('SEMIO_KAEM', 0.090650135293597833),\n",
       " ('SHOPPER_TYP', 0.06601868095644331),\n",
       " ('FINANZ_MINIMALIST', 0.063004969908399003),\n",
       " ('PLZ8_HHZ', 0.062343600510176525),\n",
       " ('WOHNDAUER_2008', 0.057596510297060748),\n",
       " ('OST_WEST_KZ', 0.050591798591722068),\n",
       " ('KBA05_ANTG1', 0.048390835049483674),\n",
       " ('FINANZ_UNAUFFAELLIGER', 0.047627634511282081),\n",
       " ('ANZ_TITEL', 0.04189793278846661),\n",
       " ('ANREDE_KZ', 0.035125219594604372),\n",
       " ('ANZ_HH_TITEL', 0.032590035686759729),\n",
       " ('decade', 0.03244095053628606),\n",
       " ('SEMIO_RAT', 0.031324461995670072),\n",
       " ('VERS_TYP', 0.022098003407596295),\n",
       " ('KBA05_ANTG4', 0.020511410791601434),\n",
       " ('SEMIO_TRADV', 0.01579790293046654),\n",
       " ('MOBI_REGIO', 0.014654783956718268),\n",
       " ('SEMIO_PFLICHT', 0.014186467353179352),\n",
       " ('life_stage', 0.013887186616982294),\n",
       " ('SEMIO_LUST', 0.013033793383410985),\n",
       " ('GEBAEUDETYP', 0.008232186996069769),\n",
       " ('SEMIO_SOZ', 0.0077021692105199149),\n",
       " ('NATIONALITAET_KZ', 0.0075951645498484963),\n",
       " ('RETOURTYP_BK_S', 0.0072948693885308011),\n",
       " ('FINANZTYP', 0.0063310567592421447),\n",
       " ('SEMIO_ERL', 0.0053615307514212679),\n",
       " ('SOHO_KZ', 0.004085237190643313),\n",
       " ('ANZ_HAUSHALTE_AKTIV', 0.0039581221895948317),\n",
       " ('KBA05_GBZ', -0.0001811252640593682),\n",
       " ('FINANZ_SPARER', -0.00093916344856942186),\n",
       " ('HEALTH_TYP', -0.0022308932219501755),\n",
       " ('SEMIO_REL', -0.011160777686700025),\n",
       " ('SEMIO_VERT', -0.011707822490278881),\n",
       " ('SEMIO_KRIT', -0.013828612707643824),\n",
       " ('SEMIO_MAT', -0.014092858142403668),\n",
       " ('FINANZ_VORSORGER', -0.01487166469099014),\n",
       " ('ALTERSKATEGORIE_GROB', -0.020774370563656427),\n",
       " ('SEMIO_KULT', -0.021243144915115319),\n",
       " ('SEMIO_FAM', -0.031395851641512609),\n",
       " ('KBA05_ANTG2', -0.037179683987723165),\n",
       " ('GFK_URLAUBERTYP', -0.040400510702263276),\n",
       " ('KBA13_ANZAHL_PKW', -0.041922485473653133),\n",
       " ('MIN_GEBAEUDEJAHR', -0.042435487061075826),\n",
       " ('KBA05_ANTG3', -0.044396092390459191),\n",
       " ('wealth', -0.045377348949454374),\n",
       " ('PLZ8_GBZ', -0.07236536429925175),\n",
       " ('GEBAEUDETYP_RASTER', -0.075396126223142054),\n",
       " ('FINANZ_ANLEGER', -0.087231184440243636),\n",
       " ('FINANZ_HAUSBAUER', -0.098234174428040943),\n",
       " ('PLZ8_ANTG1', -0.10394956015758401),\n",
       " ('ZABEOTYP', -0.11731198437094978),\n",
       " ('KONSUMNAEHE', -0.13582100997805188),\n",
       " ('W_KEIT_KIND_HH', -0.1846748038920939),\n",
       " ('HH_EINKOMMEN_SCORE', -0.19114542791921413),\n",
       " ('BALLRAUM', -0.22848309361377703),\n",
       " ('INNENSTADT', -0.23154156483242752),\n",
       " ('movement', -0.31266844826054069)]"
      ]
     },
     "execution_count": 39,
     "metadata": {},
     "output_type": "execute_result"
    }
   ],
   "source": [
    "# Map weights for the third principal component to corresponding feature names\n",
    "# and then print the linked values, sorted by weight.\n",
    "weights3 = pca_weights(pca,3)\n",
    "weights3"
   ]
  },
  {
   "cell_type": "markdown",
   "metadata": {},
   "source": [
    "### Discussion 2.3: Interpret Principal Components\n",
    "\n",
    "From the first principal component, it can be seen that\n",
    "\n",
    "- ('PLZ8_ANTG3', 0.083747610197565631),('PLZ8_ANTG4', 0.080005448654858799)\n",
    " - PLZ8_ANTG3 and PLZ8_ANTG4 have a positive correlation. The share of 10+ family homes and the share of 6-10 family homes for macro-cells tend to increase together.\n",
    "\n",
    "- ('PLZ8_ANTG3', 0.083747610197565631),('wealth', 0.066701717430199023)\n",
    " - PLZ8_ANTG3 and wealth also have a positive correlation. It indicates that when the share of 6-10 family homes in a macro-cell increases, it tends to have more poor households.\n",
    "    \n",
    "- ('PLZ8_ANTG3', 0.083747610197565631),('MOBI_REGIO', -0.083692855782351458)\n",
    " - MOBI_REGIO and PLZ8_ANTG3 have a negative correlation. It means that when the share of 6-10 family homes in a macro-cell increases, it tends to have higher movements."
   ]
  },
  {
   "cell_type": "markdown",
   "metadata": {},
   "source": [
    "## Step 3: Clustering\n",
    "\n",
    "### Step 3.1: Apply Clustering to General Population\n",
    "\n",
    "You've assessed and cleaned the demographics data, then scaled and transformed them. Now, it's time to see how the data clusters in the principal components space. In this substep, you will apply k-means clustering to the dataset and use the average within-cluster distances from each point to their assigned cluster's centroid to decide on a number of clusters to keep.\n",
    "\n",
    "- Use sklearn's [KMeans](http://scikit-learn.org/stable/modules/generated/sklearn.cluster.KMeans.html#sklearn.cluster.KMeans) class to perform k-means clustering on the PCA-transformed data.\n",
    "- Then, compute the average difference from each point to its assigned cluster's center. **Hint**: The KMeans object's `.score()` method might be useful here, but note that in sklearn, scores tend to be defined so that larger is better. Try applying it to a small, toy dataset, or use an internet search to help your understanding.\n",
    "- Perform the above two steps for a number of different cluster counts. You can then see how the average distance decreases with an increasing number of clusters. However, each additional cluster provides a smaller net benefit. Use this fact to select a final number of clusters in which to group the data. **Warning**: because of the large size of the dataset, it can take a long time for the algorithm to resolve. The more clusters to fit, the longer the algorithm will take. You should test for cluster counts through at least 10 clusters to get the full picture, but you shouldn't need to test for a number of clusters above about 30.\n",
    "- Once you've selected a final number of clusters to use, re-fit a KMeans instance to perform the clustering operation. Make sure that you also obtain the cluster assignments for the general demographics data, since you'll be using them in the final Step 3.3."
   ]
  },
  {
   "cell_type": "code",
   "execution_count": 40,
   "metadata": {},
   "outputs": [
    {
     "name": "stdout",
     "output_type": "stream",
     "text": [
      "For center: 1, score: 43265292.15720719\n",
      "For center: 2, score: 36533625.70451336\n",
      "For center: 3, score: 33199645.510501403\n",
      "For center: 4, score: 31378748.783051785\n",
      "For center: 5, score: 30063375.46493594\n",
      "For center: 6, score: 28913074.177980334\n",
      "For center: 7, score: 27829695.050322022\n",
      "For center: 8, score: 27083356.344454616\n",
      "For center: 9, score: 26555163.47875252\n",
      "For center: 10, score: 25882136.723240755\n",
      "For center: 11, score: 25372718.709654417\n",
      "For center: 12, score: 24989965.074624944\n",
      "For center: 13, score: 24971247.972739585\n",
      "For center: 14, score: 24331893.130593687\n",
      "For center: 15, score: 24066001.207560096\n"
     ]
    }
   ],
   "source": [
    "# Over a number of different cluster counts...\n",
    "scores = []\n",
    "models = []\n",
    "for center in range(1,16):\n",
    "    # run k-means clustering on the data and...\n",
    "    kmeans = KMeans(n_clusters=center)\n",
    "    models.append(kmeans.fit(new_pca)) \n",
    "    print(f\"For center: {center}, score: {np.abs(models[len(models)-1].score(new_pca))}\")\n",
    "    # compute the average within-cluster distances.\n",
    "    scores.append(np.abs(models[len(models)-1].score(new_pca)))"
   ]
  },
  {
   "cell_type": "code",
   "execution_count": 41,
   "metadata": {},
   "outputs": [
    {
     "data": {
      "image/png": "[encoded data removed]",
      "text/plain": [
       "<matplotlib.figure.Figure at 0x7fe89b0556a0>"
      ]
     },
     "metadata": {
      "needs_background": "light"
     },
     "output_type": "display_data"
    }
   ],
   "source": [
    "# Investigate the change in within-cluster distance across number of clusters.\n",
    "# HINT: Use matplotlib's plot function to visualize this relationship.\n",
    "plt.plot(range(1,16), scores, marker='x', color='g');\n",
    "plt.xlabel('K');\n",
    "plt.ylabel('SSE');\n",
    "plt.title('SSE vs. K');"
   ]
  },
  {
   "cell_type": "code",
   "execution_count": 52,
   "metadata": {},
   "outputs": [],
   "source": [
    "# Re-fit the k-means model with the selected number of clusters and obtain\n",
    "# cluster predictions for the general population demographics data.\n",
    "model = models[8]\n",
    "predict = model.predict(new_pca)"
   ]
  },
  {
   "cell_type": "code",
   "execution_count": 43,
   "metadata": {},
   "outputs": [
    {
     "data": {
      "text/plain": [
       "array([5, 0, 2, ..., 2, 6, 2], dtype=int32)"
      ]
     },
     "execution_count": 43,
     "metadata": {},
     "output_type": "execute_result"
    }
   ],
   "source": [
    "predict"
   ]
  },
  {
   "cell_type": "markdown",
   "metadata": {},
   "source": [
    "### Discussion 3.1: Apply Clustering to General Population\n",
    "\n",
    "According to the squared sum error vs score the graph shows after 9 clusters the slope of the graph started to change very slowly so i chose 9 clusters would be appropriate for clustering."
   ]
  },
  {
   "cell_type": "markdown",
   "metadata": {},
   "source": [
    "### Step 3.2: Apply All Steps to the Customer Data\n",
    "\n",
    "Now that you have clusters and cluster centers for the general population, it's time to see how the customer data maps on to those clusters. Take care to not confuse this for re-fitting all of the models to the customer data. Instead, you're going to use the fits from the general population to clean, transform, and cluster the customer data. In the last step of the project, you will interpret how the general population fits apply to the customer data.\n",
    "\n",
    "- Don't forget when loading in the customers data, that it is semicolon (`;`) delimited.\n",
    "- Apply the same feature wrangling, selection, and engineering steps to the customer demographics using the `clean_data()` function you created earlier. (You can assume that the customer demographics data has similar meaning behind missing data patterns as the general demographics data.)\n",
    "- Use the sklearn objects from the general demographics data, and apply their transformations to the customers data. That is, you should not be using a `.fit()` or `.fit_transform()` method to re-fit the old objects, nor should you be creating new sklearn objects! Carry the data through the feature scaling, PCA, and clustering steps, obtaining cluster assignments for all of the data in the customer demographics data."
   ]
  },
  {
   "cell_type": "code",
   "execution_count": 44,
   "metadata": {},
   "outputs": [],
   "source": [
    "# Load in the customer demographics data.\n",
    "customers = pd.read_csv('Udacity_CUSTOMERS_Subset.csv', delimiter=';')"
   ]
  },
  {
   "cell_type": "code",
   "execution_count": 45,
   "metadata": {},
   "outputs": [
    {
     "name": "stdout",
     "output_type": "stream",
     "text": [
      "{'WOHNLAGE', 'CAMEO_INTL_2015', 'PRAEGENDE_JUGENDJAHRE', 'LP_LEBENSPHASE_GROB', 'PLZ8_BAUMAX', 'CAMEO_DEU_2015', 'CAMEO_DEUG_2015', 'LP_LEBENSPHASE_FEIN'}\n"
     ]
    }
   ],
   "source": [
    "# Apply preprocessing, feature transformation, and clustering from the general\n",
    "# demographics onto the customer data, obtaining cluster predictions for the\n",
    "# customer demographics data.\n",
    "customers_clean = clean_data(customers)"
   ]
  },
  {
   "cell_type": "code",
   "execution_count": 46,
   "metadata": {},
   "outputs": [
    {
     "data": {
      "text/plain": [
       "set()"
      ]
     },
     "execution_count": 46,
     "metadata": {},
     "output_type": "execute_result"
    }
   ],
   "source": [
    "set(azdias_lt5).difference(customers_clean)"
   ]
  },
  {
   "cell_type": "code",
   "execution_count": 47,
   "metadata": {},
   "outputs": [
    {
     "data": {
      "text/plain": [
       "array([1, 7, 2, ..., 1, 4, 1], dtype=int32)"
      ]
     },
     "execution_count": 47,
     "metadata": {},
     "output_type": "execute_result"
    }
   ],
   "source": [
    "customers_clean[customers_clean.columns] = filler.transform(customers_clean[customers_clean.columns])\n",
    "customers_clean[customers_clean.columns] = scaler.transform(customers_clean[customers_clean.columns])\n",
    "customers_clean_pca = pca.transform(customers_clean)\n",
    "predict_customers = model.predict(customers_clean_pca)\n",
    "predict_customers"
   ]
  },
  {
   "cell_type": "markdown",
   "metadata": {},
   "source": [
    "### Step 3.3: Compare Customer Data to Demographics Data\n",
    "\n",
    "At this point, you have clustered data based on demographics of the general population of Germany, and seen how the customer data for a mail-order sales company maps onto those demographic clusters. In this final substep, you will compare the two cluster distributions to see where the strongest customer base for the company is.\n",
    "\n",
    "Consider the proportion of persons in each cluster for the general population, and the proportions for the customers. If we think the company's customer base to be universal, then the cluster assignment proportions should be fairly similar between the two. If there are only particular segments of the population that are interested in the company's products, then we should see a mismatch from one to the other. If there is a higher proportion of persons in a cluster for the customer data compared to the general population (e.g. 5% of persons are assigned to a cluster for the general population, but 15% of the customer data is closest to that cluster's centroid) then that suggests the people in that cluster to be a target audience for the company. On the other hand, the proportion of the data in a cluster being larger in the general population than the customer data (e.g. only 2% of customers closest to a population centroid that captures 6% of the data) suggests that group of persons to be outside of the target demographics.\n",
    "\n",
    "Take a look at the following points in this step:\n",
    "\n",
    "- Compute the proportion of data points in each cluster for the general population and the customer data. Visualizations will be useful here: both for the individual dataset proportions, but also to visualize the ratios in cluster representation between groups. Seaborn's [`countplot()`](https://seaborn.pydata.org/generated/seaborn.countplot.html) or [`barplot()`](https://seaborn.pydata.org/generated/seaborn.barplot.html) function could be handy.\n",
    "  - Recall the analysis you performed in step 1.1.3 of the project, where you separated out certain data points from the dataset if they had more than a specified threshold of missing values. If you found that this group was qualitatively different from the main bulk of the data, you should treat this as an additional data cluster in this analysis. Make sure that you account for the number of data points in this subset, for both the general population and customer datasets, when making your computations!\n",
    "- Which cluster or clusters are overrepresented in the customer dataset compared to the general population? Select at least one such cluster and infer what kind of people might be represented by that cluster. Use the principal component interpretations from step 2.3 or look at additional components to help you make this inference. Alternatively, you can use the `.inverse_transform()` method of the PCA and StandardScaler objects to transform centroids back to the original data space and interpret the retrieved values directly.\n",
    "- Perform a similar investigation for the underrepresented clusters. Which cluster or clusters are underrepresented in the customer dataset compared to the general population, and what kinds of people are typified by these clusters?"
   ]
  },
  {
   "cell_type": "code",
   "execution_count": 48,
   "metadata": {},
   "outputs": [
    {
     "data": {
      "text/plain": [
       "Text(0.5,1,'General Clusters')"
      ]
     },
     "execution_count": 48,
     "metadata": {},
     "output_type": "execute_result"
    },
    {
     "data": {
      "image/png": "[encoded data removed]",
      "text/plain": [
       "<matplotlib.figure.Figure at 0x7fe8ab6493c8>"
      ]
     },
     "metadata": {
      "needs_background": "light"
     },
     "output_type": "display_data"
    }
   ],
   "source": [
    "# Compare the proportion of data in each cluster for the customer data to the\n",
    "# proportion of data in each cluster for the general population.\n",
    "figure, axs = plt.subplots(nrows=1, ncols=2, figsize = (10,5))\n",
    "figure.subplots_adjust(hspace = 1, wspace=.3)\n",
    "\n",
    "sns.countplot(predict, ax=axs[0])\n",
    "axs[0].set_title('Customer Clusters')\n",
    "sns.countplot(predict_customers, ax=axs[1])\n",
    "axs[1].set_title('General Clusters')"
   ]
  },
  {
   "cell_type": "code",
   "execution_count": 53,
   "metadata": {},
   "outputs": [
    {
     "data": {
      "text/plain": [
       "ALTERSKATEGORIE_GROB        3.529036\n",
       "ANREDE_KZ                   1.966941\n",
       "CJT_GESAMTTYP               3.001868\n",
       "FINANZ_MINIMALIST           2.435147\n",
       "FINANZ_SPARER               1.941916\n",
       "FINANZ_VORSORGER            4.254759\n",
       "FINANZ_ANLEGER              2.300796\n",
       "FINANZ_UNAUFFAELLIGER       1.716560\n",
       "FINANZ_HAUSBAUER            4.393590\n",
       "FINANZTYP                   4.177488\n",
       "GFK_URLAUBERTYP             7.461199\n",
       "GREEN_AVANTGARDE            0.059019\n",
       "HEALTH_TYP                  2.034102\n",
       "LP_FAMILIE_FEIN             2.659586\n",
       "LP_FAMILIE_GROB             1.824019\n",
       "LP_STATUS_FEIN              2.015535\n",
       "LP_STATUS_GROB              1.355318\n",
       "NATIONALITAET_KZ            1.076815\n",
       "RETOURTYP_BK_S              4.293433\n",
       "SEMIO_SOZ                   2.876272\n",
       "SEMIO_FAM                   2.175328\n",
       "SEMIO_REL                   2.002887\n",
       "SEMIO_MAT                   2.490515\n",
       "SEMIO_VERT                  2.685986\n",
       "SEMIO_LUST                  5.223407\n",
       "SEMIO_ERL                   6.508694\n",
       "SEMIO_KULT                  1.901617\n",
       "SEMIO_RAT                   3.372510\n",
       "SEMIO_KRIT                  5.837018\n",
       "SEMIO_DOM                   5.833612\n",
       "                            ...     \n",
       "ANZ_HH_TITEL                0.094348\n",
       "GEBAEUDETYP                 3.358942\n",
       "KONSUMNAEHE                 2.257357\n",
       "MIN_GEBAEUDEJAHR         1992.341368\n",
       "OST_WEST_KZ                 0.702993\n",
       "KBA05_ANTG1                 0.406943\n",
       "KBA05_ANTG2                 1.315083\n",
       "KBA05_ANTG3                 1.168361\n",
       "KBA05_ANTG4                 0.623757\n",
       "KBA05_GBZ                   2.118473\n",
       "BALLRAUM                    3.436860\n",
       "EWDICHTE                    4.973734\n",
       "INNENSTADT                  3.561145\n",
       "GEBAEUDETYP_RASTER          3.468594\n",
       "MOBI_REGIO                  1.808949\n",
       "ONLINE_AFFINITAET           1.716877\n",
       "KBA13_ANZAHL_PKW          552.218624\n",
       "PLZ8_ANTG1                  1.586831\n",
       "PLZ8_ANTG2                  3.254603\n",
       "PLZ8_ANTG3                  2.296575\n",
       "PLZ8_ANTG4                  1.180961\n",
       "PLZ8_HHZ                    3.752041\n",
       "PLZ8_GBZ                    2.829903\n",
       "ARBEIT                      3.605320\n",
       "ORTSGR_KLS9                 6.594416\n",
       "RELAT_AB                    3.650033\n",
       "movement                    0.940981\n",
       "decade                      3.448603\n",
       "wealth                      4.196713\n",
       "life_stage                  2.646521\n",
       "Length: 73, dtype: float64"
      ]
     },
     "execution_count": 53,
     "metadata": {},
     "output_type": "execute_result"
    }
   ],
   "source": [
    "# What kinds of people are part of a cluster that is overrepresented in the\n",
    "# customer data compared to the general population?\n",
    "centroid_1 = scaler.inverse_transform(pca.inverse_transform(model.cluster_centers_[0]))\n",
    "overrepresented_c = pd.Series(data = centroid_1, index = customers_clean.columns)\n",
    "overrepresented_c"
   ]
  },
  {
   "cell_type": "markdown",
   "metadata": {},
   "source": [
    "After analyzing the above data it seems like the cluster represents elderly population who are more wealthy than the underrepresented cluster they show more movement compare to underrepresented cluster."
   ]
  },
  {
   "cell_type": "code",
   "execution_count": 54,
   "metadata": {
    "scrolled": true
   },
   "outputs": [
    {
     "data": {
      "text/plain": [
       "ALTERSKATEGORIE_GROB        1.692430\n",
       "ANREDE_KZ                   1.986867\n",
       "CJT_GESAMTTYP               3.963615\n",
       "FINANZ_MINIMALIST           2.332499\n",
       "FINANZ_SPARER               3.943771\n",
       "FINANZ_VORSORGER            2.230541\n",
       "FINANZ_ANLEGER              4.409014\n",
       "FINANZ_UNAUFFAELLIGER       3.791101\n",
       "FINANZ_HAUSBAUER            2.848883\n",
       "FINANZTYP                   2.577495\n",
       "GFK_URLAUBERTYP             7.769922\n",
       "GREEN_AVANTGARDE            0.190859\n",
       "HEALTH_TYP                  2.182245\n",
       "LP_FAMILIE_FEIN             5.228372\n",
       "LP_FAMILIE_GROB             2.953810\n",
       "LP_STATUS_FEIN              5.539748\n",
       "LP_STATUS_GROB              2.615929\n",
       "NATIONALITAET_KZ            1.298152\n",
       "RETOURTYP_BK_S              2.425734\n",
       "SEMIO_SOZ                   2.991823\n",
       "SEMIO_FAM                   3.673756\n",
       "SEMIO_REL                   5.140350\n",
       "SEMIO_MAT                   5.004390\n",
       "SEMIO_VERT                  2.561855\n",
       "SEMIO_LUST                  3.083403\n",
       "SEMIO_ERL                   4.312417\n",
       "SEMIO_KULT                  4.072347\n",
       "SEMIO_RAT                   6.182888\n",
       "SEMIO_KRIT                  5.398150\n",
       "SEMIO_DOM                   6.019674\n",
       "                            ...     \n",
       "ANZ_HH_TITEL                0.004920\n",
       "GEBAEUDETYP                 2.504058\n",
       "KONSUMNAEHE                 3.721270\n",
       "MIN_GEBAEUDEJAHR         1993.110440\n",
       "OST_WEST_KZ                 0.840621\n",
       "KBA05_ANTG1                 2.281861\n",
       "KBA05_ANTG2                 1.369951\n",
       "KBA05_ANTG3                 0.216999\n",
       "KBA05_ANTG4                 0.044422\n",
       "KBA05_GBZ                   3.943513\n",
       "BALLRAUM                    5.012675\n",
       "EWDICHTE                    2.944157\n",
       "INNENSTADT                  5.498016\n",
       "GEBAEUDETYP_RASTER          3.998961\n",
       "MOBI_REGIO                  3.853008\n",
       "ONLINE_AFFINITAET           3.650733\n",
       "KBA13_ANZAHL_PKW          698.281902\n",
       "PLZ8_ANTG1                  2.891197\n",
       "PLZ8_ANTG2                  2.387113\n",
       "PLZ8_ANTG3                  0.931475\n",
       "PLZ8_ANTG4                  0.225110\n",
       "PLZ8_HHZ                    3.508804\n",
       "PLZ8_GBZ                    3.939894\n",
       "ARBEIT                      2.752411\n",
       "ORTSGR_KLS9                 3.898342\n",
       "RELAT_AB                    2.469952\n",
       "movement                    0.809141\n",
       "decade                      5.661905\n",
       "wealth                      2.509347\n",
       "life_stage                  3.277060\n",
       "Length: 73, dtype: float64"
      ]
     },
     "execution_count": 54,
     "metadata": {},
     "output_type": "execute_result"
    }
   ],
   "source": [
    "# What kinds of people are part of a cluster that is underrepresented in the\n",
    "# customer data compared to the general population?\n",
    "centroid_6 = scaler.inverse_transform(pca.inverse_transform(model.cluster_centers_[6]))\n",
    "underrepresented_c = pd.Series(data = centroid_6, index = customers_clean.columns)\n",
    "underrepresented_c"
   ]
  },
  {
   "cell_type": "markdown",
   "metadata": {},
   "source": [
    "After analyzing the above data it seems like the data represents low wealth, elderly population with reduced movement."
   ]
  },
  {
   "cell_type": "markdown",
   "metadata": {},
   "source": [
    "### Discussion 3.3: Compare Customer Data to Demographics Data\n",
    "\n",
    "For cluster 4:\n",
    "    - After analyzing the above data it seems like the cluster represents elderly population whom are wealthy and still show movement patterns relatively high, with high puchasing power.\n",
    "    \n",
    "For cluster 1:\n",
    "    - After analyzing the above data it seems like the data represents low wealth, elderly population with reduced movement very low, with comparitively low purchasing power than cluster 4.    "
   ]
  },
  {
   "cell_type": "markdown",
   "metadata": {},
   "source": [
    "> Congratulations on making it this far in the project! Before you finish, make sure to check through the entire notebook from top to bottom to make sure that your analysis follows a logical flow and all of your findings are documented in **Discussion** cells. Once you've checked over all of your work, you should export the notebook as an HTML document to submit for evaluation. You can do this from the menu, navigating to **File -> Download as -> HTML (.html)**. You will submit both that document and this notebook for your project submission."
   ]
  },
  {
   "cell_type": "code",
   "execution_count": 51,
   "metadata": {},
   "outputs": [
    {
     "data": {
      "text/plain": [
       "['[NbConvertApp] Converting notebook Identify_Customer_Segments.ipynb to html',\n",
       " '[NbConvertApp] Writing 528997 bytes to Identify_Customer_Segments.html']"
      ]
     },
     "execution_count": 51,
     "metadata": {},
     "output_type": "execute_result"
    }
   ],
   "source": [
    "!!jupyter nbconvert *ipynb"
   ]
  }
 ],
 "metadata": {
  "kernelspec": {
   "display_name": "Python 3",
   "language": "python",
   "name": "python3"
  },
  "language_info": {
   "codemirror_mode": {
    "name": "ipython",
    "version": 3
   },
   "file_extension": ".py",
   "mimetype": "text/x-python",
   "name": "python",
   "nbconvert_exporter": "python",
   "pygments_lexer": "ipython3",
   "version": "3.6.3"
  }
 },
 "nbformat": 4,
 "nbformat_minor": 2
}
